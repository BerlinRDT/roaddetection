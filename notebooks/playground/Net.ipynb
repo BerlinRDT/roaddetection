{
 "cells": [
  {
   "cell_type": "code",
   "execution_count": 45,
   "metadata": {},
   "outputs": [],
   "source": [
    "import sys\n",
    "sys.path.append(\"/home/ubuntu/roaddetection/\")"
   ]
  },
  {
   "cell_type": "code",
   "execution_count": 46,
   "metadata": {},
   "outputs": [
    {
     "name": "stdout",
     "output_type": "stream",
     "text": [
      "Requirement already satisfied: keras in /home/ubuntu/.local/lib/python3.5/site-packages (2.2.2)\n",
      "Requirement already satisfied: keras-preprocessing==1.0.2 in /home/ubuntu/.local/lib/python3.5/site-packages (from keras) (1.0.2)\n",
      "Requirement already satisfied: numpy>=1.9.1 in /usr/local/lib/python3.5/dist-packages (from keras) (1.15.1)\n",
      "Requirement already satisfied: keras-applications==1.0.4 in /home/ubuntu/.local/lib/python3.5/site-packages (from keras) (1.0.4)\n",
      "Requirement already satisfied: pyyaml in /usr/lib/python3/dist-packages (from keras) (3.11)\n",
      "Requirement already satisfied: h5py in /home/ubuntu/.local/lib/python3.5/site-packages (from keras) (2.8.0)\n",
      "Requirement already satisfied: six>=1.9.0 in /usr/lib/python3/dist-packages (from keras) (1.10.0)\n",
      "Requirement already satisfied: scipy>=0.14 in /home/ubuntu/.local/lib/python3.5/site-packages (from keras) (1.1.0)\n",
      "Requirement already satisfied: scikit-image in /home/ubuntu/.local/lib/python3.5/site-packages (0.14.0)\n",
      "Requirement already satisfied: PyWavelets>=0.4.0 in /home/ubuntu/.local/lib/python3.5/site-packages (from scikit-image) (0.5.2)\n",
      "Requirement already satisfied: dask[array]>=0.9.0 in /home/ubuntu/.local/lib/python3.5/site-packages (from scikit-image) (0.18.2)\n",
      "Requirement already satisfied: matplotlib>=2.0.0 in /home/ubuntu/.local/lib/python3.5/site-packages (from scikit-image) (2.2.3)\n",
      "Requirement already satisfied: cloudpickle>=0.2.1 in /home/ubuntu/.local/lib/python3.5/site-packages (from scikit-image) (0.5.5)\n",
      "Requirement already satisfied: scipy>=0.17.0 in /home/ubuntu/.local/lib/python3.5/site-packages (from scikit-image) (1.1.0)\n",
      "Requirement already satisfied: six>=1.10.0 in /usr/lib/python3/dist-packages (from scikit-image) (1.10.0)\n",
      "Requirement already satisfied: pillow>=4.3.0 in /home/ubuntu/.local/lib/python3.5/site-packages (from scikit-image) (5.2.0)\n",
      "Requirement already satisfied: networkx>=1.8 in /home/ubuntu/.local/lib/python3.5/site-packages (from scikit-image) (2.1)\n",
      "Requirement already satisfied: numpy>=1.9.1 in /usr/local/lib/python3.5/dist-packages (from PyWavelets>=0.4.0->scikit-image) (1.15.1)\n",
      "Requirement already satisfied: toolz>=0.7.3; extra == \"array\" in /home/ubuntu/.local/lib/python3.5/site-packages (from dask[array]>=0.9.0->scikit-image) (0.9.0)\n",
      "Requirement already satisfied: python-dateutil>=2.1 in /usr/local/lib/python3.5/dist-packages (from matplotlib>=2.0.0->scikit-image) (2.7.3)\n",
      "Requirement already satisfied: pytz in /home/ubuntu/.local/lib/python3.5/site-packages (from matplotlib>=2.0.0->scikit-image) (2018.5)\n",
      "Requirement already satisfied: pyparsing!=2.0.4,!=2.1.2,!=2.1.6,>=2.0.1 in /home/ubuntu/.local/lib/python3.5/site-packages (from matplotlib>=2.0.0->scikit-image) (2.2.0)\n",
      "Requirement already satisfied: kiwisolver>=1.0.1 in /home/ubuntu/.local/lib/python3.5/site-packages (from matplotlib>=2.0.0->scikit-image) (1.0.1)\n",
      "Requirement already satisfied: cycler>=0.10 in /home/ubuntu/.local/lib/python3.5/site-packages (from matplotlib>=2.0.0->scikit-image) (0.10.0)\n",
      "Requirement already satisfied: decorator>=4.1.0 in /usr/local/lib/python3.5/dist-packages (from networkx>=1.8->scikit-image) (4.3.0)\n",
      "Requirement already satisfied: setuptools in /home/ubuntu/.local/lib/python3.5/site-packages (from kiwisolver>=1.0.1->matplotlib>=2.0.0->scikit-image) (40.2.0)\n",
      "Requirement already up-to-date: Pillow in /home/ubuntu/.local/lib/python3.5/site-packages (5.2.0)\n"
     ]
    }
   ],
   "source": [
    "!pip3 install keras --user\n",
    "!pip3 install scikit-image --user\n",
    "!pip3 install --upgrade  Pillow --user"
   ]
  },
  {
   "cell_type": "code",
   "execution_count": 47,
   "metadata": {},
   "outputs": [],
   "source": [
    "from IPython.display import display\n",
    "from PIL import Image"
   ]
  },
  {
   "cell_type": "code",
   "execution_count": 48,
   "metadata": {},
   "outputs": [],
   "source": [
    "#%load_ext autoreload\n",
    "#%autoreload 2\n",
    "\n",
    "from keras.layers import merge\n",
    "from src.models.data import *\n",
    "from src.models.model import *\n",
    "#import rasterio.plot as rioplot\n",
    "import matplotlib\n",
    "\n",
    "import matplotlib.pyplot as plt\n",
    "import matplotlib.image as mpimg\n",
    "\n",
    "%matplotlib inline"
   ]
  },
  {
   "cell_type": "code",
   "execution_count": 49,
   "metadata": {},
   "outputs": [],
   "source": [
    "import sys\n",
    "from PIL import Image\n",
    "sys.modules['Image'] = Image "
   ]
  },
  {
   "cell_type": "code",
   "execution_count": 50,
   "metadata": {},
   "outputs": [],
   "source": [
    "# print(PIL.Image)"
   ]
  },
  {
   "cell_type": "code",
   "execution_count": 51,
   "metadata": {},
   "outputs": [
    {
     "name": "stdout",
     "output_type": "stream",
     "text": [
      "/home/ubuntu/.local/lib/python3.5/site-packages/PIL/Image.py\n"
     ]
    }
   ],
   "source": [
    "from PIL import Image\n",
    "print(Image.__file__)"
   ]
  },
  {
   "cell_type": "code",
   "execution_count": 52,
   "metadata": {},
   "outputs": [
    {
     "name": "stdout",
     "output_type": "stream",
     "text": [
      "/home/ubuntu/.local/lib/python3.5/site-packages/PIL/Image.py\n"
     ]
    }
   ],
   "source": [
    "import Image\n",
    "print(Image.__file__)\n"
   ]
  },
  {
   "cell_type": "code",
   "execution_count": 53,
   "metadata": {},
   "outputs": [],
   "source": [
    "data_gen_args = dict(\n",
    "                    rotation_range=0.2,\n",
    "                    width_shift_range=0.05,\n",
    "                    height_shift_range=0.05,\n",
    "                    shear_range=0.05,\n",
    "                    zoom_range=0.05,\n",
    "                    horizontal_flip=True,\n",
    "                    fill_mode='nearest',\n",
    "                    rescale=1.0/(255),\n",
    "                    data_format=\"channels_last\"\n",
    " )\n",
    "myGene = trainGenerator(5,'../../data/train','sat','map',\n",
    "                        data_gen_args,save_to_dir = None,image_color_mode=\"rgba\", target_size=(256,256))"
   ]
  },
  {
   "cell_type": "code",
   "execution_count": null,
   "metadata": {},
   "outputs": [],
   "source": []
  },
  {
   "cell_type": "code",
   "execution_count": 54,
   "metadata": {},
   "outputs": [],
   "source": [
    "# i = 1\n",
    "# n=1\n",
    "# for  img, label in myGene:\n",
    "#     plt.figure(figsize=(5,5))\n",
    "#     print(img[0].shape)\n",
    "#     image2 = img.astype(np.uint8) \n",
    "#     drop_ir = np.delete(image2[0],3, axis=2)\n",
    "#     plt.imshow(drop_ir)\n",
    "\n",
    "#     l = label[0].reshape(1024,1024)\n",
    "#     masked = np.ma.masked_where(l == 255, l)\n",
    "#     if np.any(masked):\n",
    "#         plt.imshow(masked, cmap=\"flag\")\n",
    "\n",
    "#     i+=1\n",
    "#     if (i>=n):\n",
    "#        break \n"
   ]
  },
  {
   "cell_type": "code",
   "execution_count": 55,
   "metadata": {
    "scrolled": false
   },
   "outputs": [
    {
     "name": "stdout",
     "output_type": "stream",
     "text": [
      "<module 'keras.layers.merge' from '/home/ubuntu/.local/lib/python3.5/site-packages/keras/layers/merge.py'>\n"
     ]
    },
    {
     "name": "stderr",
     "output_type": "stream",
     "text": [
      "/home/ubuntu/roaddetection/src/models/model.py:60: UserWarning: Update your `Model` call to the Keras 2 API: `Model(inputs=Tensor(\"in..., outputs=Tensor(\"co...)`\n",
      "  model = Model(input=inputs, output=conv10)\n"
     ]
    },
    {
     "name": "stdout",
     "output_type": "stream",
     "text": [
      "__________________________________________________________________________________________________\n",
      "Layer (type)                    Output Shape         Param #     Connected to                     \n",
      "==================================================================================================\n",
      "input_5 (InputLayer)            (None, 256, 256, 4)  0                                            \n",
      "__________________________________________________________________________________________________\n",
      "conv2d_97 (Conv2D)              (None, 256, 256, 64) 2368        input_5[0][0]                    \n",
      "__________________________________________________________________________________________________\n",
      "conv2d_98 (Conv2D)              (None, 256, 256, 64) 36928       conv2d_97[0][0]                  \n",
      "__________________________________________________________________________________________________\n",
      "max_pooling2d_17 (MaxPooling2D) (None, 128, 128, 64) 0           conv2d_98[0][0]                  \n",
      "__________________________________________________________________________________________________\n",
      "conv2d_99 (Conv2D)              (None, 128, 128, 128 73856       max_pooling2d_17[0][0]           \n",
      "__________________________________________________________________________________________________\n",
      "conv2d_100 (Conv2D)             (None, 128, 128, 128 147584      conv2d_99[0][0]                  \n",
      "__________________________________________________________________________________________________\n",
      "max_pooling2d_18 (MaxPooling2D) (None, 64, 64, 128)  0           conv2d_100[0][0]                 \n",
      "__________________________________________________________________________________________________\n",
      "conv2d_101 (Conv2D)             (None, 64, 64, 256)  295168      max_pooling2d_18[0][0]           \n",
      "__________________________________________________________________________________________________\n",
      "conv2d_102 (Conv2D)             (None, 64, 64, 256)  590080      conv2d_101[0][0]                 \n",
      "__________________________________________________________________________________________________\n",
      "max_pooling2d_19 (MaxPooling2D) (None, 32, 32, 256)  0           conv2d_102[0][0]                 \n",
      "__________________________________________________________________________________________________\n",
      "conv2d_103 (Conv2D)             (None, 32, 32, 512)  1180160     max_pooling2d_19[0][0]           \n",
      "__________________________________________________________________________________________________\n",
      "conv2d_104 (Conv2D)             (None, 32, 32, 512)  2359808     conv2d_103[0][0]                 \n",
      "__________________________________________________________________________________________________\n",
      "dropout_9 (Dropout)             (None, 32, 32, 512)  0           conv2d_104[0][0]                 \n",
      "__________________________________________________________________________________________________\n",
      "max_pooling2d_20 (MaxPooling2D) (None, 16, 16, 512)  0           dropout_9[0][0]                  \n",
      "__________________________________________________________________________________________________\n",
      "conv2d_105 (Conv2D)             (None, 16, 16, 1024) 4719616     max_pooling2d_20[0][0]           \n",
      "__________________________________________________________________________________________________\n",
      "conv2d_106 (Conv2D)             (None, 16, 16, 1024) 9438208     conv2d_105[0][0]                 \n",
      "__________________________________________________________________________________________________\n",
      "dropout_10 (Dropout)            (None, 16, 16, 1024) 0           conv2d_106[0][0]                 \n",
      "__________________________________________________________________________________________________\n",
      "up_sampling2d_17 (UpSampling2D) (None, 32, 32, 1024) 0           dropout_10[0][0]                 \n",
      "__________________________________________________________________________________________________\n",
      "conv2d_107 (Conv2D)             (None, 32, 32, 512)  2097664     up_sampling2d_17[0][0]           \n",
      "__________________________________________________________________________________________________\n",
      "concatenate_17 (Concatenate)    (None, 32, 32, 1024) 0           dropout_9[0][0]                  \n",
      "                                                                 conv2d_107[0][0]                 \n",
      "__________________________________________________________________________________________________\n",
      "conv2d_108 (Conv2D)             (None, 32, 32, 512)  4719104     concatenate_17[0][0]             \n",
      "__________________________________________________________________________________________________\n",
      "conv2d_109 (Conv2D)             (None, 32, 32, 512)  2359808     conv2d_108[0][0]                 \n",
      "__________________________________________________________________________________________________\n",
      "up_sampling2d_18 (UpSampling2D) (None, 64, 64, 512)  0           conv2d_109[0][0]                 \n",
      "__________________________________________________________________________________________________\n",
      "conv2d_110 (Conv2D)             (None, 64, 64, 256)  524544      up_sampling2d_18[0][0]           \n",
      "__________________________________________________________________________________________________\n",
      "concatenate_18 (Concatenate)    (None, 64, 64, 512)  0           conv2d_102[0][0]                 \n",
      "                                                                 conv2d_110[0][0]                 \n",
      "__________________________________________________________________________________________________\n",
      "conv2d_111 (Conv2D)             (None, 64, 64, 256)  1179904     concatenate_18[0][0]             \n",
      "__________________________________________________________________________________________________\n",
      "conv2d_112 (Conv2D)             (None, 64, 64, 256)  590080      conv2d_111[0][0]                 \n",
      "__________________________________________________________________________________________________\n",
      "up_sampling2d_19 (UpSampling2D) (None, 128, 128, 256 0           conv2d_112[0][0]                 \n",
      "__________________________________________________________________________________________________\n",
      "conv2d_113 (Conv2D)             (None, 128, 128, 128 131200      up_sampling2d_19[0][0]           \n",
      "__________________________________________________________________________________________________\n",
      "concatenate_19 (Concatenate)    (None, 128, 128, 256 0           conv2d_100[0][0]                 \n",
      "                                                                 conv2d_113[0][0]                 \n",
      "__________________________________________________________________________________________________\n",
      "conv2d_114 (Conv2D)             (None, 128, 128, 128 295040      concatenate_19[0][0]             \n",
      "__________________________________________________________________________________________________\n",
      "conv2d_115 (Conv2D)             (None, 128, 128, 128 147584      conv2d_114[0][0]                 \n",
      "__________________________________________________________________________________________________\n",
      "up_sampling2d_20 (UpSampling2D) (None, 256, 256, 128 0           conv2d_115[0][0]                 \n",
      "__________________________________________________________________________________________________\n",
      "conv2d_116 (Conv2D)             (None, 256, 256, 64) 32832       up_sampling2d_20[0][0]           \n",
      "__________________________________________________________________________________________________\n",
      "concatenate_20 (Concatenate)    (None, 256, 256, 128 0           conv2d_98[0][0]                  \n",
      "                                                                 conv2d_116[0][0]                 \n",
      "__________________________________________________________________________________________________\n",
      "conv2d_117 (Conv2D)             (None, 256, 256, 64) 73792       concatenate_20[0][0]             \n",
      "__________________________________________________________________________________________________\n",
      "conv2d_118 (Conv2D)             (None, 256, 256, 64) 36928       conv2d_117[0][0]                 \n",
      "__________________________________________________________________________________________________\n",
      "conv2d_119 (Conv2D)             (None, 256, 256, 2)  1154        conv2d_118[0][0]                 \n",
      "__________________________________________________________________________________________________\n",
      "conv2d_120 (Conv2D)             (None, 256, 256, 1)  3           conv2d_119[0][0]                 \n",
      "==================================================================================================\n",
      "Total params: 31,033,413\n",
      "Trainable params: 31,033,413\n",
      "Non-trainable params: 0\n",
      "__________________________________________________________________________________________________\n"
     ]
    },
    {
     "name": "stdout",
     "output_type": "stream",
     "text": [
      "Epoch 1/5\n",
      "Found 312 images belonging to 1 classes.\n",
      "Found 312 images belonging to 1 classes.\n",
      "100/100 [==============================] - 95s 953ms/step - loss: 0.6907 - acc: 0.9972\n",
      "\n",
      "Epoch 00001: loss improved from inf to 0.69074, saving model to unet_membrane_analytic.hdf5\n",
      "Epoch 2/5\n",
      "100/100 [==============================] - 89s 886ms/step - loss: 0.6857 - acc: 0.9974\n",
      "\n",
      "Epoch 00002: loss improved from 0.69074 to 0.68573, saving model to unet_membrane_analytic.hdf5\n",
      "Epoch 3/5\n",
      "100/100 [==============================] - 88s 883ms/step - loss: 0.6808 - acc: 0.9976\n",
      "\n",
      "Epoch 00003: loss improved from 0.68573 to 0.68079, saving model to unet_membrane_analytic.hdf5\n",
      "Epoch 4/5\n",
      "100/100 [==============================] - 88s 878ms/step - loss: 0.6759 - acc: 0.9976\n",
      "\n",
      "Epoch 00004: loss improved from 0.68079 to 0.67590, saving model to unet_membrane_analytic.hdf5\n",
      "Epoch 5/5\n",
      "100/100 [==============================] - 88s 883ms/step - loss: 0.6711 - acc: 0.9975\n",
      "\n",
      "Epoch 00005: loss improved from 0.67590 to 0.67106, saving model to unet_membrane_analytic.hdf5\n"
     ]
    },
    {
     "data": {
      "text/plain": [
       "<keras.callbacks.History at 0x7fa9173794a8>"
      ]
     },
     "execution_count": 55,
     "metadata": {},
     "output_type": "execute_result"
    }
   ],
   "source": [
    "model = unet()\n",
    "model_checkpoint = ModelCheckpoint('unet_membrane_analytic.hdf5', monitor='loss',verbose=1, save_best_only=True)\n",
    "model.fit_generator(myGene,steps_per_epoch=100,epochs=5,callbacks=[model_checkpoint])"
   ]
  },
  {
   "cell_type": "code",
   "execution_count": null,
   "metadata": {},
   "outputs": [],
   "source": []
  }
 ],
 "metadata": {
  "kernelspec": {
   "display_name": "Python 3",
   "language": "python",
   "name": "python3"
  }
 },
 "nbformat": 4,
 "nbformat_minor": 2
}
