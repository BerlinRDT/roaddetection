{
 "cells": [
  {
   "cell_type": "markdown",
   "metadata": {},
   "source": [
    "# Run network model"
   ]
  },
  {
   "cell_type": "code",
   "execution_count": 1,
   "metadata": {},
   "outputs": [
    {
     "name": "stderr",
     "output_type": "stream",
     "text": [
      "Using TensorFlow backend.\n"
     ]
    }
   ],
   "source": [
    "%load_ext autoreload\n",
    "%autoreload 2\n",
    "\n",
    "#from keras.layers import merge\n",
    "from src.models.data import *\n",
    "from src.models.model import *\n",
    "from src.data.utils import get_tile_prefix\n",
    "from src.models.metrics_img import auc_roc\n",
    "#import rasterio.plot as rioplot\n",
    "import matplotlib\n",
    "import matplotlib.pyplot as plt\n",
    "#import matplotlib.image as mpimg\n",
    "\n",
    "from keras.callbacks import ModelCheckpoint, LearningRateScheduler, EarlyStopping\n",
    "\n",
    "from pathlib import Path\n",
    "import os, shutil\n",
    "import sys\n",
    "%matplotlib inline"
   ]
  },
  {
   "cell_type": "markdown",
   "metadata": {},
   "source": [
    "## User settings"
   ]
  },
  {
   "cell_type": "code",
   "execution_count": 3,
   "metadata": {},
   "outputs": [],
   "source": [
    "# paths to append\n",
    "sys.path.append(\"/home/ubuntu/roaddetection/\")\n",
    "sys.path.append(\"/media/hh/hd_internal/hh/DSR_Berlin_2018/roaddetection/\")\n",
    "\n",
    "# ------------- image characteristics and augmentation -----------------------------\n",
    "# size of tiles\n",
    "target_size = (512,512)\n",
    "# input arguments to Keras' ImageDataGenerator\n",
    "data_gen_args = dict(\n",
    "                    data_format=\"channels_last\",\n",
    "                    horizontal_flip=True, \n",
    "                    vertical_flip=True\n",
    " )\n",
    "# if True, image tiles will be split up into training/validation/test sets\n",
    "# only required after a fresh 'make data'\n",
    "do_data_split = False\n",
    "# directory into which to place *training* images from ImageDataGenerator for inspection;\n",
    "# default should be None because this slows things down\n",
    "imgdatagen_dir = None\n",
    "#imgdatagen_dir = '../../data/imgdatagenerator'\n",
    "\n",
    "#--------------- network weights ----------------------------------------------------\n",
    "# path to & filename of pre-trained model to use - set to None if you want to start from scratch\n",
    "# pretrained_model_fn = \"../../models/unet_membrane_analytic_27_08_14_55.hdf5\"\n",
    "pretrained_model_fn = '../../models/unet_only_borneo_03_09_10_51.hdf5'\n",
    "\n",
    "# path to & filename of model to save\n",
    "trained_model_fn = '../../models/unet_only_borneo_03_09_10_51.hdf5'\n",
    "\n",
    "#--------------- training details / hyperparameters -----------------------------------\n",
    "# batch size\n",
    "batch_size = 3\n",
    "# steps per epoch, should correspond to [number of training images] / batch size\n",
    "steps_per_epoch = 100\n",
    "# number of epochs\n",
    "epochs = 5\n",
    "# number of steps on validation set\n",
    "validation_steps = 20\n",
    "# self-explanatory variables:\n",
    "optimizer = Adam(lr=1e-4)\n",
    "loss = 'binary_crossentropy'\n",
    "loss_weights = None\n",
    "metrics = ['accuracy', auc_roc]"
   ]
  },
  {
   "cell_type": "markdown",
   "metadata": {},
   "source": [
    "### Define and make (if necessary) train/validation/test directories"
   ]
  },
  {
   "cell_type": "code",
   "execution_count": 4,
   "metadata": {},
   "outputs": [],
   "source": [
    "original_dataset_dir = \"../../data/train\"\n",
    "raw_images_path = \"../../data/raw/images\"\n",
    "dirs = []\n",
    "\n",
    "base_dir = \"../../data\"\n",
    "\n",
    "train_dir = os.path.join(base_dir, \"train\")\n",
    "dirs.append(train_dir)\n",
    "validation_dir = os.path.join(base_dir, \"validate\")\n",
    "dirs.append(validation_dir)\n",
    "test_dir = os.path.join(base_dir, \"test\")\n",
    "dirs.append(test_dir)"
   ]
  },
  {
   "cell_type": "code",
   "execution_count": 5,
   "metadata": {},
   "outputs": [],
   "source": [
    "for directory in dirs:\n",
    "    if not os.path.exists(directory):\n",
    "        os.mkdir(directory)"
   ]
  },
  {
   "cell_type": "code",
   "execution_count": 6,
   "metadata": {},
   "outputs": [
    {
     "name": "stdout",
     "output_type": "stream",
     "text": [
      "0\n",
      "Deleting 0 tiles with no roads\n"
     ]
    }
   ],
   "source": [
    "# Delete map, sat, sat_rgb tiles with (almost) zero road labels \n",
    "\n",
    "import skimage.io as io\n",
    "\n",
    "def should_delete(fname):\n",
    "    img = io.imread(fname.as_posix())\n",
    "    almost_empty = not len(img[img!=0.0]) > 5000\n",
    "#     almost_empty = not np.any(img)\n",
    "    return almost_empty\n",
    "    \n",
    "tiles_with_no_roads = [ fname.name for fname in \n",
    "                          Path( os.path.join(train_dir, 'map')).iterdir() \n",
    "                       if should_delete(fname) ]\n",
    "\n",
    "print(len(tiles_with_no_roads))\n",
    "print(\"Deleting {} tiles with no roads\".format(len(tiles_with_no_roads)))\n",
    "for fname in tiles_with_no_roads:\n",
    "    for file_type in [\"sat\", \"map\", \"sat_rgb\"]:\n",
    "        src = os.path.join(train_dir, file_type, fname)\n",
    "        if(os.path.exists(src)):\n",
    "            os.remove(src)"
   ]
  },
  {
   "cell_type": "markdown",
   "metadata": {},
   "source": [
    "### Split data up into train/validation/test images"
   ]
  },
  {
   "cell_type": "code",
   "execution_count": 7,
   "metadata": {},
   "outputs": [],
   "source": [
    "if do_data_split:\n",
    "    def should_make_tiles_from(r_analytic_name):\n",
    "        is_analytic_tif = r_analytic_name.endswith(\n",
    "            ('AnalyticMS.tif', 'AnalyticMS_SR.tif', 'AnalyticMS.tiff', 'AnalyticMS_SR.tiff')\n",
    "        )\n",
    "        return is_analytic_tif \n",
    "\n",
    "    file_prefixes = [ get_tile_prefix(r_analytic.name) \n",
    "                      for r_analytic in Path(raw_images_path).iterdir()  \n",
    "                        if  should_make_tiles_from(r_analytic.name)\n",
    "                    ]\n",
    "#     print(file_prefixes)\n",
    "\n",
    "    # move files to validation dir\n",
    "    validation_fnames = [\"{0:s}_{1:04d}.tif\".format(prefix, i) for i in range(10,45) for prefix in file_prefixes]\n",
    "    for fname in validation_fnames:\n",
    "        for file_type in [\"sat\", \"map\", \"sat_rgb\"]:\n",
    "            src = os.path.join(train_dir, file_type, fname)\n",
    "            dest = os.path.join(validation_dir, file_type, fname)\n",
    "            if(os.path.exists(src)):\n",
    "                shutil.move(src, dest)\n",
    "    # move files to test dir\n",
    "    test_fnames = [\"{0:s}_{1:04d}.tif\".format(prefix, i) for i in range(40,60) for prefix in file_prefixes]\n",
    "    for fname in test_fnames:\n",
    "        for file_type in [\"sat\", \"map\", \"sat_rgb\"]:\n",
    "            src = os.path.join(train_dir, file_type, fname)\n",
    "            dest = os.path.join(test_dir, file_type, fname)\n",
    "            if(os.path.exists(src)):\n",
    "                shutil.move(src, dest)\n",
    "    # print overview\n",
    "    for directory in dirs:\n",
    "        for file_type in [\"sat\", \"map\", \"sat_rgb\"]:\n",
    "            target = os.path.join(directory, file_type)\n",
    "            print(target, \":\", len(os.listdir(target)))\n",
    "\n",
    "    print(\"Done.\")"
   ]
  },
  {
   "cell_type": "markdown",
   "metadata": {},
   "source": [
    "### Set up ImageDataGenerators for training and validation sets"
   ]
  },
  {
   "cell_type": "code",
   "execution_count": 8,
   "metadata": {},
   "outputs": [],
   "source": [
    "train_gen = trainGenerator(batch_size,'../../data/train','sat','map',\n",
    "                        data_gen_args, save_to_dir = imgdatagen_dir, image_color_mode=\"rgba\", target_size=target_size)\n",
    "\n",
    "validation_gen = trainGenerator(batch_size,'../../data/validate','sat','map',\n",
    "                        data_gen_args, save_to_dir = None, image_color_mode=\"rgba\", target_size=target_size)"
   ]
  },
  {
   "cell_type": "markdown",
   "metadata": {},
   "source": [
    "### Define model, compile, show summary, possibly load weights, define callbacks (including checkpoints)"
   ]
  },
  {
   "cell_type": "code",
   "execution_count": 9,
   "metadata": {},
   "outputs": [
    {
     "name": "stderr",
     "output_type": "stream",
     "text": [
      "/home/ubuntu/roaddetection/src/models/model.py:58: UserWarning: Update your `Model` call to the Keras 2 API: `Model(inputs=Tensor(\"in..., outputs=Tensor(\"co...)`\n",
      "  model = Model(input=inputs, output=conv10)\n"
     ]
    },
    {
     "name": "stdout",
     "output_type": "stream",
     "text": [
      "__________________________________________________________________________________________________\n",
      "Layer (type)                    Output Shape         Param #     Connected to                     \n",
      "==================================================================================================\n",
      "input_1 (InputLayer)            (None, 512, 512, 4)  0                                            \n",
      "__________________________________________________________________________________________________\n",
      "conv2d_1 (Conv2D)               (None, 512, 512, 64) 2368        input_1[0][0]                    \n",
      "__________________________________________________________________________________________________\n",
      "conv2d_2 (Conv2D)               (None, 512, 512, 64) 36928       conv2d_1[0][0]                   \n",
      "__________________________________________________________________________________________________\n",
      "max_pooling2d_1 (MaxPooling2D)  (None, 256, 256, 64) 0           conv2d_2[0][0]                   \n",
      "__________________________________________________________________________________________________\n",
      "conv2d_3 (Conv2D)               (None, 256, 256, 128 73856       max_pooling2d_1[0][0]            \n",
      "__________________________________________________________________________________________________\n",
      "conv2d_4 (Conv2D)               (None, 256, 256, 128 147584      conv2d_3[0][0]                   \n",
      "__________________________________________________________________________________________________\n",
      "max_pooling2d_2 (MaxPooling2D)  (None, 128, 128, 128 0           conv2d_4[0][0]                   \n",
      "__________________________________________________________________________________________________\n",
      "conv2d_5 (Conv2D)               (None, 128, 128, 256 295168      max_pooling2d_2[0][0]            \n",
      "__________________________________________________________________________________________________\n",
      "conv2d_6 (Conv2D)               (None, 128, 128, 256 590080      conv2d_5[0][0]                   \n",
      "__________________________________________________________________________________________________\n",
      "max_pooling2d_3 (MaxPooling2D)  (None, 64, 64, 256)  0           conv2d_6[0][0]                   \n",
      "__________________________________________________________________________________________________\n",
      "conv2d_7 (Conv2D)               (None, 64, 64, 512)  1180160     max_pooling2d_3[0][0]            \n",
      "__________________________________________________________________________________________________\n",
      "conv2d_8 (Conv2D)               (None, 64, 64, 512)  2359808     conv2d_7[0][0]                   \n",
      "__________________________________________________________________________________________________\n",
      "dropout_1 (Dropout)             (None, 64, 64, 512)  0           conv2d_8[0][0]                   \n",
      "__________________________________________________________________________________________________\n",
      "max_pooling2d_4 (MaxPooling2D)  (None, 32, 32, 512)  0           dropout_1[0][0]                  \n",
      "__________________________________________________________________________________________________\n",
      "conv2d_9 (Conv2D)               (None, 32, 32, 1024) 4719616     max_pooling2d_4[0][0]            \n",
      "__________________________________________________________________________________________________\n",
      "conv2d_10 (Conv2D)              (None, 32, 32, 1024) 9438208     conv2d_9[0][0]                   \n",
      "__________________________________________________________________________________________________\n",
      "dropout_2 (Dropout)             (None, 32, 32, 1024) 0           conv2d_10[0][0]                  \n",
      "__________________________________________________________________________________________________\n",
      "up_sampling2d_1 (UpSampling2D)  (None, 64, 64, 1024) 0           dropout_2[0][0]                  \n",
      "__________________________________________________________________________________________________\n",
      "conv2d_11 (Conv2D)              (None, 64, 64, 512)  2097664     up_sampling2d_1[0][0]            \n",
      "__________________________________________________________________________________________________\n",
      "concatenate_1 (Concatenate)     (None, 64, 64, 1024) 0           dropout_1[0][0]                  \n",
      "                                                                 conv2d_11[0][0]                  \n",
      "__________________________________________________________________________________________________\n",
      "conv2d_12 (Conv2D)              (None, 64, 64, 512)  4719104     concatenate_1[0][0]              \n",
      "__________________________________________________________________________________________________\n",
      "conv2d_13 (Conv2D)              (None, 64, 64, 512)  2359808     conv2d_12[0][0]                  \n",
      "__________________________________________________________________________________________________\n",
      "up_sampling2d_2 (UpSampling2D)  (None, 128, 128, 512 0           conv2d_13[0][0]                  \n",
      "__________________________________________________________________________________________________\n",
      "conv2d_14 (Conv2D)              (None, 128, 128, 256 524544      up_sampling2d_2[0][0]            \n",
      "__________________________________________________________________________________________________\n",
      "concatenate_2 (Concatenate)     (None, 128, 128, 512 0           conv2d_6[0][0]                   \n",
      "                                                                 conv2d_14[0][0]                  \n",
      "__________________________________________________________________________________________________\n",
      "conv2d_15 (Conv2D)              (None, 128, 128, 256 1179904     concatenate_2[0][0]              \n",
      "__________________________________________________________________________________________________\n",
      "conv2d_16 (Conv2D)              (None, 128, 128, 256 590080      conv2d_15[0][0]                  \n",
      "__________________________________________________________________________________________________\n",
      "up_sampling2d_3 (UpSampling2D)  (None, 256, 256, 256 0           conv2d_16[0][0]                  \n",
      "__________________________________________________________________________________________________\n",
      "conv2d_17 (Conv2D)              (None, 256, 256, 128 131200      up_sampling2d_3[0][0]            \n",
      "__________________________________________________________________________________________________\n",
      "concatenate_3 (Concatenate)     (None, 256, 256, 256 0           conv2d_4[0][0]                   \n",
      "                                                                 conv2d_17[0][0]                  \n",
      "__________________________________________________________________________________________________\n",
      "conv2d_18 (Conv2D)              (None, 256, 256, 128 295040      concatenate_3[0][0]              \n",
      "__________________________________________________________________________________________________\n",
      "conv2d_19 (Conv2D)              (None, 256, 256, 128 147584      conv2d_18[0][0]                  \n",
      "__________________________________________________________________________________________________\n",
      "up_sampling2d_4 (UpSampling2D)  (None, 512, 512, 128 0           conv2d_19[0][0]                  \n",
      "__________________________________________________________________________________________________\n",
      "conv2d_20 (Conv2D)              (None, 512, 512, 64) 32832       up_sampling2d_4[0][0]            \n",
      "__________________________________________________________________________________________________\n",
      "concatenate_4 (Concatenate)     (None, 512, 512, 128 0           conv2d_2[0][0]                   \n",
      "                                                                 conv2d_20[0][0]                  \n",
      "__________________________________________________________________________________________________\n",
      "conv2d_21 (Conv2D)              (None, 512, 512, 64) 73792       concatenate_4[0][0]              \n",
      "__________________________________________________________________________________________________\n",
      "conv2d_22 (Conv2D)              (None, 512, 512, 64) 36928       conv2d_21[0][0]                  \n",
      "__________________________________________________________________________________________________\n",
      "conv2d_23 (Conv2D)              (None, 512, 512, 2)  1154        conv2d_22[0][0]                  \n",
      "__________________________________________________________________________________________________\n",
      "conv2d_24 (Conv2D)              (None, 512, 512, 1)  3           conv2d_23[0][0]                  \n",
      "==================================================================================================\n",
      "Total params: 31,033,413\n",
      "Trainable params: 31,033,413\n",
      "Non-trainable params: 0\n",
      "__________________________________________________________________________________________________\n"
     ]
    }
   ],
   "source": [
    "model = unet()\n",
    "model.compile(optimizer=optimizer,\n",
    "              loss=loss,\n",
    "              loss_weights=loss_weights,\n",
    "              metrics=metrics)\n",
    "model.summary()\n",
    "if (pretrained_model_fn):\n",
    "    model.load_weights(pretrained_model_fn)\n",
    "model_checkpoint = ModelCheckpoint(trained_model_fn, monitor='loss',verbose=1, save_best_only=True)\n",
    "\n",
    "#Stop training if loss doesn't improve for 2 consecutive epochs\n",
    "early_stop = EarlyStopping(monitor='loss', min_delta=0, patience=2, verbose=1, mode='auto', baseline=None)"
   ]
  },
  {
   "cell_type": "markdown",
   "metadata": {},
   "source": [
    "### Run training"
   ]
  },
  {
   "cell_type": "code",
   "execution_count": 10,
   "metadata": {
    "scrolled": false
   },
   "outputs": [
    {
     "name": "stdout",
     "output_type": "stream",
     "text": [
      "Epoch 1/5\n",
      "Found 15 images belonging to 1 classes.\n",
      "Found 150 images belonging to 1 classes.\n",
      "Found 150 images belonging to 1 classes.\n",
      "Found 15 images belonging to 1 classes.\n",
      "100/100 [==============================] - 268s 3s/step - loss: 0.1203 - acc: 0.9692 - auc_roc: 0.7093 - val_loss: 0.1087 - val_acc: 0.9766 - val_auc_roc: 0.7755\n",
      "\n",
      "Epoch 00001: loss improved from inf to 0.12028, saving model to ../../models/unet_only_borneo_03_09_10_51.hdf5\n",
      "Epoch 2/5\n",
      "100/100 [==============================] - 248s 2s/step - loss: 0.1099 - acc: 0.9692 - auc_roc: 0.7890 - val_loss: 0.0926 - val_acc: 0.9766 - val_auc_roc: 0.8033\n",
      "\n",
      "Epoch 00002: loss improved from 0.12028 to 0.10995, saving model to ../../models/unet_only_borneo_03_09_10_51.hdf5\n",
      "Epoch 3/5\n",
      "100/100 [==============================] - 248s 2s/step - loss: 0.1056 - acc: 0.9692 - auc_roc: 0.8113 - val_loss: 0.0946 - val_acc: 0.9766 - val_auc_roc: 0.8181\n",
      "\n",
      "Epoch 00003: loss improved from 0.10995 to 0.10561, saving model to ../../models/unet_only_borneo_03_09_10_51.hdf5\n",
      "Epoch 4/5\n",
      "100/100 [==============================] - 249s 2s/step - loss: 0.0999 - acc: 0.9692 - auc_roc: 0.8251 - val_loss: 0.0932 - val_acc: 0.9766 - val_auc_roc: 0.8306\n",
      "\n",
      "Epoch 00004: loss improved from 0.10561 to 0.09988, saving model to ../../models/unet_only_borneo_03_09_10_51.hdf5\n",
      "Epoch 5/5\n",
      "100/100 [==============================] - 248s 2s/step - loss: 0.0956 - acc: 0.9692 - auc_roc: 0.8355 - val_loss: 0.0906 - val_acc: 0.9766 - val_auc_roc: 0.8408\n",
      "\n",
      "Epoch 00005: loss improved from 0.09988 to 0.09555, saving model to ../../models/unet_only_borneo_03_09_10_51.hdf5\n"
     ]
    }
   ],
   "source": [
    "history = model.fit_generator(train_gen,\n",
    "                              steps_per_epoch=steps_per_epoch,\n",
    "                              epochs=epochs,\n",
    "                              callbacks=[model_checkpoint, early_stop],\n",
    "                              validation_data=validation_gen,\n",
    "                              validation_steps=validation_steps\n",
    "                             )"
   ]
  },
  {
   "cell_type": "code",
   "execution_count": 11,
   "metadata": {},
   "outputs": [
    {
     "data": {
      "image/png": "[encoded data removed]",
      "text/plain": [
       "<Figure size 432x288 with 1 Axes>"
      ]
     },
     "metadata": {},
     "output_type": "display_data"
    },
    {
     "data": {
      "image/png": "[encoded data removed]",
      "text/plain": [
       "<Figure size 432x288 with 1 Axes>"
      ]
     },
     "metadata": {},
     "output_type": "display_data"
    },
    {
     "data": {
      "image/png": "[encoded data removed]",
      "text/plain": [
       "<Figure size 432x288 with 1 Axes>"
      ]
     },
     "metadata": {},
     "output_type": "display_data"
    }
   ],
   "source": [
    "import matplotlib.pyplot as plt\n",
    "\n",
    "def plot_history(history):\n",
    "    plt.plot(history[\"acc\"], label=\"acc\")\n",
    "    plt.plot(history[\"val_acc\"], label=\"val_acc\")\n",
    "    plt.legend()\n",
    "    plt.show()\n",
    "    plt.close()\n",
    "    \n",
    "    plt.plot(history[\"loss\"], label=\"loss\")\n",
    "    plt.plot(history[\"val_loss\"], label=\"val_loss\")\n",
    "    plt.legend()\n",
    "    plt.show()\n",
    "    plt.close()\n",
    "\n",
    "    plt.plot(history[\"auc_roc\"], label=\"auc_roc\")\n",
    "    plt.plot(history[\"val_auc_roc\"], label=\"val_auc_roc\")\n",
    "    plt.legend()\n",
    "    plt.show()\n",
    "    plt.close()\n",
    "\n",
    "plot_history(history.history)"
   ]
  },
  {
   "cell_type": "code",
   "execution_count": 12,
   "metadata": {
    "scrolled": false
   },
   "outputs": [
    {
     "name": "stderr",
     "output_type": "stream",
     "text": [
      "/home/ubuntu/.local/lib/python3.5/site-packages/skimage/io/_io.py:140: UserWarning: ../../data/test/predict/20171013_232848_0c46_3B_0051.tif is a low contrast image\n",
      "  warn('%s is a low contrast image' % fname)\n",
      "/home/ubuntu/.local/lib/python3.5/site-packages/skimage/io/_io.py:140: UserWarning: ../../data/test/predict/20171013_232848_0c46_3B_0050.tif is a low contrast image\n",
      "  warn('%s is a low contrast image' % fname)\n",
      "/home/ubuntu/.local/lib/python3.5/site-packages/skimage/io/_io.py:140: UserWarning: ../../data/test/predict/20171013_232848_0c46_3B_0058.tif is a low contrast image\n",
      "  warn('%s is a low contrast image' % fname)\n"
     ]
    }
   ],
   "source": [
    "testGene = testGenerator(\"../../data/test/sat\",target_size=(512,512),as_gray=False)\n",
    "n = 0\n",
    "for img, name in testGene:\n",
    "    results = model.predict(img, batch_size=1)\n",
    "    saveResult(\"../../data/test/predict\", results, name)\n",
    "    n += 1\n",
    "    if(n>300):\n",
    "        break"
   ]
  }
 ],
 "metadata": {
  "kernelspec": {
   "display_name": "Python 3",
   "language": "python",
   "name": "python3"
  },
  "language_info": {
   "codemirror_mode": {
    "name": "ipython",
    "version": 3
   },
   "file_extension": ".py",
   "mimetype": "text/x-python",
   "name": "python",
   "nbconvert_exporter": "python",
   "pygments_lexer": "ipython3",
   "version": "3.5.2"
  }
 },
 "nbformat": 4,
 "nbformat_minor": 2
}
