{
 "cells": [
  {
   "cell_type": "code",
   "execution_count": 1,
   "metadata": {},
   "outputs": [
    {
     "name": "stderr",
     "output_type": "stream",
     "text": [
      "/home/lisa/anaconda3/lib/python3.6/importlib/_bootstrap.py:219: RuntimeWarning: numpy.dtype size changed, may indicate binary incompatibility. Expected 96, got 88\n",
      "  return f(*args, **kwds)\n"
     ]
    }
   ],
   "source": [
    "import matplotlib\n",
    "matplotlib.use('nbagg')\n",
    "\n",
    "import fiona\n",
    "import numpy as np\n",
    "from pathlib import Path\n",
    "import os\n",
    "\n",
    "import rasterio as rio\n",
    "from rasterio import windows\n",
    "from rasterio import features\n",
    "import rasterio.plot as rioplot\n",
    "from rasterio.warp import transform_bounds\n",
    "\n",
    "from itertools import product\n",
    "from rtree import index\n",
    "\n",
    "from shapely.geometry import mapping, LineString, shape, Polygon, box\n",
    "from shapely import wkt\n",
    "import json\n",
    "\n",
    "import matplotlib.pyplot as plt\n",
    "#%matplotlib inline \n",
    "\n",
    "\n",
    "import geopandas as gp\n",
    "import pandas as pd\n",
    "import osmnx as ox\n",
    "\n",
    "from functools import partial\n",
    "import pyproj \n",
    "from shapely.ops import transform\n",
    "\n",
    "import matplotlib.pyplot as plt\n",
    "import matplotlib.colors as colors\n",
    "\n",
    "#os_unpaved = ['service', 'residential', 'track', 'unclassified', 'living_street']\n",
    "os_paved = ['motorway', 'trunk', 'primary', 'secondary', 'tertiary', 'primary_link', 'secondary_link', 'tertiary_link']\n"
   ]
  },
  {
   "cell_type": "code",
   "execution_count": 2,
   "metadata": {},
   "outputs": [],
   "source": [
    "DST_CRS    = 'EPSG:4326'\n",
    "BORNEO_CRS = 'EPSG:32650'\n",
    "\n",
    "DATADIR = \"/home/lisa/Schreibtisch/Projekt/roadDetection/data/\"\n",
    "\n",
    "BOXDIR = DATADIR + \"bounding_boxes/\"\n",
    "LABDIR = DATADIR + \"OSM_extract/\""
   ]
  },
  {
   "cell_type": "code",
   "execution_count": 3,
   "metadata": {},
   "outputs": [],
   "source": [
    "def clean_streets(allroads):\n",
    "    if 'tag_0' not in allroads:\n",
    "        tags = allroads['highway'].apply(pd.Series)\n",
    "        tags = tags.rename(columns = lambda x : 'tag_' + str(x))\n",
    "        newlines = pd.concat([allroads[:], tags[:]], axis=1)\n",
    "    else:\n",
    "        newlines = allroads\n",
    "    newlines = newlines\n",
    "    newlines.crs = {'init' : BORNEO_CRS}\n",
    "    return newlines.to_crs({'init': DST_CRS})"
   ]
  },
  {
   "cell_type": "code",
   "execution_count": 4,
   "metadata": {},
   "outputs": [],
   "source": [
    "def label_roads(allroads):\n",
    "    allroads.name                                            = 'transformed_label_2'\n",
    "    allroads.loc[allroads['tag_0'].isin(os_paved), 'name']   = 'transformed_label_1'\n",
    "    allroads['label']                                        = 2\n",
    "    allroads.loc[allroads['tag_0'].isin(os_paved), 'label']  = 1\n",
    "    return allroads"
   ]
  },
  {
   "cell_type": "code",
   "execution_count": 5,
   "metadata": {},
   "outputs": [],
   "source": [
    "def extract_streets(gdf):\n",
    "    G = ox.graph_from_polygon(Polygon(gdf.boundary[0]), network_type='all')\n",
    "    G_projected  = ox.project_graph(G)\n",
    "    nodes, lines = ox.graph_to_gdfs(G_projected)\n",
    "    clean_lines  = clean_streets(lines)\n",
    "    return label_roads(clean_lines)"
   ]
  },
  {
   "cell_type": "code",
   "execution_count": 6,
   "metadata": {},
   "outputs": [],
   "source": [
    "def save_roads(dst_dir, dst_name, roads):\n",
    "    roads.to_file(dst_dir + dst_name + '.shp', driver='ESRI Shapefile')\n",
    "    with open(dst_dir + dst_name + '.geojson', 'w') as f:\n",
    "        f.write(roads.to_json())"
   ]
  },
  {
   "cell_type": "code",
   "execution_count": 8,
   "metadata": {},
   "outputs": [],
   "source": [
    "\n",
    "for file in Path(BOXDIR).iterdir():\n",
    "    if file.name.endswith(('.geojson')):\n",
    "        regId = (file.name.rsplit('_')[1]).split('.')[0]\n",
    "        outputName = 'RoadLabels_RDT_' + regId + '_OSM'\n",
    "\n",
    "        gdf = gp.read_file(BOXDIR + file.name)\n",
    "        lines = extract_streets(gdf)\n",
    "        lines = lines.loc[:, ['geometry', 'name', 'label', 'tag_0']]\n",
    "        save_roads(LABDIR, outputName, lines)\n"
   ]
  }
 ],
 "metadata": {
  "kernelspec": {
   "display_name": "Python 3",
   "language": "python",
   "name": "python3"
  },
  "language_info": {
   "codemirror_mode": {
    "name": "ipython",
    "version": 3
   },
   "file_extension": ".py",
   "mimetype": "text/x-python",
   "name": "python",
   "nbconvert_exporter": "python",
   "pygments_lexer": "ipython3",
   "version": "3.6.5"
  }
 },
 "nbformat": 4,
 "nbformat_minor": 2
}
