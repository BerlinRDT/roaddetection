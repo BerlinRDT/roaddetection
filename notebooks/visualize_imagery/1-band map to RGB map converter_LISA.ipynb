{
 "cells": [
  {
   "cell_type": "markdown",
   "metadata": {},
   "source": [
    "# 1-band map to RGB map converter\n",
    "\n",
    "ToDo:\n",
    "\n",
    "* label 3?\n",
    "* hard-coded CSR\n",
    "* 255 -> 0 nodata value\n"
   ]
  },
  {
   "cell_type": "code",
   "execution_count": null,
   "metadata": {},
   "outputs": [],
   "source": [
    "#%matplotlib inline\n",
    "import numpy as np\n",
    "from pathlib import Path\n",
    "import os\n",
    "import rasterio as rio\n",
    "import rasterio.plot as rioplot\n",
    "import numpy as np\n",
    "import matplotlib.pyplot as plt\n",
    "import matplotlib.pyplot as plt\n",
    "import numpy as np\n",
    "\n",
    "from skimage import data, img_as_float\n",
    "from skimage import exposure\n",
    "from PIL import Image\n",
    "\n",
    "dictBands = {'b': (0,2), 'g': (1,1), 'r': (2,0)}"
   ]
  },
  {
   "cell_type": "code",
   "execution_count": null,
   "metadata": {},
   "outputs": [],
   "source": [
    "plt.rcParams[\"figure.figsize\"] = (20,12)"
   ]
  },
  {
   "cell_type": "code",
   "execution_count": null,
   "metadata": {},
   "outputs": [],
   "source": [
    "DATADIR = \"../../data/train\"\n",
    "RAW_MAPS = DATADIR + \"/map\"     #'../data/raw/images'\n",
    "RGB_MAPS = DATADIR + \"/map_rgb\"      #'../data/raw/images'"
   ]
  },
  {
   "cell_type": "code",
   "execution_count": null,
   "metadata": {},
   "outputs": [],
   "source": [
    "def street_mask(arr, value):\n",
    "    arr = np.array(arr)\n",
    "    ax = np.ma.masked_where(arr != value, arr)\n",
    "    ax.fill_value = 0\n",
    "    return (ax/ax*255).filled().astype(np.uint8)\n",
    "\n",
    "def mask(arr, value):\n",
    "    arr = np.array(arr)\n",
    "    ax = np.ma.masked_where(arr == value, arr, copy = False)\n",
    "    ax.fill_value = 0\n",
    "    return (ax/ax*255).filled().astype(np.uint8)"
   ]
  },
  {
   "cell_type": "code",
   "execution_count": null,
   "metadata": {},
   "outputs": [],
   "source": [
    "def map2rgbMap(inds):\n",
    "    \n",
    "    ima = inds.read()\n",
    "    \n",
    "    vals, counts = np.unique(ima, return_counts=True)\n",
    "    \n",
    "    dic = (dict(zip(vals, counts)))\n",
    "    if 127 not in dic.keys():\n",
    "        dic[127] = 0\n",
    "    if 255 not in dic.keys():\n",
    "        dic[255] = 0\n",
    "    print(dic)\n",
    "    \n",
    "    sz  = ima.shape\n",
    "\n",
    "    rgbMap = np.zeros((sz[1], sz[2], 4), 'uint8') \n",
    "    msk = mask(ima, 0)   # nodata value\n",
    "    for index, i in enumerate(np.sort(vals[vals>0])[::-1]):        \n",
    "        rgbMap[..., index] = street_mask(ima, i)\n",
    "    rgbMap[..., 3] = msk\n",
    "    return rgbMap, dic"
   ]
  },
  {
   "cell_type": "code",
   "execution_count": null,
   "metadata": {},
   "outputs": [],
   "source": [
    "def write_visible(src, meta):    \n",
    "    outpath = RGB_MAPS + '/' + file.name\n",
    "    with rio.open(outpath, 'w', **meta) as outds:\n",
    "        sz = np.shape(src)\n",
    "        output  = np.zeros((4, sz[0], sz[1]), 'uint8')  \n",
    "        for i in range(4):\n",
    "            output[i] = src[..., i]      \n",
    "        outds.write(output.astype(np.uint8))"
   ]
  },
  {
   "cell_type": "code",
   "execution_count": null,
   "metadata": {},
   "outputs": [],
   "source": [
    "def make_visible(file):\n",
    "    with rio.open(file) as inds:\n",
    "        meta = inds.meta.copy() \n",
    "        meta['dtype']  = 'uint8'\n",
    "        meta['count']  = 4\n",
    "        meta['nodata'] = 0\n",
    "        \n",
    "        \n",
    "        rgbMap, dic = map2rgbMap(inds)\n",
    "        plt.imshow(rgbMap)\n",
    "        plt.show()   \n",
    "        \n",
    "        write_visible(rgbMap, meta)\n",
    "        \n",
    "        return dic\n",
    "        "
   ]
  },
  {
   "cell_type": "code",
   "execution_count": null,
   "metadata": {
    "scrolled": true
   },
   "outputs": [],
   "source": [
    "n = 1\n",
    "stats = []\n",
    "for file in Path(RAW_MAPS).iterdir():\n",
    "    if file.name.endswith(('.tif', '.tiff')):\n",
    "        dic = make_visible(file)\n",
    "        #stats.append([file.name, dic[0], dic[127], dic[255]])"
   ]
  },
  {
   "cell_type": "code",
   "execution_count": 1,
   "metadata": {},
   "outputs": [
    {
     "name": "stderr",
     "output_type": "stream",
     "text": [
      "/home/lisa/anaconda3/lib/python3.6/importlib/_bootstrap.py:219: RuntimeWarning: numpy.dtype size changed, may indicate binary incompatibility. Expected 96, got 88\n",
      "  return f(*args, **kwds)\n",
      "/home/lisa/anaconda3/lib/python3.6/importlib/_bootstrap.py:219: RuntimeWarning: numpy.dtype size changed, may indicate binary incompatibility. Expected 96, got 88\n",
      "  return f(*args, **kwds)\n"
     ]
    }
   ],
   "source": [
    "import pandas as pd"
   ]
  },
  {
   "cell_type": "code",
   "execution_count": null,
   "metadata": {},
   "outputs": [],
   "source": [
    "df = pd.DataFrame.from_dict(stats)\n",
    "df.columns = ['name', 'numPixel_noRoad', 'numPixel_pavedRoad', 'numPixel_unpavedRoad']"
   ]
  },
  {
   "cell_type": "code",
   "execution_count": null,
   "metadata": {},
   "outputs": [],
   "source": [
    "#df.to_csv('numOfPixPerClassPerTile.csv')"
   ]
  },
  {
   "cell_type": "code",
   "execution_count": 2,
   "metadata": {},
   "outputs": [],
   "source": [
    "#df = pd.read_csv('numOfPixPerClassPerTile.csv')"
   ]
  },
  {
   "cell_type": "code",
   "execution_count": 3,
   "metadata": {},
   "outputs": [],
   "source": [
    "col_list= list(df)\n",
    "col_list.remove('name')\n",
    "col_list"
   ]
  },
  {
   "cell_type": "code",
   "execution_count": 7,
   "metadata": {},
   "outputs": [
    {
     "name": "stdout",
     "output_type": "stream",
     "text": [
      "empty tiles:  0.42988364972443355\n",
      "non-empty tiles:  0.5701163502755664\n",
      "\n",
      "tiles with only paved roads:  0.016227801592161667\n",
      "tiles with paved roads:  0.2676056338028169\n",
      "\n",
      "tiles with only unpaved roads:  0.3025107164727495\n",
      "tiles with unpaved roads:  0.5538885486834048\n"
     ]
    }
   ],
   "source": [
    "df['sumPixels'] = df[col_list].sum(axis=1)"
   ]
  },
  {
   "cell_type": "code",
   "execution_count": null,
   "metadata": {},
   "outputs": [],
   "source": [
    "df['relative_noRoad']    = df['numPixel_noRoad']/df['sumPixels']\n",
    "df['relative_pavedRoad'] = df['numPixel_pavedRoad']/df['sumPixels']\n",
    "df['relative_unpavedRoad'] = df['numPixel_unpavedRoad']/df['sumPixels']"
   ]
  }
 ],
 "metadata": {
  "kernelspec": {
   "display_name": "Python 3",
   "language": "python",
   "name": "python3"
  },
  "language_info": {
   "codemirror_mode": {
    "name": "ipython",
    "version": 3
   },
   "file_extension": ".py",
   "mimetype": "text/x-python",
   "name": "python",
   "nbconvert_exporter": "python",
   "pygments_lexer": "ipython3",
   "version": "3.6.5"
  }
 },
 "nbformat": 4,
 "nbformat_minor": 2
}
