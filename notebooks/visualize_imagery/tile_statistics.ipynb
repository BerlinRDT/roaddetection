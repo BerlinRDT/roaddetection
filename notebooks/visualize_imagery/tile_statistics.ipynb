{
 "cells": [
  {
   "cell_type": "markdown",
   "metadata": {},
   "source": [
    "# tile statistics\n"
   ]
  },
  {
   "cell_type": "code",
   "execution_count": 1,
   "metadata": {},
   "outputs": [
    {
     "name": "stderr",
     "output_type": "stream",
     "text": [
      "/home/lisa/anaconda3/lib/python3.6/importlib/_bootstrap.py:219: RuntimeWarning: numpy.dtype size changed, may indicate binary incompatibility. Expected 96, got 88\n",
      "  return f(*args, **kwds)\n",
      "/home/lisa/anaconda3/lib/python3.6/importlib/_bootstrap.py:219: RuntimeWarning: numpy.dtype size changed, may indicate binary incompatibility\n",
      "  return f(*args, **kwds)\n"
     ]
    }
   ],
   "source": [
    "#%matplotlib inline\n",
    "import numpy as np\n",
    "from pathlib import Path\n",
    "import os\n",
    "import rasterio as rio\n",
    "import rasterio.plot as rioplot\n",
    "import numpy as np\n",
    "import matplotlib.pyplot as plt\n",
    "import matplotlib.pyplot as plt\n",
    "import numpy as np\n",
    "\n",
    "from skimage import data, img_as_float\n",
    "from skimage import exposure\n",
    "from PIL import Image\n",
    "\n",
    "import pandas as pd"
   ]
  },
  {
   "cell_type": "code",
   "execution_count": 2,
   "metadata": {},
   "outputs": [],
   "source": [
    "df = pd.read_csv('numOfPixPerClassPerTile.csv')"
   ]
  },
  {
   "cell_type": "code",
   "execution_count": 3,
   "metadata": {},
   "outputs": [],
   "source": [
    "def counting(df):\n",
    "    numEmptyTiles    = len(df[(df['numPixel_pavedRoad'] == 0) & (df['numPixel_unpavedRoad'] == 0)])\n",
    "    numOnlyPaved     = len(df[(df['numPixel_pavedRoad'] != 0) & (df['numPixel_unpavedRoad'] == 0)])\n",
    "    numOnlyUnpaved   = len(df[(df['numPixel_pavedRoad'] == 0) & (df['numPixel_unpavedRoad'] != 0)])\n",
    "    numPavedUnpaved  = len(df[(df['numPixel_pavedRoad'] != 0) & (df['numPixel_unpavedRoad'] != 0)])\n",
    "    assert( numEmptyTiles + numOnlyPaved + numOnlyUnpaved + numPavedUnpaved == len(df))\n",
    "    return numEmptyTiles, numOnlyPaved, numOnlyUnpaved, numPavedUnpaved, len(df)"
   ]
  },
  {
   "cell_type": "code",
   "execution_count": 7,
   "metadata": {},
   "outputs": [
    {
     "name": "stdout",
     "output_type": "stream",
     "text": [
      "empty tiles:  0.42988364972443355\n",
      "non-empty tiles:  0.5701163502755664\n",
      "\n",
      "tiles with only paved roads:  0.016227801592161667\n",
      "tiles with paved roads:  0.2676056338028169\n",
      "\n",
      "tiles with only unpaved roads:  0.3025107164727495\n",
      "tiles with unpaved roads:  0.5538885486834048\n"
     ]
    }
   ],
   "source": [
    "empty, paved, unpaved, both, total = counting(df)\n",
    "print(\"empty tiles: \", (empty)/total)\n",
    "print(\"non-empty tiles: \", (total-empty)/total)\n",
    "print(\"\")\n",
    "print(\"tiles with only paved roads: \", paved/total)\n",
    "print(\"tiles with paved roads: \", (paved + both)/total)\n",
    "print(\"\")\n",
    "print(\"tiles with only unpaved roads: \", unpaved/total)\n",
    "print(\"tiles with unpaved roads: \", (unpaved + both) / total)"
   ]
  }
 ],
 "metadata": {
  "kernelspec": {
   "display_name": "Python 3",
   "language": "python",
   "name": "python3"
  },
  "language_info": {
   "codemirror_mode": {
    "name": "ipython",
    "version": 3
   },
   "file_extension": ".py",
   "mimetype": "text/x-python",
   "name": "python",
   "nbconvert_exporter": "python",
   "pygments_lexer": "ipython3",
   "version": "3.6.5"
  }
 },
 "nbformat": 4,
 "nbformat_minor": 2
}
