{
 "cells": [
  {
   "cell_type": "markdown",
   "metadata": {},
   "source": [
    "# Generate dataframe listing satellite images, matching label files and directories"
   ]
  },
  {
   "cell_type": "code",
   "execution_count": 1,
   "metadata": {},
   "outputs": [],
   "source": [
    "import pandas as pd"
   ]
  },
  {
   "cell_type": "code",
   "execution_count": 2,
   "metadata": {},
   "outputs": [],
   "source": [
    "file_matching_list = pd.DataFrame(\n",
    "    {\"satimg_filename\": \"20170710_023840_0c75_3B_Visual.tif\",\n",
    "    \"satimg_path\": \"/satellite_images/Borneo/3093/3band_visual/\",\n",
    "    \"label_filename\": \"RoadLabels_RDT_3093_a.kml\",\n",
    "    \"label_path\": \"/road_data_Laurance/3093/\",\n",
    "    \"AOI_name\": \"3093\",\n",
    "    \"doUse\": True\n",
    "}, index=[0])"
   ]
  },
  {
   "cell_type": "code",
   "execution_count": 5,
   "metadata": {},
   "outputs": [],
   "source": [
    "# add further entries\n",
    "entry = \\\n",
    "    {\"satimg_filename\": \"20180504_094435_0e19_3B_AnalyticMS.tif\",\n",
    "    \"satimg_path\": \"/satelliteImages/Harz2/\",\n",
    "    \"label_filename\": \"RoadLabels_RDT_Harz2_a.kml\",\n",
    "    \"label_path\": \"/road_data_Harz/\",\n",
    "    \"AOI_name\": \"Harz2\",\n",
    "    \"doUse\": True\n",
    "}\n",
    "\n",
    "file_matching_list = file_matching_list.append(entry, verify_integrity=True, ignore_index=True)"
   ]
  },
  {
   "cell_type": "code",
   "execution_count": 6,
   "metadata": {},
   "outputs": [
    {
     "data": {
      "text/html": [
       "<div>\n",
       "<style scoped>\n",
       "    .dataframe tbody tr th:only-of-type {\n",
       "        vertical-align: middle;\n",
       "    }\n",
       "\n",
       "    .dataframe tbody tr th {\n",
       "        vertical-align: top;\n",
       "    }\n",
       "\n",
       "    .dataframe thead th {\n",
       "        text-align: right;\n",
       "    }\n",
       "</style>\n",
       "<table border=\"1\" class=\"dataframe\">\n",
       "  <thead>\n",
       "    <tr style=\"text-align: right;\">\n",
       "      <th></th>\n",
       "      <th>satimg_filename</th>\n",
       "      <th>satimg_path</th>\n",
       "      <th>label_filename</th>\n",
       "      <th>label_path</th>\n",
       "      <th>AOI_name</th>\n",
       "      <th>doUse</th>\n",
       "    </tr>\n",
       "  </thead>\n",
       "  <tbody>\n",
       "    <tr>\n",
       "      <th>0</th>\n",
       "      <td>20170710_023840_0c75_3B_Visual.tif</td>\n",
       "      <td>/satellite_images/Borneo/3093/3band_visual/</td>\n",
       "      <td>RoadLabels_RDT_3093_a.kml</td>\n",
       "      <td>/road_data_Laurance/3093/</td>\n",
       "      <td>3093</td>\n",
       "      <td>True</td>\n",
       "    </tr>\n",
       "    <tr>\n",
       "      <th>1</th>\n",
       "      <td>20180504_094435_0e19_3B_AnalyticMS.tif</td>\n",
       "      <td>/satelliteImages/Harz2/</td>\n",
       "      <td>RoadLabels_RDT_Harz2_a.kml</td>\n",
       "      <td>/road_data_Harz/</td>\n",
       "      <td>Harz2</td>\n",
       "      <td>True</td>\n",
       "    </tr>\n",
       "  </tbody>\n",
       "</table>\n",
       "</div>"
      ],
      "text/plain": [
       "                          satimg_filename  \\\n",
       "0      20170710_023840_0c75_3B_Visual.tif   \n",
       "1  20180504_094435_0e19_3B_AnalyticMS.tif   \n",
       "\n",
       "                                   satimg_path              label_filename  \\\n",
       "0  /satellite_images/Borneo/3093/3band_visual/   RoadLabels_RDT_3093_a.kml   \n",
       "1                      /satelliteImages/Harz2/  RoadLabels_RDT_Harz2_a.kml   \n",
       "\n",
       "                  label_path AOI_name  doUse  \n",
       "0  /road_data_Laurance/3093/     3093   True  \n",
       "1           /road_data_Harz/    Harz2   True  "
      ]
     },
     "execution_count": 6,
     "metadata": {},
     "output_type": "execute_result"
    }
   ],
   "source": [
    "file_matching_list"
   ]
  },
  {
   "cell_type": "code",
   "execution_count": null,
   "metadata": {},
   "outputs": [],
   "source": []
  },
  {
   "cell_type": "code",
   "execution_count": null,
   "metadata": {},
   "outputs": [],
   "source": []
  }
 ],
 "metadata": {
  "kernelspec": {
   "display_name": "Python 3",
   "language": "python",
   "name": "python3"
  },
  "language_info": {
   "codemirror_mode": {
    "name": "ipython",
    "version": 3
   },
   "file_extension": ".py",
   "mimetype": "text/x-python",
   "name": "python",
   "nbconvert_exporter": "python",
   "pygments_lexer": "ipython3",
   "version": "3.6.6"
  }
 },
 "nbformat": 4,
 "nbformat_minor": 2
}
