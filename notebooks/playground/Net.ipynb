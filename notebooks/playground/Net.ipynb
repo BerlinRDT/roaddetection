{
 "cells": [
  {
   "cell_type": "code",
   "execution_count": 24,
   "metadata": {},
   "outputs": [],
   "source": [
    "import sys\n",
    "sys.path.append(\"/home/ubuntu/roaddetection/\")"
   ]
  },
  {
   "cell_type": "code",
   "execution_count": 25,
   "metadata": {},
   "outputs": [
    {
     "name": "stdout",
     "output_type": "stream",
     "text": [
      "Requirement already satisfied: keras in /home/ubuntu/.local/lib/python3.5/site-packages (2.2.2)\n",
      "Requirement already satisfied: keras-applications==1.0.4 in /home/ubuntu/.local/lib/python3.5/site-packages (from keras) (1.0.4)\n",
      "Requirement already satisfied: h5py in /home/ubuntu/.local/lib/python3.5/site-packages (from keras) (2.8.0)\n",
      "Requirement already satisfied: numpy>=1.9.1 in /usr/local/lib/python3.5/dist-packages (from keras) (1.15.1)\n",
      "Requirement already satisfied: six>=1.9.0 in /usr/lib/python3/dist-packages (from keras) (1.10.0)\n",
      "Requirement already satisfied: pyyaml in /usr/lib/python3/dist-packages (from keras) (3.11)\n",
      "Requirement already satisfied: scipy>=0.14 in /home/ubuntu/.local/lib/python3.5/site-packages (from keras) (1.1.0)\n",
      "Requirement already satisfied: keras-preprocessing==1.0.2 in /home/ubuntu/.local/lib/python3.5/site-packages (from keras) (1.0.2)\n",
      "Requirement already satisfied: scikit-image in /home/ubuntu/.local/lib/python3.5/site-packages (0.14.0)\n",
      "Requirement already satisfied: scipy>=0.17.0 in /home/ubuntu/.local/lib/python3.5/site-packages (from scikit-image) (1.1.0)\n",
      "Requirement already satisfied: cloudpickle>=0.2.1 in /home/ubuntu/.local/lib/python3.5/site-packages (from scikit-image) (0.5.5)\n",
      "Requirement already satisfied: dask[array]>=0.9.0 in /home/ubuntu/.local/lib/python3.5/site-packages (from scikit-image) (0.18.2)\n",
      "Requirement already satisfied: matplotlib>=2.0.0 in /home/ubuntu/.local/lib/python3.5/site-packages (from scikit-image) (2.2.3)\n",
      "Requirement already satisfied: pillow>=4.3.0 in /home/ubuntu/.local/lib/python3.5/site-packages (from scikit-image) (5.2.0)\n",
      "Requirement already satisfied: six>=1.10.0 in /usr/lib/python3/dist-packages (from scikit-image) (1.10.0)\n",
      "Requirement already satisfied: networkx>=1.8 in /home/ubuntu/.local/lib/python3.5/site-packages (from scikit-image) (2.1)\n",
      "Requirement already satisfied: PyWavelets>=0.4.0 in /home/ubuntu/.local/lib/python3.5/site-packages (from scikit-image) (0.5.2)\n",
      "Requirement already satisfied: numpy>=1.8.2 in /usr/local/lib/python3.5/dist-packages (from scipy>=0.17.0->scikit-image) (1.15.1)\n",
      "Requirement already satisfied: toolz>=0.7.3; extra == \"array\" in /home/ubuntu/.local/lib/python3.5/site-packages (from dask[array]>=0.9.0->scikit-image) (0.9.0)\n",
      "Requirement already satisfied: cycler>=0.10 in /home/ubuntu/.local/lib/python3.5/site-packages (from matplotlib>=2.0.0->scikit-image) (0.10.0)\n",
      "Requirement already satisfied: kiwisolver>=1.0.1 in /home/ubuntu/.local/lib/python3.5/site-packages (from matplotlib>=2.0.0->scikit-image) (1.0.1)\n",
      "Requirement already satisfied: pytz in /home/ubuntu/.local/lib/python3.5/site-packages (from matplotlib>=2.0.0->scikit-image) (2018.5)\n",
      "Requirement already satisfied: pyparsing!=2.0.4,!=2.1.2,!=2.1.6,>=2.0.1 in /home/ubuntu/.local/lib/python3.5/site-packages (from matplotlib>=2.0.0->scikit-image) (2.2.0)\n",
      "Requirement already satisfied: python-dateutil>=2.1 in /usr/local/lib/python3.5/dist-packages (from matplotlib>=2.0.0->scikit-image) (2.7.3)\n",
      "Requirement already satisfied: decorator>=4.1.0 in /usr/local/lib/python3.5/dist-packages (from networkx>=1.8->scikit-image) (4.3.0)\n",
      "Requirement already satisfied: setuptools in /home/ubuntu/.local/lib/python3.5/site-packages (from kiwisolver>=1.0.1->matplotlib>=2.0.0->scikit-image) (40.2.0)\n",
      "Requirement already up-to-date: Pillow in /home/ubuntu/.local/lib/python3.5/site-packages (5.2.0)\n"
     ]
    }
   ],
   "source": [
    "!pip3 install keras --user\n",
    "!pip3 install scikit-image --user\n",
    "!pip3 install --upgrade  Pillow --user"
   ]
  },
  {
   "cell_type": "code",
   "execution_count": 26,
   "metadata": {},
   "outputs": [],
   "source": [
    "from IPython.display import display\n",
    "from PIL import Image"
   ]
  },
  {
   "cell_type": "code",
   "execution_count": 27,
   "metadata": {},
   "outputs": [],
   "source": [
    "#%load_ext autoreload\n",
    "#%autoreload 2\n",
    "\n",
    "from keras.layers import merge\n",
    "from src.models.data import *\n",
    "from src.models.model import *\n",
    "#import rasterio.plot as rioplot\n",
    "import matplotlib\n",
    "\n",
    "import matplotlib.pyplot as plt\n",
    "import matplotlib.image as mpimg\n",
    "\n",
    "%matplotlib inline"
   ]
  },
  {
   "cell_type": "code",
   "execution_count": 28,
   "metadata": {},
   "outputs": [],
   "source": [
    "import sys\n",
    "from PIL import Image\n",
    "sys.modules['Image'] = Image "
   ]
  },
  {
   "cell_type": "code",
   "execution_count": 29,
   "metadata": {},
   "outputs": [],
   "source": [
    "# print(PIL.Image)"
   ]
  },
  {
   "cell_type": "code",
   "execution_count": 30,
   "metadata": {},
   "outputs": [
    {
     "name": "stdout",
     "output_type": "stream",
     "text": [
      "/home/ubuntu/.local/lib/python3.5/site-packages/PIL/Image.py\n"
     ]
    }
   ],
   "source": [
    "from PIL import Image\n",
    "print(Image.__file__)"
   ]
  },
  {
   "cell_type": "code",
   "execution_count": 31,
   "metadata": {},
   "outputs": [
    {
     "name": "stdout",
     "output_type": "stream",
     "text": [
      "/home/ubuntu/.local/lib/python3.5/site-packages/PIL/Image.py\n"
     ]
    }
   ],
   "source": [
    "import Image\n",
    "print(Image.__file__)\n"
   ]
  },
  {
   "cell_type": "code",
   "execution_count": 32,
   "metadata": {},
   "outputs": [],
   "source": [
    "data_gen_args = dict(\n",
    "                    rotation_range=0.2,\n",
    "                    width_shift_range=0.05,\n",
    "                    height_shift_range=0.05,\n",
    "                    shear_range=0.05,\n",
    "                    zoom_range=0.05,\n",
    "                    horizontal_flip=True,\n",
    "                    fill_mode='nearest',\n",
    "                    rescale=1.0/(255),\n",
    "                    data_format=\"channels_last\"\n",
    " )\n",
    "myGene = trainGenerator(5,'../../data/train','sat','map',\n",
    "                        data_gen_args,save_to_dir = None,image_color_mode=\"rgba\", target_size=(512,512))"
   ]
  },
  {
   "cell_type": "code",
   "execution_count": null,
   "metadata": {},
   "outputs": [],
   "source": []
  },
  {
   "cell_type": "code",
   "execution_count": 33,
   "metadata": {},
   "outputs": [],
   "source": [
    "# i = 1\n",
    "# n=1\n",
    "# for  img, label in myGene:\n",
    "#     plt.figure(figsize=(5,5))\n",
    "#     print(img[0].shape)\n",
    "#     image2 = img.astype(np.uint8) \n",
    "#     drop_ir = np.delete(image2[0],3, axis=2)\n",
    "#     plt.imshow(drop_ir)\n",
    "\n",
    "#     l = label[0].reshape(1024,1024)\n",
    "#     masked = np.ma.masked_where(l == 255, l)\n",
    "#     if np.any(masked):\n",
    "#         plt.imshow(masked, cmap=\"flag\")\n",
    "\n",
    "#     i+=1\n",
    "#     if (i>=n):\n",
    "#        break \n"
   ]
  },
  {
   "cell_type": "code",
   "execution_count": 34,
   "metadata": {
    "scrolled": false
   },
   "outputs": [
    {
     "name": "stdout",
     "output_type": "stream",
     "text": [
      "<module 'keras.layers.merge' from '/home/ubuntu/.local/lib/python3.5/site-packages/keras/layers/merge.py'>\n"
     ]
    },
    {
     "name": "stderr",
     "output_type": "stream",
     "text": [
      "/home/ubuntu/roaddetection/src/models/model.py:60: UserWarning: Update your `Model` call to the Keras 2 API: `Model(outputs=Tensor(\"co..., inputs=Tensor(\"in...)`\n",
      "  model = Model(input=inputs, output=conv10)\n"
     ]
    },
    {
     "name": "stdout",
     "output_type": "stream",
     "text": [
      "__________________________________________________________________________________________________\n",
      "Layer (type)                    Output Shape         Param #     Connected to                     \n",
      "==================================================================================================\n",
      "input_3 (InputLayer)            (None, 512, 512, 4)  0                                            \n",
      "__________________________________________________________________________________________________\n",
      "conv2d_49 (Conv2D)              (None, 512, 512, 64) 2368        input_3[0][0]                    \n",
      "__________________________________________________________________________________________________\n",
      "conv2d_50 (Conv2D)              (None, 512, 512, 64) 36928       conv2d_49[0][0]                  \n",
      "__________________________________________________________________________________________________\n",
      "max_pooling2d_9 (MaxPooling2D)  (None, 256, 256, 64) 0           conv2d_50[0][0]                  \n",
      "__________________________________________________________________________________________________\n",
      "conv2d_51 (Conv2D)              (None, 256, 256, 128 73856       max_pooling2d_9[0][0]            \n",
      "__________________________________________________________________________________________________\n",
      "conv2d_52 (Conv2D)              (None, 256, 256, 128 147584      conv2d_51[0][0]                  \n",
      "__________________________________________________________________________________________________\n",
      "max_pooling2d_10 (MaxPooling2D) (None, 128, 128, 128 0           conv2d_52[0][0]                  \n",
      "__________________________________________________________________________________________________\n",
      "conv2d_53 (Conv2D)              (None, 128, 128, 256 295168      max_pooling2d_10[0][0]           \n",
      "__________________________________________________________________________________________________\n",
      "conv2d_54 (Conv2D)              (None, 128, 128, 256 590080      conv2d_53[0][0]                  \n",
      "__________________________________________________________________________________________________\n",
      "max_pooling2d_11 (MaxPooling2D) (None, 64, 64, 256)  0           conv2d_54[0][0]                  \n",
      "__________________________________________________________________________________________________\n",
      "conv2d_55 (Conv2D)              (None, 64, 64, 512)  1180160     max_pooling2d_11[0][0]           \n",
      "__________________________________________________________________________________________________\n",
      "conv2d_56 (Conv2D)              (None, 64, 64, 512)  2359808     conv2d_55[0][0]                  \n",
      "__________________________________________________________________________________________________\n",
      "dropout_5 (Dropout)             (None, 64, 64, 512)  0           conv2d_56[0][0]                  \n",
      "__________________________________________________________________________________________________\n",
      "max_pooling2d_12 (MaxPooling2D) (None, 32, 32, 512)  0           dropout_5[0][0]                  \n",
      "__________________________________________________________________________________________________\n",
      "conv2d_57 (Conv2D)              (None, 32, 32, 1024) 4719616     max_pooling2d_12[0][0]           \n",
      "__________________________________________________________________________________________________\n",
      "conv2d_58 (Conv2D)              (None, 32, 32, 1024) 9438208     conv2d_57[0][0]                  \n",
      "__________________________________________________________________________________________________\n",
      "dropout_6 (Dropout)             (None, 32, 32, 1024) 0           conv2d_58[0][0]                  \n",
      "__________________________________________________________________________________________________\n",
      "up_sampling2d_9 (UpSampling2D)  (None, 64, 64, 1024) 0           dropout_6[0][0]                  \n",
      "__________________________________________________________________________________________________\n",
      "conv2d_59 (Conv2D)              (None, 64, 64, 512)  2097664     up_sampling2d_9[0][0]            \n",
      "__________________________________________________________________________________________________\n",
      "concatenate_9 (Concatenate)     (None, 64, 64, 1024) 0           dropout_5[0][0]                  \n",
      "                                                                 conv2d_59[0][0]                  \n",
      "__________________________________________________________________________________________________\n",
      "conv2d_60 (Conv2D)              (None, 64, 64, 512)  4719104     concatenate_9[0][0]              \n",
      "__________________________________________________________________________________________________\n",
      "conv2d_61 (Conv2D)              (None, 64, 64, 512)  2359808     conv2d_60[0][0]                  \n",
      "__________________________________________________________________________________________________\n",
      "up_sampling2d_10 (UpSampling2D) (None, 128, 128, 512 0           conv2d_61[0][0]                  \n",
      "__________________________________________________________________________________________________\n",
      "conv2d_62 (Conv2D)              (None, 128, 128, 256 524544      up_sampling2d_10[0][0]           \n",
      "__________________________________________________________________________________________________\n",
      "concatenate_10 (Concatenate)    (None, 128, 128, 512 0           conv2d_54[0][0]                  \n",
      "                                                                 conv2d_62[0][0]                  \n",
      "__________________________________________________________________________________________________\n",
      "conv2d_63 (Conv2D)              (None, 128, 128, 256 1179904     concatenate_10[0][0]             \n",
      "__________________________________________________________________________________________________\n",
      "conv2d_64 (Conv2D)              (None, 128, 128, 256 590080      conv2d_63[0][0]                  \n",
      "__________________________________________________________________________________________________\n",
      "up_sampling2d_11 (UpSampling2D) (None, 256, 256, 256 0           conv2d_64[0][0]                  \n",
      "__________________________________________________________________________________________________\n",
      "conv2d_65 (Conv2D)              (None, 256, 256, 128 131200      up_sampling2d_11[0][0]           \n",
      "__________________________________________________________________________________________________\n",
      "concatenate_11 (Concatenate)    (None, 256, 256, 256 0           conv2d_52[0][0]                  \n",
      "                                                                 conv2d_65[0][0]                  \n",
      "__________________________________________________________________________________________________\n",
      "conv2d_66 (Conv2D)              (None, 256, 256, 128 295040      concatenate_11[0][0]             \n",
      "__________________________________________________________________________________________________\n",
      "conv2d_67 (Conv2D)              (None, 256, 256, 128 147584      conv2d_66[0][0]                  \n",
      "__________________________________________________________________________________________________\n",
      "up_sampling2d_12 (UpSampling2D) (None, 512, 512, 128 0           conv2d_67[0][0]                  \n",
      "__________________________________________________________________________________________________\n",
      "conv2d_68 (Conv2D)              (None, 512, 512, 64) 32832       up_sampling2d_12[0][0]           \n",
      "__________________________________________________________________________________________________\n",
      "concatenate_12 (Concatenate)    (None, 512, 512, 128 0           conv2d_50[0][0]                  \n",
      "                                                                 conv2d_68[0][0]                  \n",
      "__________________________________________________________________________________________________\n",
      "conv2d_69 (Conv2D)              (None, 512, 512, 64) 73792       concatenate_12[0][0]             \n",
      "__________________________________________________________________________________________________\n",
      "conv2d_70 (Conv2D)              (None, 512, 512, 64) 36928       conv2d_69[0][0]                  \n",
      "__________________________________________________________________________________________________\n",
      "conv2d_71 (Conv2D)              (None, 512, 512, 2)  1154        conv2d_70[0][0]                  \n",
      "__________________________________________________________________________________________________\n",
      "conv2d_72 (Conv2D)              (None, 512, 512, 1)  3           conv2d_71[0][0]                  \n",
      "==================================================================================================\n",
      "Total params: 31,033,413\n",
      "Trainable params: 31,033,413\n",
      "Non-trainable params: 0\n",
      "__________________________________________________________________________________________________\n"
     ]
    },
    {
     "name": "stdout",
     "output_type": "stream",
     "text": [
      "Epoch 1/5\n",
      "Found 872 images belonging to 1 classes.\n",
      "Found 872 images belonging to 1 classes.\n",
      "100/100 [==============================] - 351s 4s/step - loss: 0.6928 - acc: 0.9717\n",
      "\n",
      "Epoch 00001: loss improved from inf to 0.69278, saving model to ../../models/unet_membrane_analytic_26_08.hdf5\n",
      "Epoch 2/5\n",
      "100/100 [==============================] - 348s 3s/step - loss: 0.6858 - acc: 0.9822\n",
      "\n",
      "Epoch 00002: loss improved from 0.69278 to 0.68585, saving model to ../../models/unet_membrane_analytic_26_08.hdf5\n",
      "Epoch 3/5\n",
      "100/100 [==============================] - 340s 3s/step - loss: 0.6810 - acc: 0.9800\n",
      "\n",
      "Epoch 00003: loss improved from 0.68585 to 0.68101, saving model to ../../models/unet_membrane_analytic_26_08.hdf5\n",
      "Epoch 4/5\n",
      "100/100 [==============================] - 338s 3s/step - loss: 0.6762 - acc: 0.9815\n",
      "\n",
      "Epoch 00004: loss improved from 0.68101 to 0.67619, saving model to ../../models/unet_membrane_analytic_26_08.hdf5\n",
      "Epoch 5/5\n",
      "100/100 [==============================] - 340s 3s/step - loss: 0.6714 - acc: 0.9813\n",
      "\n",
      "Epoch 00005: loss improved from 0.67619 to 0.67141, saving model to ../../models/unet_membrane_analytic_26_08.hdf5\n"
     ]
    },
    {
     "data": {
      "text/plain": [
       "<keras.callbacks.History at 0x7f8533b3da90>"
      ]
     },
     "execution_count": 34,
     "metadata": {},
     "output_type": "execute_result"
    }
   ],
   "source": [
    "model = unet()\n",
    "model_checkpoint = ModelCheckpoint('../../models/unet_membrane_analytic_26_08.hdf5', monitor='loss',verbose=1, save_best_only=True)\n",
    "model.fit_generator(myGene,steps_per_epoch=100,epochs=5,callbacks=[model_checkpoint])"
   ]
  },
  {
   "cell_type": "code",
   "execution_count": null,
   "metadata": {},
   "outputs": [],
   "source": []
  }
 ],
 "metadata": {
  "kernelspec": {
   "display_name": "Python 3",
   "language": "python",
   "name": "python3"
  },
  "language_info": {
   "codemirror_mode": {
    "name": "ipython",
    "version": 3
   },
   "file_extension": ".py",
   "mimetype": "text/x-python",
   "name": "python",
   "nbconvert_exporter": "python",
   "pygments_lexer": "ipython3",
   "version": "3.5.2"
  }
 },
 "nbformat": 4,
 "nbformat_minor": 2
}
