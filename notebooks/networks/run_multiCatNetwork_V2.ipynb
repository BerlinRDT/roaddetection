{
 "cells": [
  {
   "cell_type": "code",
   "execution_count": 1,
   "metadata": {},
   "outputs": [
    {
     "name": "stderr",
     "output_type": "stream",
     "text": [
      "Using TensorFlow backend.\n"
     ]
    }
   ],
   "source": [
    "%load_ext autoreload\n",
    "%autoreload 2\n",
    "import numpy as np\n",
    "np.random.seed(42)\n",
    "\n",
    "#from keras.layers import merge\n",
    "from src.models.catdata import *\n",
    "from src.models.catmodel import *\n",
    "from src.models.catsegnet import *\n",
    "from src.data.utils import get_tile_prefix\n",
    "from src.models.metrics_img import auc_roc, auc_pr, auc_pr_multiclass, dummy_metric\n",
    "#import rasterio.plot as rioplot\n",
    "import matplotlib\n",
    "import matplotlib.pyplot as plt\n",
    "#import matplotlib.image as mpimg\n",
    "\n",
    "from pathlib import Path\n",
    "import os, shutil\n",
    "import sys\n",
    "%matplotlib inline\n",
    "\n",
    "import pandas as pd\n",
    "\n",
    "import math\n",
    "\n",
    "from sklearn.utils import shuffle\n",
    "from sklearn.model_selection import train_test_split\n",
    "\n",
    "\n",
    "\n",
    "from keras.callbacks import RemoteMonitor, TensorBoard, ReduceLROnPlateau, EarlyStopping, History\n",
    "from keras import backend as keras\n",
    "\n"
   ]
  },
  {
   "cell_type": "code",
   "execution_count": 2,
   "metadata": {},
   "outputs": [],
   "source": [
    "def selectData(tNoRoad = 0.95, tPRoad = 0, tURoad = 0, tEmpty = 0):\n",
    "    df = pd.read_csv('../visualize_imagery/numOfPixPerClassPerTile_256.csv').drop(['Unnamed: 0'], axis = 1)\n",
    "    sdf = df[((df['relative_noRoad']) < tNoRoad) \n",
    "             & ((df['relative_pavedRoad']) > tPRoad)\n",
    "             & ((df['relative_unpavedRoad']) > tURoad)].reset_index(drop=True)\n",
    "    \n",
    "    if tEmpty > 0:\n",
    "        edf = df[(df['relative_noRoad'] == 1)].sample(frac=tEmpty)\n",
    "        sdf = pd.concat([sdf, edf]).reset_index(drop=True)\n",
    "    \n",
    "    sdf = shuffle(sdf, random_state=42)\n",
    "    \n",
    "    train_tmp, test = train_test_split(sdf, test_size=0.2, random_state=42)\n",
    "    train, valid = train_test_split(train_tmp, test_size=0.2, random_state=42)\n",
    "    \n",
    "    return train, valid, test   "
   ]
  },
  {
   "cell_type": "code",
   "execution_count": 3,
   "metadata": {},
   "outputs": [],
   "source": [
    "train, valid, test = selectData()"
   ]
  },
  {
   "cell_type": "code",
   "execution_count": 4,
   "metadata": {},
   "outputs": [
    {
     "name": "stdout",
     "output_type": "stream",
     "text": [
      "Train set\n",
      "Harz      568\n",
      "Borneo     28\n",
      "Name: region, dtype: int64\n",
      "\n",
      "Validation set\n",
      "Harz      143\n",
      "Borneo      6\n",
      "Name: region, dtype: int64\n",
      "\n",
      "Test set\n",
      "Harz      179\n",
      "Borneo      8\n",
      "Name: region, dtype: int64\n"
     ]
    }
   ],
   "source": [
    "print(\"Train set\")\n",
    "print(train.region.value_counts())\n",
    "print(\"\")\n",
    "print(\"Validation set\")\n",
    "print(valid.region.value_counts())\n",
    "print(\"\")\n",
    "print(\"Test set\")\n",
    "print(test.region.value_counts())"
   ]
  },
  {
   "cell_type": "code",
   "execution_count": 5,
   "metadata": {},
   "outputs": [],
   "source": [
    "labeldict = {\n",
    "    0: train.numPixel_noRoad.mean(),\n",
    "    1: train.numPixel_pavedRoad.mean(),\n",
    "    2: train.numPixel_unpavedRoad.mean()\n",
    "}"
   ]
  },
  {
   "cell_type": "code",
   "execution_count": 6,
   "metadata": {},
   "outputs": [],
   "source": [
    "def create_class_weight(labels_dict,mu=0.25):\n",
    "    total = sum(labels_dict.values())\n",
    "    keys = labels_dict.keys()\n",
    "    class_weight = dict()\n",
    "    weights = []\n",
    "    for key in keys:\n",
    "        score = math.log(mu*total/float(labels_dict[key]))\n",
    "        class_weight[key] = score if score > 1.0 else 1.0\n",
    "        weights.append(score if score > 1.0 else 1.0)\n",
    "\n",
    "    return weights"
   ]
  },
  {
   "cell_type": "code",
   "execution_count": 7,
   "metadata": {},
   "outputs": [
    {
     "data": {
      "text/plain": [
       "[1.0, 1.4764483023549686, 1.9546758688621175]"
      ]
     },
     "execution_count": 7,
     "metadata": {},
     "output_type": "execute_result"
    }
   ],
   "source": [
    "create_class_weight(labeldict)"
   ]
  },
  {
   "cell_type": "code",
   "execution_count": 8,
   "metadata": {},
   "outputs": [],
   "source": [
    "def categoricalCrossentropy(y_noisy, y_pred, the0, the1):\n",
    "    '''\n",
    "    Calculate the class-weighted categorical cross-entropy for the given\n",
    "    predicted and true sets.\n",
    "\n",
    "    y_true [in] The truth set to test against. This is a Tensor with a last\n",
    "                dimension that contains a set of 1-of-N selections.\n",
    "    y_pred [in] The predicted set to test against. This is a Tensor with a last\n",
    "                dimension that contains a set of 1-of-N selections.\n",
    "    returns     A Tensor function that will calculate the weighted categorical\n",
    "                cross-entropy on the inputs.\n",
    "    '''\n",
    "\n",
    "    P = np.array([[1, the1, the1], \n",
    "                  [the0, 1, the1], \n",
    "                  [the1, the0, 1]])\n",
    "    P = np.array([[     1, 0,      0], \n",
    "                  [     0, 1,   the0], \n",
    "                  [  the1, 0,      1]])\n",
    "    \n",
    "\n",
    "    # If weights are defined, multiply the truth values by the class weights.\n",
    "    #\n",
    "    if P is not None:\n",
    "        # Wrap the loss weights in a tensor object.\n",
    "        #\n",
    "        p =  np.linalg.inv(P)\n",
    "        theWeights =  K.constant(p, shape=p.shape)\n",
    "\n",
    "        y_true = K.dot(y_noisy,theWeights)\n",
    "\n",
    "    # Get the cross-entropy and return it.\n",
    "    #\n",
    "    crossEntropy = K.categorical_crossentropy(y_true, y_pred)\n",
    "\n",
    "    return crossEntropy\n",
    "\n",
    "def noisy_loss(the0, the1):    \n",
    "    def loss(y_true, y_pred):\n",
    "        return categoricalCrossentropy(y_true, y_pred, the0, the1)\n",
    "    return loss"
   ]
  },
  {
   "cell_type": "code",
   "execution_count": 9,
   "metadata": {},
   "outputs": [],
   "source": [
    "original_dataset_dir = \"../../data/train_raw\"\n",
    "raw_images_path = \"../../data/raw/images\"\n",
    "dirs = []\n",
    "\n",
    "base_dir = \"../../data\"\n",
    "\n",
    "train_dir = os.path.join(base_dir, \"train\")\n",
    "dirs.append(train_dir)\n",
    "validation_dir = os.path.join(base_dir, \"validate\")\n",
    "dirs.append(validation_dir)\n",
    "test_dir = os.path.join(base_dir, \"test\")\n",
    "dirs.append(test_dir)\n"
   ]
  },
  {
   "cell_type": "code",
   "execution_count": 10,
   "metadata": {},
   "outputs": [],
   "source": [
    "for directory in dirs:\n",
    "    if not os.path.exists(directory):\n",
    "        os.mkdir(directory)\n"
   ]
  },
  {
   "cell_type": "code",
   "execution_count": 11,
   "metadata": {},
   "outputs": [],
   "source": [
    "def should_make_tiles_from(r_analytic_name):\n",
    "    is_analytic_tif = r_analytic_name.endswith(\n",
    "        ('AnalyticMS.tif', 'AnalyticMS_SR.tif', 'AnalyticMS.tiff', 'AnalyticMS_SR.tiff')\n",
    "    )\n",
    "    return is_analytic_tif \n",
    "\n",
    "def make_datasets():\n",
    "    file_prefixes = [ get_tile_prefix(r_analytic.name) \n",
    "                      for r_analytic in Path(raw_images_path).iterdir()  \n",
    "                        if  should_make_tiles_from(r_analytic.name)\n",
    "                    ]\n",
    "    print(file_prefixes)\n",
    "\n",
    "    # copy files to train dir\n",
    "    train_fnames = train.name.values\n",
    "    for fname in train_fnames:\n",
    "        for file_type in [\"sat\", \"map\", \"sat_rgb\"]:\n",
    "            src = os.path.join(original_dataset_dir, file_type, fname)\n",
    "            dest = os.path.join(train_dir, file_type, fname)\n",
    "            if(os.path.exists(src)):\n",
    "                shutil.copy(src, dest)\n",
    "\n",
    "    # copy files to validation dir\n",
    "    validation_fnames = valid.name.values\n",
    "    for fname in validation_fnames:\n",
    "        for file_type in [\"sat\", \"map\", \"sat_rgb\"]:\n",
    "            print(fname)\n",
    "            src = os.path.join(original_dataset_dir, file_type, fname)\n",
    "            dest = os.path.join(validation_dir, file_type, fname)\n",
    "            if(os.path.exists(src)):\n",
    "                shutil.copy(src, dest)\n",
    "    # copy files to test dir\n",
    "    test_fnames = test.name.values\n",
    "    for fname in test_fnames:\n",
    "        for file_type in [\"sat\", \"map\", \"sat_rgb\"]:\n",
    "            src = os.path.join(original_dataset_dir, file_type, fname)\n",
    "            dest = os.path.join(test_dir, file_type, fname)\n",
    "            if(os.path.exists(src)):\n",
    "                shutil.copy(src, dest)\n",
    "\n",
    "    # print overview\n",
    "    for directory in dirs:\n",
    "        for file_type in [\"sat\", \"map\", \"sat_rgb\"]:\n",
    "            target = os.path.join(directory, file_type)\n",
    "            print(target, \":\", len(os.listdir(target)))\n",
    "\n",
    "    print(\"Done.\")"
   ]
  },
  {
   "cell_type": "code",
   "execution_count": 12,
   "metadata": {},
   "outputs": [],
   "source": [
    "#make_datasets()"
   ]
  },
  {
   "cell_type": "code",
   "execution_count": 13,
   "metadata": {},
   "outputs": [],
   "source": [
    "def train_generator(batch_size, data_gen_args,imgdatagen_dir,target_size):\n",
    "    return trainGenerator(\n",
    "            batch_size,'../../data/train','sat','map',\n",
    "            data_gen_args,\n",
    "            save_to_dir = imgdatagen_dir,\n",
    "            image_color_mode=\"rgba\",\n",
    "            target_size=target_size,\n",
    "            flag_multi_class=True,\n",
    "            num_class=3)\n",
    "            \n",
    "\n",
    "def validation_generator(batch_size, data_gen_args,imgdatagen_dir,target_size):\n",
    "    return trainGenerator(\n",
    "            batch_size,'../../data/validate','sat','map',\n",
    "            data_gen_args, \n",
    "            save_to_dir = None, \n",
    "            image_color_mode=\"rgba\", \n",
    "            target_size=target_size, \n",
    "            flag_multi_class=True,\n",
    "            num_class=3)"
   ]
  },
  {
   "cell_type": "code",
   "execution_count": 14,
   "metadata": {},
   "outputs": [],
   "source": [
    "# paths to append\n",
    "sys.path.append(\"/home/ubuntu/roaddetection/\")\n",
    "\n",
    "# ------------- image characteristics and augmentation -----------------------------\n",
    "\n",
    "def model_name(model, th0, th1, batch_size, epochs):\n",
    "    MODELDIR = '../../models/'    \n",
    "\n",
    "\n",
    "    mname = 'multicat_' + model + '_NL_th0-' + str(th0) \\\n",
    "            + '_th1-' + str(th1) + '_bs-' + str(batch_size) \\\n",
    "            + '_ep-' + str(epochs)\n",
    "    \n",
    "    versions = []\n",
    "    for file in Path(MODELDIR).iterdir():\n",
    "        print(file.name)\n",
    "        if file.name.startswith((mname)):\n",
    "            print('found it')\n",
    "            versions.append(int(file.name.rsplit(mname+'_r-')[1].split('.')[0]))\n",
    "            print(versions)\n",
    "    latest = 1\n",
    "    if len(versions) > 0:\n",
    "        latest = np.max(versions) + 1\n",
    "    model_name =  MODELDIR + mname + '_r-' + str(latest) + '.hdf5'\n",
    "    pretrained = ''\n",
    "    if(latest > 1):\n",
    "        pretrained =  MODELDIR + mname + '_r-' + str(latest-1) + '.hdf5'\n",
    "    return model_name, pretrained"
   ]
  },
  {
   "cell_type": "code",
   "execution_count": 15,
   "metadata": {},
   "outputs": [],
   "source": [
    "def go(model = 'unet', th0 = 0.01, th1 = 0.02, target_size = (256, 256), batch_size = 3, epochs = 5, data_aug = True, pretrained = False):\n",
    "    \n",
    "    if data_aug:\n",
    "        data_gen_args = dict(\n",
    "            data_format=\"channels_last\",\n",
    "            horizontal_flip=True,\n",
    "            vertical_flip=True\n",
    "        )\n",
    "    \n",
    "\n",
    "    \n",
    "    trained_model_fn, pretrained_model_fn = model_name(model, th0, th1, batch_size, epochs)\n",
    "        \n",
    "    print(\"... training model \", trained_model_fn)\n",
    "\n",
    "    \n",
    "    steps_per_epoch = len(train) // batch_size\n",
    "\n",
    "    validation_steps = len(valid) // batch_size\n",
    "    \n",
    "    \n",
    "    optimizer    = Adam(lr=1e-4)\n",
    "    loss_weights = None\n",
    "    metrics      = ['accuracy', auc_pr_multiclass]\n",
    "    \n",
    "    imgdatagen_dir = None\n",
    "    \n",
    "        \n",
    "    train_gen = train_generator(batch_size, data_gen_args,imgdatagen_dir,target_size)    \n",
    "    validation_gen = validation_generator(batch_size, data_gen_args,imgdatagen_dir,target_size)    \n",
    "    \n",
    "    width, height = target_size\n",
    "    if model == 'unet':\n",
    "        model = unet((width, height, 4), 3)\n",
    "    if model == 'segnet':\n",
    "        model = segnet((width, height, 4), 3)\n",
    "        \n",
    "    model.compile(optimizer=optimizer,\n",
    "                  loss=noisy_loss(th0, th1),#0.01, 0.08),\n",
    "                  loss_weights=loss_weights,\n",
    "                  metrics=metrics)\n",
    "    #model.summary()\n",
    "    if (pretrained and len(pretrained_model_fn) > 0):\n",
    "        print('... loading the pretrained model', pretrained_model_fn)\n",
    "        model.load_weights(pretrained_model_fn)\n",
    "    model_checkpoint = ModelCheckpoint(trained_model_fn, monitor='loss',verbose=1, save_best_only=True)\n",
    "    #RemoteMonitor(root='http://35.240.18.144:9000', path='/publish/epoch/end/', field='data', headers=None, send_as_json=False)\n",
    "    leaning_rate = ReduceLROnPlateau(monitor='val_loss', factor=0.5, patience=5, verbose=0, mode='auto', min_delta=0.0001, cooldown=0, min_lr=0)\n",
    "    early_stop = EarlyStopping(monitor='loss', min_delta=0, patience=10, verbose=1, mode='auto', baseline=None)\n",
    "    hist = History()\n",
    "\n",
    "    class_weights = create_class_weight(labeldict)\n",
    "\n",
    "    history = model.fit_generator(\n",
    "        train_gen,\n",
    "        steps_per_epoch=steps_per_epoch,\n",
    "        epochs=epochs,\n",
    "        class_weight=class_weights,\n",
    "        callbacks=[model_checkpoint, leaning_rate, early_stop, hist],\n",
    "        validation_data=validation_gen,\n",
    "        validation_steps=validation_steps\n",
    "    )\n",
    "\n",
    "    return history, model"
   ]
  },
  {
   "cell_type": "code",
   "execution_count": null,
   "metadata": {
    "scrolled": false
   },
   "outputs": [
    {
     "name": "stdout",
     "output_type": "stream",
     "text": [
      "multiCat_segnet_0907_1115_e-15_r-4.hdf5\n",
      "multicat_unet_NL_th0-0.01_th1-0.02_bs-3_ep-1_r-2.hdf5\n",
      "multicat_unet_NL_th0-0.01_th1-0.02_bs-3_ep-1_r-1.hdf5\n",
      "multiCat_segnet_0907_1115_e-15_r-5.hdf5\n",
      "multiCat_segnet_0907_1115_e-15_r-1.hdf5\n",
      ".ipynb_checkpoints\n",
      ".gitkeep\n",
      "multiCat_segnet_0907_1115_e-15_r-3.hdf5\n",
      "multiCat_segnet_0907_1115_e-15_r-2.hdf5\n",
      "multicat_unet_NL_th0-0.01_th1-0.02_bs-3_ep-1_r-3.hdf5\n",
      "... training model  ../../models/multicat_unet_NL_th0-0.0_th1-0.0_bs-3_ep-15_r-1.hdf5\n"
     ]
    },
    {
     "name": "stderr",
     "output_type": "stream",
     "text": [
      "/home/ubuntu/roaddetection/src/models/catmodel.py:56: UserWarning: Update your `Conv2D` call to the Keras 2 API: `Conv2D(3, (1, 1), padding=\"same\", activation=\"relu\")`\n",
      "  conv10 = layers.Conv2D(nClasses, 1, 1, activation='relu',border_mode='same')(conv9)\n",
      "/home/ubuntu/roaddetection/src/models/catmodel.py:63: UserWarning: Update your `Model` call to the Keras 2 API: `Model(inputs=Tensor(\"in..., outputs=Tensor(\"re...)`\n",
      "  model = Model(input=inputs, output=conv10)\n"
     ]
    },
    {
     "name": "stdout",
     "output_type": "stream",
     "text": [
      "Epoch 1/15\n",
      "Found 149 images belonging to 1 classes.Found 596 images belonging to 1 classes.\n",
      "\n",
      "Found 149 images belonging to 1 classes.\n",
      "Found 596 images belonging to 1 classes.\n",
      " 13/198 [>.............................] - ETA: 1:40 - loss: 0.6505 - acc: 0.9103 - auc_pr_multiclass: 0.0434"
     ]
    }
   ],
   "source": [
    "for t0 in [0., 0.01, 0.02]:\n",
    "    for t1 in [0., 0.01, 0.02, 0.04, 0.08]:\n",
    "\n",
    "        for i in range(5):\n",
    "            history, model = go(batch_size = 3, epochs = 15, pretrained = True, th0=t0, th1=t1)\n",
    "            del history\n",
    "            del model\n",
    "            keras.clear_session()"
   ]
  },
  {
   "cell_type": "code",
   "execution_count": null,
   "metadata": {},
   "outputs": [],
   "source": [
    "import matplotlib.pyplot as plt\n",
    "\n",
    "def plot_history(history):\n",
    "    plt.plot(history[\"acc\"], label=\"acc\")\n",
    "    plt.plot(history[\"val_acc\"], label=\"val_acc\")\n",
    "    plt.legend()\n",
    "    plt.show()\n",
    "    plt.close()\n",
    "    \n",
    "    plt.plot(history[\"loss\"], label=\"loss\")\n",
    "    plt.plot(history[\"val_loss\"], label=\"val_loss\")\n",
    "    plt.legend()\n",
    "    plt.show()\n",
    "    plt.close()\n",
    "\n",
    "    plt.plot(history[\"auc_pr_multiclass\"], label=\"auc_pr_multiclass\")\n",
    "    plt.plot(history[\"val_auc_pr_multiclass\"], label=\"val_auc_pr_multiclass\")\n",
    "    plt.legend()\n",
    "    plt.show()\n",
    "    plt.close()\n",
    "\n",
    "plot_history(history.history)"
   ]
  },
  {
   "cell_type": "code",
   "execution_count": null,
   "metadata": {},
   "outputs": [],
   "source": [
    "#testGene = testGenerator(\"../../data/test/sat\",target_size=(256, 256),as_gray=False)\n",
    "#n = 0\n",
    "#for img, name in testGene:\n",
    "#    results = model.predict(img, batch_size=1)\n",
    "#    saveResult(\"../../data/test/predict\", results, name, True, 3)\n",
    "#    n += 1\n",
    "#    if(n>300):\n",
    "#        break"
   ]
  },
  {
   "cell_type": "code",
   "execution_count": null,
   "metadata": {},
   "outputs": [],
   "source": []
  },
  {
   "cell_type": "code",
   "execution_count": null,
   "metadata": {},
   "outputs": [],
   "source": []
  },
  {
   "cell_type": "code",
   "execution_count": null,
   "metadata": {},
   "outputs": [],
   "source": []
  },
  {
   "cell_type": "code",
   "execution_count": null,
   "metadata": {},
   "outputs": [],
   "source": []
  },
  {
   "cell_type": "code",
   "execution_count": null,
   "metadata": {},
   "outputs": [],
   "source": []
  },
  {
   "cell_type": "code",
   "execution_count": null,
   "metadata": {},
   "outputs": [],
   "source": []
  },
  {
   "cell_type": "code",
   "execution_count": null,
   "metadata": {},
   "outputs": [],
   "source": []
  },
  {
   "cell_type": "code",
   "execution_count": null,
   "metadata": {},
   "outputs": [],
   "source": []
  },
  {
   "cell_type": "code",
   "execution_count": null,
   "metadata": {},
   "outputs": [],
   "source": []
  },
  {
   "cell_type": "code",
   "execution_count": null,
   "metadata": {},
   "outputs": [],
   "source": []
  },
  {
   "cell_type": "code",
   "execution_count": null,
   "metadata": {},
   "outputs": [],
   "source": []
  }
 ],
 "metadata": {
  "kernelspec": {
   "display_name": "Python 3",
   "language": "python",
   "name": "python3"
  },
  "language_info": {
   "codemirror_mode": {
    "name": "ipython",
    "version": 3
   },
   "file_extension": ".py",
   "mimetype": "text/x-python",
   "name": "python",
   "nbconvert_exporter": "python",
   "pygments_lexer": "ipython3",
   "version": "3.5.2"
  }
 },
 "nbformat": 4,
 "nbformat_minor": 2
}
