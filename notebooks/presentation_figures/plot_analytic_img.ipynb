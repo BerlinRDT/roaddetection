{
 "cells": [
  {
   "cell_type": "markdown",
   "metadata": {},
   "source": [
    "# Convert analytic satellite image, plot and save figure\n",
    "Improvements:\n",
    "* read only part of file\n",
    "* set up a dict with as many entries as plots are to be produced; values are lists of input args to conversion function and pre-/postprocessing pipelines"
   ]
  },
  {
   "cell_type": "code",
   "execution_count": null,
   "metadata": {},
   "outputs": [],
   "source": [
    "# check whether all are needed\n",
    "import numpy as np\n",
    "import pandas as pd\n",
    "import rasterio \n",
    "from rasterio.plot import show, reshape_as_image\n",
    "from osgeo import gdal\n",
    "\n",
    "from skimage import exposure\n",
    "from matplotlib import pyplot as plt\n",
    "%matplotlib inline\n",
    "\n",
    "import os\n",
    "\n",
    "import hh_utilities as hu\n",
    "from satimg_visual import convert_sat_img"
   ]
  },
  {
   "cell_type": "markdown",
   "metadata": {},
   "source": [
    "## User settings"
   ]
  },
  {
   "cell_type": "code",
   "execution_count": null,
   "metadata": {},
   "outputs": [],
   "source": [
    "# source path\n",
    "img_source_dir = \"/media/hh/hd_internal/_data_DS/DSR/satelliteImages/Borneo/3093/\"\n",
    "# source file name\n",
    "img_source_fn = \"20180427_020348_103a_3B_AnalyticMS.tif\"\n",
    "# type of file\n",
    "src_type = \"BGRN\"\n",
    "# row and column indexes of excerpt\n",
    "r1, r2, c1, c2 = 1000, 1700, 4000, 4800\n",
    "\n",
    "# output format\n",
    "img_out_format = \"png\"\n",
    "img_out_dir = \"/media/hh/hd_internal/hh/DSR_Berlin_2018/roaddetection/not_for_distribution/presentations/images/\"\n",
    "img_out_fn = \"exemplary_scene_Borneo.\" + img_out_format\n",
    "\n",
    "# input args for convert_sat_img\n",
    "dest_type = [\"RGB\"] \n",
    "scaling_type = \"equalize_adapthist\"\n",
    "scaling_type = \"percentile\"\n",
    "do_scale_bands_separate = False\n",
    "do_visualize = True\n",
    "\n",
    "# graphics defaults\n",
    "figsize = (20,12)\n",
    "plt.rcParams[\"figure.figsize\"] = figsize"
   ]
  },
  {
   "cell_type": "code",
   "execution_count": null,
   "metadata": {},
   "outputs": [],
   "source": [
    "# open dataset\n",
    "src = rasterio.open(os.path.join(img_source_dir, img_source_fn))\n",
    "# read all data into numpy array (the bands are in the first dimension!)\n",
    "img_arr = src.read(masked=True)\n",
    "#img_arr = src.read(masked=False)\n",
    "mask_arr = src.read_masks()"
   ]
  },
  {
   "cell_type": "code",
   "execution_count": null,
   "metadata": {},
   "outputs": [],
   "source": [
    "# cut down\n",
    "img_arr = img_arr[:, r1:r2, c1:c2]\n",
    "mask_arr = mask_arr[:, r1:r2, c1:c2]\n"
   ]
  },
  {
   "cell_type": "code",
   "execution_count": null,
   "metadata": {},
   "outputs": [],
   "source": [
    "# call conversion function\n",
    "img_rgb, img_n, band_info = convert_sat_img(img_arr, src,\n",
    "                                            mask_arr=mask_arr,\n",
    "                                            src_type=src_type,\n",
    "                                            dest_type=dest_type,\n",
    "                                            scaling_type=scaling_type, \n",
    "                                            do_scale_bands_separate=do_scale_bands_separate,\n",
    "                                            do_visualize=do_visualize)\n",
    "\n",
    "img_mix = img_rgb.copy()\n",
    "img_mix[0] = img_n\n",
    "img_mix[1] = img_rgb[0]\n",
    "img_mix[2] = img_rgb[1]\n",
    "\n",
    "# reshape so image processing with scikit works as expected \n",
    "#(without that we could also leave it as is and use a rasterio method for plotting)\n",
    "\n",
    "img_rgb = rasterio.plot.reshape_as_image(img_rgb)\n",
    "img_mix = rasterio.plot.reshape_as_image(img_mix)\n"
   ]
  },
  {
   "cell_type": "code",
   "execution_count": null,
   "metadata": {},
   "outputs": [],
   "source": [
    "# fine-tune\n",
    "img_rgb = exposure.adjust_gamma(img_rgb,0.99)\n"
   ]
  },
  {
   "cell_type": "code",
   "execution_count": null,
   "metadata": {
    "scrolled": false
   },
   "outputs": [],
   "source": [
    "figH = plt.figure(figsize=figsize)\n",
    "axH = plt.axes()\n",
    "plt.imshow(img_rgb)\n",
    "axH.axis(\"off\");\n",
    "\n",
    "plt.savefig(os.path.join(img_out_dir, img_out_fn), orientation='portrait')\n"
   ]
  },
  {
   "cell_type": "code",
   "execution_count": null,
   "metadata": {
    "scrolled": false
   },
   "outputs": [],
   "source": [
    "fig = plt.figure(figsize=figsize)\n",
    "axH = plt.axes()\n",
    "plt.imshow(img_n, cmap=\"gray\")\n",
    "axH.axis(\"off\");\n",
    "    "
   ]
  },
  {
   "cell_type": "code",
   "execution_count": null,
   "metadata": {},
   "outputs": [],
   "source": [
    "fig = plt.figure(figsize=figsize)\n",
    "axH = plt.axes()\n",
    "plt.imshow(img_mix)\n",
    "axH.axis(\"off\");\n",
    "plt.savefig(os.path.join(img_out_dir, img_out_fn), orientation='portrait')"
   ]
  },
  {
   "cell_type": "code",
   "execution_count": null,
   "metadata": {},
   "outputs": [],
   "source": [
    "# taken from the training image generation notebook, has to be adapted\n",
    "def write_tile(src, window, meta, ax_tile):\n",
    "    outpath = output_tile_filename.format(TRAINING_SAT_DIR,int(window.col_off),int(window.row_off))\n",
    "    with rio.open(outpath, 'w', **meta) as outds:\n",
    "        tile = src.read(window=window)\n",
    "        rioplot.show(tile, ax=ax_tile, cmap='gray')\n",
    "        outds.write(tile)"
   ]
  },
  {
   "cell_type": "code",
   "execution_count": null,
   "metadata": {},
   "outputs": [],
   "source": []
  },
  {
   "cell_type": "code",
   "execution_count": null,
   "metadata": {},
   "outputs": [],
   "source": []
  }
 ],
 "metadata": {
  "kernelspec": {
   "display_name": "Python 3",
   "language": "python",
   "name": "python3"
  },
  "language_info": {
   "codemirror_mode": {
    "name": "ipython",
    "version": 3
   },
   "file_extension": ".py",
   "mimetype": "text/x-python",
   "name": "python",
   "nbconvert_exporter": "python",
   "pygments_lexer": "ipython3",
   "version": "3.6.6"
  }
 },
 "nbformat": 4,
 "nbformat_minor": 2
}
