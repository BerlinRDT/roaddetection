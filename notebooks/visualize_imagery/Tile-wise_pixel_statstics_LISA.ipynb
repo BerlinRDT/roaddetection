{
 "cells": [
  {
   "cell_type": "markdown",
   "metadata": {},
   "source": [
    "# Tile-wise pixel statistics"
   ]
  },
  {
   "cell_type": "code",
   "execution_count": null,
   "metadata": {},
   "outputs": [],
   "source": [
    "#%matplotlib inline\n",
    "import numpy as np\n",
    "from pathlib import Path\n",
    "import os\n",
    "import rasterio as rio\n",
    "import rasterio.plot as rioplot\n",
    "import numpy as np\n",
    "import matplotlib.pyplot as plt\n",
    "import matplotlib.pyplot as plt\n",
    "import numpy as np\n",
    "\n",
    "from skimage import data, img_as_float\n",
    "from skimage import exposure\n",
    "from PIL import Image\n",
    "import pandas as pd"
   ]
  },
  {
   "cell_type": "code",
   "execution_count": null,
   "metadata": {},
   "outputs": [],
   "source": [
    "DATADIR = \"../../data/train\"\n",
    "RAW_MAPS = DATADIR + \"/map\"     #'../data/raw/images'"
   ]
  },
  {
   "cell_type": "code",
   "execution_count": null,
   "metadata": {},
   "outputs": [],
   "source": [
    "def getPixels(file):\n",
    "    with rio.open(file) as inds:\n",
    "         \n",
    "        ima = inds.read()\n",
    "\n",
    "        vals, counts = np.unique(ima, return_counts=True)\n",
    "\n",
    "        dic = (dict(zip(vals, counts)))\n",
    "        if 127 not in dic.keys():\n",
    "            dic[127] = 0\n",
    "        if 255 not in dic.keys():\n",
    "            dic[255] = 0\n",
    "    return  dic"
   ]
  },
  {
   "cell_type": "code",
   "execution_count": null,
   "metadata": {
    "scrolled": true
   },
   "outputs": [],
   "source": [
    "stats = []\n",
    "for file in Path(RAW_MAPS).iterdir():\n",
    "    if file.name.endswith(('.tif', '.tiff')):\n",
    "        dic = getPixels(file)\n",
    "        stats.append([file.name, dic[0], dic[127], dic[255]])"
   ]
  },
  {
   "cell_type": "code",
   "execution_count": null,
   "metadata": {},
   "outputs": [],
   "source": [
    "df = pd.DataFrame.from_dict(stats)\n",
    "df.columns = ['name', 'numPixel_noRoad', 'numPixel_pavedRoad', 'numPixel_unpavedRoad']"
   ]
  },
  {
   "cell_type": "code",
   "execution_count": null,
   "metadata": {},
   "outputs": [],
   "source": [
    "col_list= list(df)\n",
    "col_list.remove('name')\n",
    "col_list"
   ]
  },
  {
   "cell_type": "code",
   "execution_count": null,
   "metadata": {},
   "outputs": [],
   "source": [
    "df['sumPixels'] = df[col_list].sum(axis=1)"
   ]
  },
  {
   "cell_type": "code",
   "execution_count": null,
   "metadata": {},
   "outputs": [],
   "source": [
    "df['relative_noRoad']    = df['numPixel_noRoad']/df['sumPixels']\n",
    "df['relative_pavedRoad'] = df['numPixel_pavedRoad']/df['sumPixels']\n",
    "df['relative_unpavedRoad'] = df['numPixel_unpavedRoad']/df['sumPixels']"
   ]
  },
  {
   "cell_type": "code",
   "execution_count": null,
   "metadata": {},
   "outputs": [],
   "source": [
    "#df.to_csv('numOfPixPerClassPerTile.csv')"
   ]
  }
 ],
 "metadata": {
  "kernelspec": {
   "display_name": "Python 3",
   "language": "python",
   "name": "python3"
  },
  "language_info": {
   "codemirror_mode": {
    "name": "ipython",
    "version": 3
   },
   "file_extension": ".py",
   "mimetype": "text/x-python",
   "name": "python",
   "nbconvert_exporter": "python",
   "pygments_lexer": "ipython3",
   "version": "3.6.5"
  }
 },
 "nbformat": 4,
 "nbformat_minor": 2
}
