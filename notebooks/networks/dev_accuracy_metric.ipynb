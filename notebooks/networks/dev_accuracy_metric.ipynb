{
 "cells": [
  {
   "cell_type": "markdown",
   "metadata": {},
   "source": [
    "# Development stage for accuracy metrics"
   ]
  },
  {
   "cell_type": "code",
   "execution_count": 1,
   "metadata": {},
   "outputs": [
    {
     "name": "stderr",
     "output_type": "stream",
     "text": [
      "Using TensorFlow backend.\n"
     ]
    }
   ],
   "source": [
    "import numpy as np\n",
    "import tensorflow as tf\n",
    "import keras.backend as K\n",
    "\n",
    "import matplotlib.pyplot as plt\n",
    "\n",
    "import metrics_img as mimg"
   ]
  },
  {
   "cell_type": "code",
   "execution_count": 2,
   "metadata": {},
   "outputs": [
    {
     "name": "stdout",
     "output_type": "stream",
     "text": [
      "-1.0\n",
      "0.2\n",
      "0.5\n",
      "1.0\n"
     ]
    }
   ],
   "source": [
    "sess = tf.InteractiveSession()\n",
    "mimg.test_IoU_binary()"
   ]
  },
  {
   "cell_type": "code",
   "execution_count": 3,
   "metadata": {},
   "outputs": [
    {
     "name": "stdout",
     "output_type": "stream",
     "text": [
      "0.8602778\n"
     ]
    }
   ],
   "source": [
    "mimg.test_auroc()"
   ]
  },
  {
   "cell_type": "code",
   "execution_count": 4,
   "metadata": {},
   "outputs": [
    {
     "data": {
      "text/plain": [
       "<function metrics_img.dummy_metric(y_true, y_pred)>"
      ]
     },
     "execution_count": 4,
     "metadata": {},
     "output_type": "execute_result"
    }
   ],
   "source": [
    "mimg.dummy_metric"
   ]
  },
  {
   "cell_type": "code",
   "execution_count": 5,
   "metadata": {},
   "outputs": [],
   "source": [
    "sess.close()"
   ]
  },
  {
   "cell_type": "code",
   "execution_count": 6,
   "metadata": {},
   "outputs": [
    {
     "data": {
      "text/plain": [
       "<function tensorflow.contrib.metrics.python.ops.metric_ops.streaming_pearson_correlation(predictions, labels, weights=None, metrics_collections=None, updates_collections=None, name=None)>"
      ]
     },
     "execution_count": 6,
     "metadata": {},
     "output_type": "execute_result"
    }
   ],
   "source": [
    "tf.contrib.metrics.streaming_pearson_correlation\n"
   ]
  },
  {
   "cell_type": "code",
   "execution_count": null,
   "metadata": {},
   "outputs": [],
   "source": [
    "# code (source unknown) for computing precision and recall in tensorflow\n",
    "    \"\"\"\n",
    "    tp_3d = K.concatenate(\n",
    "        [\n",
    "            K.cast(y_true, 'bool'),\n",
    "            K.cast(K.round(y_pred), 'bool'),\n",
    "            K.cast(K.ones_like(y_pred), 'bool')\n",
    "        ], axis=1\n",
    "    )\n",
    "\n",
    "    fp_3d = K.concatenate(\n",
    "        [\n",
    "            K.cast(K.abs(y_true - K.ones_like(y_true)), 'bool'),\n",
    "            K.cast(K.round(y_pred), 'bool'),\n",
    "            K.cast(K.ones_like(y_pred), 'bool')\n",
    "        ], axis=1\n",
    "    )\n",
    "\n",
    "    fn_3d = K.concatenate(\n",
    "        [\n",
    "            K.cast(y_true, 'bool'),\n",
    "            K.cast(K.abs(K.round(y_pred) - K.ones_like(y_pred)), 'bool'),\n",
    "            K.cast(K.ones_like(y_pred), 'bool')\n",
    "        ], axis=1\n",
    "    )\n",
    "\n",
    "    tp = K.sum(K.cast(K.all(tp_3d, axis=1), 'int32'))\n",
    "    fp = K.sum(K.cast(K.all(fp_3d, axis=1), 'int32'))\n",
    "    fn = K.sum(K.cast(K.all(fn_3d, axis=1), 'int32'))\n",
    "\n",
    "    precision = tp / (tp + fp)\n",
    "    recall = tp / (tp + fn)\n",
    "    return 2 * ((precision * recall) / (precision + recall))"
   ]
  },
  {
   "cell_type": "code",
   "execution_count": null,
   "metadata": {},
   "outputs": [],
   "source": []
  }
 ],
 "metadata": {
  "kernelspec": {
   "display_name": "Python 3",
   "language": "python",
   "name": "python3"
  },
  "language_info": {
   "codemirror_mode": {
    "name": "ipython",
    "version": 3
   },
   "file_extension": ".py",
   "mimetype": "text/x-python",
   "name": "python",
   "nbconvert_exporter": "python",
   "pygments_lexer": "ipython3",
   "version": "3.6.6"
  }
 },
 "nbformat": 4,
 "nbformat_minor": 2
}
