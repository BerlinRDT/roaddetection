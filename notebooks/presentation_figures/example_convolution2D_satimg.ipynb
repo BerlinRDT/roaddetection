{
 "cells": [
  {
   "cell_type": "markdown",
   "metadata": {},
   "source": [
    "# 2D convolution of satellite images - playground\n",
    "for demonstration purposes"
   ]
  },
  {
   "cell_type": "code",
   "execution_count": null,
   "metadata": {},
   "outputs": [],
   "source": [
    "import sys\n",
    "sys.path.append(\"/mnt/hd_internal/hh/projects_DS/road_detection/roaddetection\")\n",
    "import os\n",
    "import numpy as np\n",
    "import pandas as pd\n",
    "import rasterio\n",
    "from matplotlib import pyplot as plt\n",
    "from src.models.data import *\n",
    "from src.visualization.visualize_satimg import convert_sat_img, define_band_colors, get_band_properties\n",
    "%load_ext autoreload\n",
    "%autoreload 2\n",
    "%matplotlib inline"
   ]
  },
  {
   "cell_type": "markdown",
   "metadata": {},
   "source": [
    "## User settings"
   ]
  },
  {
   "cell_type": "code",
   "execution_count": null,
   "metadata": {},
   "outputs": [],
   "source": [
    "# source path\n",
    "img_source_dir = \"/mnt/hd_internal/_data_DS/roaddetection/_reservoir/satelliteImages/Borneo/3093/\"\n",
    "# source file name\n",
    "img_source_fn = \"20180427_020348_103a_3B_AnalyticMS.tif\"\n",
    "# type of file (ordering of bands)\n",
    "src_type = \"BGRN\"\n",
    "# row and column indexes of excerpt\n",
    "r1, r2, c1, c2 = 1000, 1700, 4000, 4800\n",
    "\n",
    "# output format of graphics file (set to None to suppress)\n",
    "img_out_format = \"png\"\n",
    "img_out_format = \"tif\"\n",
    "#img_out_format = None\n",
    "\n",
    "img_out_dir = \"/mnt/hd_internal/hh/projects_DS/road_detection/presentations/images/\"\n",
    "img_out_fn = \"exemplary_scene_Borneo_01\"\n",
    "\n",
    "# some input args for convert_sat_img:\n",
    "# list all types of scaling that are supposed to take place\n",
    "scaling_type = [\"percentile\", \"equalize_adapthist\"]\n",
    "scaling_type = [\"percentile\"]\n",
    "#scaling_type = [\"equalize_adapthist\"]\n",
    "\n",
    "do_scale_bands_separate = False\n",
    "# percentile; values above it will be clipped if method \"percentile\" is in scaling_type\n",
    "percentile=99.8\n",
    "# clip limit for equalize_adapthist - default 0.03; the higher the value, the brighter the image\n",
    "clip_limit=0.01\n",
    "\n",
    "# graphics defaults\n",
    "figsize = (20,10)\n",
    "plt.rcParams[\"figure.figsize\"] = figsize"
   ]
  },
  {
   "cell_type": "code",
   "execution_count": null,
   "metadata": {},
   "outputs": [],
   "source": [
    "# open dataset\n",
    "src = rasterio.open(os.path.join(img_source_dir, img_source_fn))\n",
    "# read all data into numpy array; notes:\n",
    "# - the bands are in the first dimension\n",
    "# - we might also read using a window\n",
    "# - reading the image as a masked array does not make sense because function convert_sat_img\n",
    "#   uses sklearn for image manipulation, which ignores masked arrays, hence we need the\n",
    "#   an explicit mask array\n",
    "img_full = src.read(masked=False)\n",
    "mask_full = src.read_masks()"
   ]
  },
  {
   "cell_type": "code",
   "execution_count": null,
   "metadata": {
    "scrolled": true
   },
   "outputs": [],
   "source": [
    "# cut down to desired excerpt\n",
    "img_arr = img_full[:, r1:r2, c1:c2]\n",
    "if mask_full is not None:\n",
    "    mask_arr = mask_full[:, r1:r2, c1:c2]\n",
    "else:\n",
    "    mask_arr = None"
   ]
  },
  {
   "cell_type": "code",
   "execution_count": null,
   "metadata": {
    "scrolled": false
   },
   "outputs": [],
   "source": [
    "# call conversion function\n",
    "img_rgb, _, _ = convert_sat_img(img_arr, src,\n",
    "                                src_type=src_type,\n",
    "                                mask_arr=mask_arr,\n",
    "                                pca=False,\n",
    "                                scaling_type=scaling_type, \n",
    "                                do_scale_bands_separate=do_scale_bands_separate,\n",
    "                                percentile=percentile,\n",
    "                                clip_limit=clip_limit,\n",
    "                                do_histogram=False)"
   ]
  },
  {
   "cell_type": "code",
   "execution_count": null,
   "metadata": {
    "scrolled": false
   },
   "outputs": [],
   "source": [
    "# plot rgb\n",
    "fig = plt.figure(figsize=figsize)\n",
    "axH = plt.axes()\n",
    "plt.imshow(img_rgb)\n",
    "axH.axis(\"off\");\n",
    "if img_out_format:\n",
    "    plt.savefig(os.path.join(img_out_dir, img_out_fn + \".\" + img_out_format), orientation='portrait')"
   ]
  },
  {
   "cell_type": "code",
   "execution_count": null,
   "metadata": {},
   "outputs": [],
   "source": [
    "# convolute image with horizontal bar and vertical bar:\n",
    "filter_size = 5\n",
    "# - list of functions returning small 2D matrices to be used for convolution (defined in source/models/data)\n",
    "conv_matrix_fun = [conv_matrix_inhibsurround,\n",
    "                   conv_matrix_horizontalbar,\n",
    "                   conv_matrix_verticalbar,\n",
    "                   conv_matrix_diag_llur,\n",
    "                   conv_matrix_diag_ullr]\n",
    "# - run convolutions (bands of input array img_rgb will be collapsed into one; output will have as many 'bands' as \n",
    "# there are entries in conv_matrix_fun defined above)\n",
    "img_f = feature_eng_conv(img_rgb, conv_matrix_fun, n=filter_size, collapse_bands=True)"
   ]
  },
  {
   "cell_type": "code",
   "execution_count": null,
   "metadata": {
    "scrolled": false
   },
   "outputs": [],
   "source": [
    "# plot\n",
    "for ix in range(img_f.shape[2]):\n",
    "    fig = plt.figure(figsize=figsize)\n",
    "    axH1 = plt.subplot(3,3,1)\n",
    "    axH1.pcolor(conv_matrix_fun[ix](filter_size), cmap=\"gray\", edgecolors='k', linewidths=2)\n",
    "    axH1.set_aspect('equal', 'box')\n",
    "    axH1.grid(zorder=1, color=[0.6, 0.6, 0.6], linewidth=2)\n",
    "    axH1.set_xticklabels([])\n",
    "    axH1.set_yticklabels([])\n",
    "    axH2 = plt.subplot(1,2,2)\n",
    "    axH2.imshow(img_f[:,:,ix], cmap=\"gray\")\n",
    "    axH2.axis(\"off\");\n",
    "    \n",
    "    if img_out_format:\n",
    "        plt.savefig(os.path.join(img_out_dir, img_out_fn + \"_conv\" + str(ix) + \".\" + img_out_format), orientation='portrait')"
   ]
  },
  {
   "cell_type": "code",
   "execution_count": null,
   "metadata": {},
   "outputs": [],
   "source": [
    "# for the fun of it, plot average, too\n",
    "fig = plt.figure(figsize=figsize)\n",
    "axH = plt.axes()\n",
    "plt.imshow(np.mean(img_f, axis=2), cmap=\"gray\")\n",
    "axH.axis(\"off\");"
   ]
  }
 ],
 "metadata": {
  "kernelspec": {
   "display_name": "Python 3",
   "language": "python",
   "name": "python3"
  },
  "language_info": {
   "codemirror_mode": {
    "name": "ipython",
    "version": 3
   },
   "file_extension": ".py",
   "mimetype": "text/x-python",
   "name": "python",
   "nbconvert_exporter": "python",
   "pygments_lexer": "ipython3",
   "version": "3.7.3"
  }
 },
 "nbformat": 4,
 "nbformat_minor": 2
}
