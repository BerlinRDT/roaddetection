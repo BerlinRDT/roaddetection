{
 "cells": [
  {
   "cell_type": "markdown",
   "metadata": {},
   "source": [
    "# Tests of Raster class"
   ]
  },
  {
   "cell_type": "code",
   "execution_count": 1,
   "metadata": {},
   "outputs": [],
   "source": [
    "# check whether all are needed\n",
    "import numpy as np\n",
    "import pandas as pd\n",
    "import rasterio \n",
    "from rasterio.plot import show\n",
    "from osgeo import gdal\n",
    "from scipy import stats\n",
    "import skimage\n",
    "from skimage import exposure\n",
    "from matplotlib import pyplot as plt\n",
    "%matplotlib inline\n",
    "plt.rcParams[\"figure.figsize\"] = (20,12)\n",
    "\n",
    "\n",
    "from shapely.ops import transform\n",
    "from shapely.geometry import mapping\n",
    "\n",
    "import rasterio as rio\n",
    "\n",
    "from rasterio import windows\n",
    "from rasterio import features\n",
    "from rasterio.warp import transform_bounds\n",
    "\n",
    "from itertools import product\n",
    "from utils import output_sat_path, output_sat_rgb_path, output_map_path\n",
    "from bounding_box import inner_bbox, window_trueBoundingBox, cut_linestrings_at_bounds\n",
    "import pyproj\n",
    "from functools import partial\n",
    "from operator import is_not\n",
    "\n",
    "import raster\n",
    "\n",
    "\n",
    "import hh_utilities as hu"
   ]
  },
  {
   "cell_type": "code",
   "execution_count": 2,
   "metadata": {},
   "outputs": [],
   "source": [
    "# base dir\n",
    "BASE_DIR = \"/media/hh/hd_internal/_data_DS/DSR/satelliteImages/Borneo/3093/\"\n",
    "# file names\n",
    "r_analytic = BASE_DIR + \"20180427_020348_103a_3B_AnalyticMS.tif\"\n",
    "r_visual_rgb_filename = BASE_DIR + \"3band_visual_converted/20180427_020348_103a_3B_newVisual.tif\"\n",
    "meta_data_filename = BASE_DIR + \"20180427_020348_103a_3B_AnalyticMS_metadata.xml\"\n",
    "\n",
    "raster_img = raster.Raster(r_analytic, r_visual_rgb_filename, meta_data_filename)"
   ]
  },
  {
   "cell_type": "code",
   "execution_count": 3,
   "metadata": {},
   "outputs": [
    {
     "data": {
      "text/plain": [
       "raster.Raster"
      ]
     },
     "execution_count": 3,
     "metadata": {},
     "output_type": "execute_result"
    }
   ],
   "source": [
    "# open dataset\n",
    "src = rasterio.open(r_analytic)\n",
    "# read all data into numpy array (the bands are in the first dimension!)\n",
    "#img_arr = src.read(masked=True)\n",
    "img_arr = src.read()"
   ]
  },
  {
   "cell_type": "code",
   "execution_count": 30,
   "metadata": {},
   "outputs": [
    {
     "data": {
      "text/plain": [
       "(4, 200, 100)"
      ]
     },
     "execution_count": 30,
     "metadata": {},
     "output_type": "execute_result"
    }
   ],
   "source": [
    "#w = raster_img.get_windows(raster_img, 1024, 1024, 0.25)\n",
    "# w is an instance of rasterio.window.Window\n",
    "\n",
    "w = windows.Window(col_off=100, row_off=0, width=100, height=200)\n",
    "ix = w.toslices()\n",
    "ix[0]\n",
    "d = img_arr[:,ix[0],ix[1]]\n",
    "np.shape(d)"
   ]
  },
  {
   "cell_type": "code",
   "execution_count": null,
   "metadata": {},
   "outputs": [],
   "source": []
  },
  {
   "cell_type": "code",
   "execution_count": null,
   "metadata": {},
   "outputs": [],
   "source": []
  },
  {
   "cell_type": "code",
   "execution_count": null,
   "metadata": {},
   "outputs": [],
   "source": []
  },
  {
   "cell_type": "code",
   "execution_count": null,
   "metadata": {},
   "outputs": [],
   "source": []
  },
  {
   "cell_type": "code",
   "execution_count": null,
   "metadata": {},
   "outputs": [],
   "source": []
  },
  {
   "cell_type": "code",
   "execution_count": null,
   "metadata": {},
   "outputs": [],
   "source": []
  }
 ],
 "metadata": {
  "kernelspec": {
   "display_name": "Python 3",
   "language": "python",
   "name": "python3"
  },
  "language_info": {
   "codemirror_mode": {
    "name": "ipython",
    "version": 3
   },
   "file_extension": ".py",
   "mimetype": "text/x-python",
   "name": "python",
   "nbconvert_exporter": "python",
   "pygments_lexer": "ipython3",
   "version": "3.6.6"
  }
 },
 "nbformat": 4,
 "nbformat_minor": 2
}
