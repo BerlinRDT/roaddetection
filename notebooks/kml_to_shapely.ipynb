{
 "cells": [
  {
   "cell_type": "code",
   "execution_count": 98,
   "metadata": {},
   "outputs": [],
   "source": [
    "from shapely.geometry import mapping, LineString, shape\n",
    "from pathlib import Path\n",
    "import kml2geojson as k2g"
   ]
  },
  {
   "cell_type": "code",
   "execution_count": 93,
   "metadata": {},
   "outputs": [],
   "source": [
    "DST_CRS = 'EPSG:4326'\n",
    "\n",
    "RAW_IMAGES = '../data/raw/images'\n",
    "RAW_LABELS = '../data/raw/labels'\n",
    "\n",
    "TRAINING_DIR = '../data/train'\n",
    "TRAINING_SAT_DIR = '{}/sat'.format(TRAINING_DIR)\n",
    "TRAINING_MAP_DIR = '{}/map'.format(TRAINING_DIR)"
   ]
  },
  {
   "cell_type": "code",
   "execution_count": 100,
   "metadata": {},
   "outputs": [],
   "source": [
    "for file in Path(RAW_LABELS).iterdir():\n",
    "    if file.name.endswith(('.kml', 'kmz')):\n",
    "        kmlpath = '{}/{}'.format(RAW_LABELS,file.name)\n",
    "        k2g.convert(kmlpath, RAW_LABELS )"
   ]
  }
 ],
 "metadata": {
  "kernelspec": {
   "display_name": "Python 3",
   "language": "python",
   "name": "python3"
  },
  "language_info": {
   "codemirror_mode": {
    "name": "ipython",
    "version": 3
   },
   "file_extension": ".py",
   "mimetype": "text/x-python",
   "name": "python",
   "nbconvert_exporter": "python",
   "pygments_lexer": "ipython3",
   "version": "3.6.5"
  }
 },
 "nbformat": 4,
 "nbformat_minor": 2
}
