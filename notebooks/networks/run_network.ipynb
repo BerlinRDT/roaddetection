{
 "cells": [
  {
   "cell_type": "markdown",
   "metadata": {},
   "source": [
    "# Run network model"
   ]
  },
  {
   "cell_type": "code",
   "execution_count": 27,
   "metadata": {},
   "outputs": [
    {
     "name": "stdout",
     "output_type": "stream",
     "text": [
      "The autoreload extension is already loaded. To reload it, use:\n",
      "  %reload_ext autoreload\n"
     ]
    }
   ],
   "source": [
    "%load_ext autoreload\n",
    "%autoreload 2\n",
    "\n",
    "#from keras.layers import merge\n",
    "from src.models.data import *\n",
    "from src.models.model import *\n",
    "from src.data.utils import get_tile_prefix\n",
    "from src.models.metrics_img import auc_roc, auc_pr\n",
    "#import rasterio.plot as rioplot\n",
    "import matplotlib\n",
    "import matplotlib.pyplot as plt\n",
    "#import matplotlib.image as mpimg\n",
    "\n",
    "from keras.callbacks import ModelCheckpoint, LearningRateScheduler, EarlyStopping, LambdaCallback\n",
    "\n",
    "from pathlib import Path\n",
    "import os, shutil\n",
    "import sys\n",
    "%matplotlib inline"
   ]
  },
  {
   "cell_type": "markdown",
   "metadata": {},
   "source": [
    "### Define and make (if necessary) train/validation/test directories"
   ]
  },
  {
   "cell_type": "code",
   "execution_count": 28,
   "metadata": {},
   "outputs": [],
   "source": [
    "original_dataset_dir = \"../../data/train\"\n",
    "raw_images_path = \"../../data/raw/images\"\n",
    "dirs = []\n",
    "\n",
    "base_dir = \"../../data\"\n",
    "\n",
    "train_dir = os.path.join(base_dir, \"train\")\n",
    "dirs.append(train_dir)\n",
    "\n",
    "train_partial_dir = os.path.join(base_dir, \"train_partial\")\n",
    "dirs.append(train_partial_dir)\n",
    "\n",
    "validation_dir = os.path.join(base_dir, \"validate\")\n",
    "dirs.append(validation_dir)\n",
    "test_dir = os.path.join(base_dir, \"test\")\n",
    "dirs.append(test_dir)"
   ]
  },
  {
   "cell_type": "markdown",
   "metadata": {},
   "source": [
    "### Split data up into train/validation/test images"
   ]
  },
  {
   "cell_type": "code",
   "execution_count": 29,
   "metadata": {},
   "outputs": [
    {
     "name": "stdout",
     "output_type": "stream",
     "text": [
      "../../data/train/sat : 1372\n",
      "../../data/train/map : 1372\n",
      "../../data/train/sat_rgb : 1372\n",
      "../../data/train_partial/sat : 689\n",
      "../../data/train_partial/map : 689\n",
      "../../data/train_partial/sat_rgb : 689\n",
      "../../data/validate/sat : 281\n",
      "../../data/validate/map : 281\n",
      "../../data/validate/sat_rgb : 281\n",
      "../../data/test/sat : 275\n",
      "../../data/test/map : 275\n",
      "../../data/test/sat_rgb : 275\n",
      "Done.\n"
     ]
    }
   ],
   "source": [
    "for directory in dirs:\n",
    "    for file_type in [\"sat\", \"map\", \"sat_rgb\"]:\n",
    "        target = os.path.join(directory, file_type)\n",
    "        print(target, \":\", len(os.listdir(target)))\n",
    "\n",
    "print(\"Done.\")"
   ]
  },
  {
   "cell_type": "markdown",
   "metadata": {},
   "source": [
    "## User settings"
   ]
  },
  {
   "cell_type": "code",
   "execution_count": 30,
   "metadata": {},
   "outputs": [],
   "source": [
    "# paths to append\n",
    "sys.path.append(\"/home/ubuntu/roaddetection/\")\n",
    "sys.path.append(\"/media/hh/hd_internal/hh/DSR_Berlin_2018/roaddetection/\")\n",
    "\n",
    "# ------------- image characteristics and augmentation -----------------------------\n",
    "# size of tiles\n",
    "target_size = (512,512)\n",
    "# input arguments to Keras' ImageDataGenerator\n",
    "data_gen_args = dict(\n",
    "                    data_format=\"channels_last\",\n",
    "                    horizontal_flip=True, \n",
    "                    vertical_flip=True\n",
    " )\n",
    "# if True, image tiles will be split up into training/validation/test sets\n",
    "# only required after a fresh 'make data'\n",
    "do_data_split = False\n",
    "# directory into which to place *training* images from ImageDataGenerator for inspection;\n",
    "# default should be None because this slows things down\n",
    "imgdatagen_dir = None\n",
    "#imgdatagen_dir = '../../data/imgdatagenerator'\n",
    "\n",
    "#--------------- network weights ----------------------------------------------------\n",
    "# path to & filename of pre-trained model to use - set to None if you want to start from scratch\n",
    "# pretrained_model_fn = \"../../models/unet_membrane_analytic_27_08_14_55.hdf5\"\n",
    "pretrained_model_fn = '../../models/unet_borneo_and_harz_05_09_09_00.hdf5'\n",
    "# pretrained_model_fn = None\n",
    "\n",
    "# path to & filename of model to save\n",
    "trained_model_fn = '../../models/unet_borneo_and_harz_05_09_09_00.hdf5'\n",
    "\n",
    "#--------------- training details / hyperparameters -----------------------------------\n",
    "# batch size\n",
    "batch_size = 5\n",
    "# steps per epoch, should correspond to [number of training images] / batch size\n",
    "steps_per_epoch = 280\n",
    "# number of epochs\n",
    "epochs = 50\n",
    "# number of steps on validation set\n",
    "validation_steps = 60\n",
    "# self-explanatory variables:\n",
    "optimizer = Adam(lr=1e-4)\n",
    "loss = 'binary_crossentropy'\n",
    "loss_weights = None\n",
    "metrics = ['accuracy', auc_pr]"
   ]
  },
  {
   "cell_type": "markdown",
   "metadata": {},
   "source": [
    "### Set up ImageDataGenerators for training and validation sets"
   ]
  },
  {
   "cell_type": "code",
   "execution_count": 31,
   "metadata": {},
   "outputs": [],
   "source": [
    "train_gen = trainGenerator(batch_size,'../../data/train','sat','map',\n",
    "                        data_gen_args, save_to_dir = imgdatagen_dir, image_color_mode=\"rgba\", target_size=target_size)\n",
    "\n",
    "validation_gen = trainGenerator(batch_size,'../../data/validate','sat','map',\n",
    "                        data_gen_args, save_to_dir = None, image_color_mode=\"rgba\", target_size=target_size)"
   ]
  },
  {
   "cell_type": "markdown",
   "metadata": {},
   "source": [
    "### Define model, compile, show summary, possibly load weights, define callbacks (including checkpoints)"
   ]
  },
  {
   "cell_type": "code",
   "execution_count": 32,
   "metadata": {},
   "outputs": [
    {
     "name": "stderr",
     "output_type": "stream",
     "text": [
      "/home/ubuntu/roaddetection/src/models/model.py:58: UserWarning: Update your `Model` call to the Keras 2 API: `Model(outputs=Tensor(\"co..., inputs=Tensor(\"in...)`\n",
      "  model = Model(input=inputs, output=conv10)\n"
     ]
    },
    {
     "name": "stdout",
     "output_type": "stream",
     "text": [
      "__________________________________________________________________________________________________\n",
      "Layer (type)                    Output Shape         Param #     Connected to                     \n",
      "==================================================================================================\n",
      "input_3 (InputLayer)            (None, 512, 512, 4)  0                                            \n",
      "__________________________________________________________________________________________________\n",
      "conv2d_49 (Conv2D)              (None, 512, 512, 64) 2368        input_3[0][0]                    \n",
      "__________________________________________________________________________________________________\n",
      "conv2d_50 (Conv2D)              (None, 512, 512, 64) 36928       conv2d_49[0][0]                  \n",
      "__________________________________________________________________________________________________\n",
      "max_pooling2d_9 (MaxPooling2D)  (None, 256, 256, 64) 0           conv2d_50[0][0]                  \n",
      "__________________________________________________________________________________________________\n",
      "conv2d_51 (Conv2D)              (None, 256, 256, 128 73856       max_pooling2d_9[0][0]            \n",
      "__________________________________________________________________________________________________\n",
      "conv2d_52 (Conv2D)              (None, 256, 256, 128 147584      conv2d_51[0][0]                  \n",
      "__________________________________________________________________________________________________\n",
      "max_pooling2d_10 (MaxPooling2D) (None, 128, 128, 128 0           conv2d_52[0][0]                  \n",
      "__________________________________________________________________________________________________\n",
      "conv2d_53 (Conv2D)              (None, 128, 128, 256 295168      max_pooling2d_10[0][0]           \n",
      "__________________________________________________________________________________________________\n",
      "conv2d_54 (Conv2D)              (None, 128, 128, 256 590080      conv2d_53[0][0]                  \n",
      "__________________________________________________________________________________________________\n",
      "max_pooling2d_11 (MaxPooling2D) (None, 64, 64, 256)  0           conv2d_54[0][0]                  \n",
      "__________________________________________________________________________________________________\n",
      "conv2d_55 (Conv2D)              (None, 64, 64, 512)  1180160     max_pooling2d_11[0][0]           \n",
      "__________________________________________________________________________________________________\n",
      "conv2d_56 (Conv2D)              (None, 64, 64, 512)  2359808     conv2d_55[0][0]                  \n",
      "__________________________________________________________________________________________________\n",
      "dropout_5 (Dropout)             (None, 64, 64, 512)  0           conv2d_56[0][0]                  \n",
      "__________________________________________________________________________________________________\n",
      "max_pooling2d_12 (MaxPooling2D) (None, 32, 32, 512)  0           dropout_5[0][0]                  \n",
      "__________________________________________________________________________________________________\n",
      "conv2d_57 (Conv2D)              (None, 32, 32, 1024) 4719616     max_pooling2d_12[0][0]           \n",
      "__________________________________________________________________________________________________\n",
      "conv2d_58 (Conv2D)              (None, 32, 32, 1024) 9438208     conv2d_57[0][0]                  \n",
      "__________________________________________________________________________________________________\n",
      "dropout_6 (Dropout)             (None, 32, 32, 1024) 0           conv2d_58[0][0]                  \n",
      "__________________________________________________________________________________________________\n",
      "up_sampling2d_9 (UpSampling2D)  (None, 64, 64, 1024) 0           dropout_6[0][0]                  \n",
      "__________________________________________________________________________________________________\n",
      "conv2d_59 (Conv2D)              (None, 64, 64, 512)  2097664     up_sampling2d_9[0][0]            \n",
      "__________________________________________________________________________________________________\n",
      "concatenate_9 (Concatenate)     (None, 64, 64, 1024) 0           dropout_5[0][0]                  \n",
      "                                                                 conv2d_59[0][0]                  \n",
      "__________________________________________________________________________________________________\n",
      "conv2d_60 (Conv2D)              (None, 64, 64, 512)  4719104     concatenate_9[0][0]              \n",
      "__________________________________________________________________________________________________\n",
      "conv2d_61 (Conv2D)              (None, 64, 64, 512)  2359808     conv2d_60[0][0]                  \n",
      "__________________________________________________________________________________________________\n",
      "up_sampling2d_10 (UpSampling2D) (None, 128, 128, 512 0           conv2d_61[0][0]                  \n",
      "__________________________________________________________________________________________________\n",
      "conv2d_62 (Conv2D)              (None, 128, 128, 256 524544      up_sampling2d_10[0][0]           \n",
      "__________________________________________________________________________________________________\n",
      "concatenate_10 (Concatenate)    (None, 128, 128, 512 0           conv2d_54[0][0]                  \n",
      "                                                                 conv2d_62[0][0]                  \n",
      "__________________________________________________________________________________________________\n",
      "conv2d_63 (Conv2D)              (None, 128, 128, 256 1179904     concatenate_10[0][0]             \n",
      "__________________________________________________________________________________________________\n",
      "conv2d_64 (Conv2D)              (None, 128, 128, 256 590080      conv2d_63[0][0]                  \n",
      "__________________________________________________________________________________________________\n",
      "up_sampling2d_11 (UpSampling2D) (None, 256, 256, 256 0           conv2d_64[0][0]                  \n",
      "__________________________________________________________________________________________________\n",
      "conv2d_65 (Conv2D)              (None, 256, 256, 128 131200      up_sampling2d_11[0][0]           \n",
      "__________________________________________________________________________________________________\n",
      "concatenate_11 (Concatenate)    (None, 256, 256, 256 0           conv2d_52[0][0]                  \n",
      "                                                                 conv2d_65[0][0]                  \n",
      "__________________________________________________________________________________________________\n",
      "conv2d_66 (Conv2D)              (None, 256, 256, 128 295040      concatenate_11[0][0]             \n",
      "__________________________________________________________________________________________________\n",
      "conv2d_67 (Conv2D)              (None, 256, 256, 128 147584      conv2d_66[0][0]                  \n",
      "__________________________________________________________________________________________________\n",
      "up_sampling2d_12 (UpSampling2D) (None, 512, 512, 128 0           conv2d_67[0][0]                  \n",
      "__________________________________________________________________________________________________\n",
      "conv2d_68 (Conv2D)              (None, 512, 512, 64) 32832       up_sampling2d_12[0][0]           \n",
      "__________________________________________________________________________________________________\n",
      "concatenate_12 (Concatenate)    (None, 512, 512, 128 0           conv2d_50[0][0]                  \n",
      "                                                                 conv2d_68[0][0]                  \n",
      "__________________________________________________________________________________________________\n",
      "conv2d_69 (Conv2D)              (None, 512, 512, 64) 73792       concatenate_12[0][0]             \n",
      "__________________________________________________________________________________________________\n",
      "conv2d_70 (Conv2D)              (None, 512, 512, 64) 36928       conv2d_69[0][0]                  \n",
      "__________________________________________________________________________________________________\n",
      "conv2d_71 (Conv2D)              (None, 512, 512, 2)  1154        conv2d_70[0][0]                  \n",
      "__________________________________________________________________________________________________\n",
      "conv2d_72 (Conv2D)              (None, 512, 512, 1)  3           conv2d_71[0][0]                  \n",
      "==================================================================================================\n",
      "Total params: 31,033,413\n",
      "Trainable params: 31,033,413\n",
      "Non-trainable params: 0\n",
      "__________________________________________________________________________________________________\n"
     ]
    }
   ],
   "source": [
    "model = unet()\n",
    "model.compile(optimizer=optimizer,\n",
    "              loss=loss,\n",
    "              loss_weights=loss_weights,\n",
    "              metrics=metrics)\n",
    "model.summary()\n",
    "if (pretrained_model_fn):\n",
    "    model.load_weights(pretrained_model_fn)\n",
    "model_checkpoint = ModelCheckpoint(trained_model_fn, monitor='loss',verbose=1, save_best_only=True)\n",
    "\n",
    "#Stop training if loss doesn't improve for 2 consecutive epochs\n",
    "early_stop = EarlyStopping(monitor='loss', min_delta=0, patience=5, verbose=1, mode='auto', baseline=None)"
   ]
  },
  {
   "cell_type": "markdown",
   "metadata": {},
   "source": [
    "### Run training"
   ]
  },
  {
   "cell_type": "code",
   "execution_count": 33,
   "metadata": {},
   "outputs": [],
   "source": [
    "import logging\n",
    "\n",
    "def get_logger():\n",
    "    log_fmt = '%(asctime)s - %(name)s - %(levelname)s - %(message)s'\n",
    "    logging.basicConfig(level=logging.INFO, format=log_fmt)\n",
    "    formatter = logging.Formatter(log_fmt)\n",
    "    fh = logging.FileHandler('../../logs/unet-2.log')\n",
    "    fh.setFormatter(formatter)\n",
    "    logger = logging.getLogger(__name__)\n",
    "    logger.addHandler(fh)\n",
    "    return logger"
   ]
  },
  {
   "cell_type": "code",
   "execution_count": 34,
   "metadata": {},
   "outputs": [],
   "source": [
    "logger = get_logger()\n",
    "logging_callback = LambdaCallback(\n",
    "    on_epoch_end=lambda epoch, logs: logger.info({'epoch': epoch, 'logs': logs})\n",
    ")"
   ]
  },
  {
   "cell_type": "code",
   "execution_count": 35,
   "metadata": {
    "scrolled": false
   },
   "outputs": [
    {
     "name": "stdout",
     "output_type": "stream",
     "text": [
      "Epoch 1/50\n",
      "Found 281 images belonging to 1 classes.\n",
      "Found 1372 images belonging to 1 classes.\n",
      "Found 281 images belonging to 1 classes.\n",
      "Found 1372 images belonging to 1 classes.\n",
      "280/280 [==============================] - 266s 951ms/step - loss: 0.0758 - acc: 0.9758 - auc_pr: 0.4058 - val_loss: 0.0784 - val_acc: 0.9758 - val_auc_pr: 0.4537\n",
      "\n",
      "Epoch 00001: loss improved from inf to 0.07594, saving model to ../../models/unet_borneo_and_harz_05_09_09_00.hdf5\n"
     ]
    },
    {
     "name": "stderr",
     "output_type": "stream",
     "text": [
      "2018-09-05 09:16:58,094 - __main__ - INFO - {'logs': {'val_acc': 0.9757726770397779, 'loss': 0.0759423521714673, 'acc': 0.9757359830413278, 'val_loss': 0.0784285108659517, 'val_auc_pr': 0.4536788443455825, 'auc_pr': 0.4057261428089763}, 'epoch': 0}\n"
     ]
    },
    {
     "name": "stdout",
     "output_type": "stream",
     "text": [
      "Epoch 2/50\n",
      "280/280 [==============================] - 261s 932ms/step - loss: 0.0730 - acc: 0.9762 - auc_pr: 0.4631 - val_loss: 0.0699 - val_acc: 0.9775 - val_auc_pr: 0.4654\n",
      "\n",
      "Epoch 00002: loss improved from 0.07594 to 0.07304, saving model to ../../models/unet_borneo_and_harz_05_09_09_00.hdf5\n"
     ]
    },
    {
     "name": "stderr",
     "output_type": "stream",
     "text": [
      "2018-09-05 09:21:21,951 - __main__ - INFO - {'logs': {'val_acc': 0.9774957212644655, 'loss': 0.07304487595402648, 'acc': 0.9762070024107384, 'val_loss': 0.0698983120807522, 'val_auc_pr': 0.46536980065945033, 'auc_pr': 0.463068083899313}, 'epoch': 1}\n"
     ]
    },
    {
     "name": "stdout",
     "output_type": "stream",
     "text": [
      "Epoch 3/50\n",
      "280/280 [==============================] - 262s 937ms/step - loss: 0.0714 - acc: 0.9765 - auc_pr: 0.4697 - val_loss: 0.0693 - val_acc: 0.9778 - val_auc_pr: 0.4737\n",
      "\n",
      "Epoch 00003: loss improved from 0.07304 to 0.07128, saving model to ../../models/unet_borneo_and_harz_05_09_09_00.hdf5\n"
     ]
    },
    {
     "name": "stderr",
     "output_type": "stream",
     "text": [
      "2018-09-05 09:25:47,171 - __main__ - INFO - {'logs': {'val_acc': 0.9778243389886778, 'loss': 0.07127748940569337, 'acc': 0.9765893782814998, 'val_loss': 0.06933345668319915, 'val_auc_pr': 0.4737069308757782, 'auc_pr': 0.46964167132067014}, 'epoch': 2}\n"
     ]
    },
    {
     "name": "stdout",
     "output_type": "stream",
     "text": [
      "Epoch 4/50\n",
      "280/280 [==============================] - 265s 945ms/step - loss: 0.0699 - acc: 0.9770 - auc_pr: 0.4776 - val_loss: 0.0700 - val_acc: 0.9778 - val_auc_pr: 0.4805\n",
      "\n",
      "Epoch 00004: loss improved from 0.07128 to 0.06994, saving model to ../../models/unet_borneo_and_harz_05_09_09_00.hdf5\n"
     ]
    },
    {
     "name": "stderr",
     "output_type": "stream",
     "text": [
      "2018-09-05 09:30:14,375 - __main__ - INFO - {'logs': {'val_acc': 0.9777582015942883, 'loss': 0.06994017612245054, 'acc': 0.9769544595467166, 'val_loss': 0.07004398543614189, 'val_auc_pr': 0.480490172130836, 'auc_pr': 0.477602382152526}, 'epoch': 3}\n"
     ]
    },
    {
     "name": "stdout",
     "output_type": "stream",
     "text": [
      "Epoch 5/50\n",
      "280/280 [==============================] - 261s 931ms/step - loss: 0.0699 - acc: 0.9768 - auc_pr: 0.4823 - val_loss: 0.0727 - val_acc: 0.9769 - val_auc_pr: 0.4862\n",
      "\n",
      "Epoch 00005: loss improved from 0.06994 to 0.06993, saving model to ../../models/unet_borneo_and_harz_05_09_09_00.hdf5\n"
     ]
    },
    {
     "name": "stderr",
     "output_type": "stream",
     "text": [
      "2018-09-05 09:34:37,611 - __main__ - INFO - {'logs': {'val_acc': 0.9768862583347269, 'loss': 0.06992639609897187, 'acc': 0.9767981342272666, 'val_loss': 0.07274083883149197, 'val_auc_pr': 0.4862076885796882, 'auc_pr': 0.48228773092831045}, 'epoch': 4}\n"
     ]
    },
    {
     "name": "stdout",
     "output_type": "stream",
     "text": [
      "Epoch 6/50\n",
      "280/280 [==============================] - 260s 930ms/step - loss: 0.0681 - acc: 0.9773 - auc_pr: 0.4884 - val_loss: 0.0658 - val_acc: 0.9784 - val_auc_pr: 0.4896\n",
      "\n",
      "Epoch 00006: loss improved from 0.06993 to 0.06824, saving model to ../../models/unet_borneo_and_harz_05_09_09_00.hdf5\n"
     ]
    },
    {
     "name": "stderr",
     "output_type": "stream",
     "text": [
      "2018-09-05 09:39:00,889 - __main__ - INFO - {'logs': {'val_acc': 0.9784468807078697, 'loss': 0.0682409335069129, 'acc': 0.9772456101886529, 'val_loss': 0.06576479344968558, 'val_auc_pr': 0.4895982389917245, 'auc_pr': 0.48836702240648316}, 'epoch': 5}\n"
     ]
    },
    {
     "name": "stdout",
     "output_type": "stream",
     "text": [
      "Epoch 7/50\n",
      "280/280 [==============================] - 261s 931ms/step - loss: 0.0693 - acc: 0.9769 - auc_pr: 0.4920 - val_loss: 0.0710 - val_acc: 0.9777 - val_auc_pr: 0.4949\n"
     ]
    },
    {
     "name": "stderr",
     "output_type": "stream",
     "text": [
      "2018-09-05 09:43:21,667 - __main__ - INFO - {'logs': {'val_acc': 0.9777339471353067, 'loss': 0.06921038042377939, 'acc': 0.9769051101434717, 'val_loss': 0.07099019123140622, 'val_auc_pr': 0.49486783458977135, 'auc_pr': 0.4919714081603114}, 'epoch': 6}\n"
     ]
    },
    {
     "name": "stdout",
     "output_type": "stream",
     "text": [
      "\n",
      "Epoch 00007: loss did not improve from 0.06824\n",
      "Epoch 8/50\n",
      "280/280 [==============================] - 261s 931ms/step - loss: 0.0675 - acc: 0.9774 - auc_pr: 0.4959 - val_loss: 0.0702 - val_acc: 0.9768 - val_auc_pr: 0.4965\n",
      "\n",
      "Epoch 00008: loss improved from 0.06824 to 0.06758, saving model to ../../models/unet_borneo_and_harz_05_09_09_00.hdf5\n"
     ]
    },
    {
     "name": "stderr",
     "output_type": "stream",
     "text": [
      "2018-09-05 09:47:45,013 - __main__ - INFO - {'logs': {'val_acc': 0.976838572001135, 'loss': 0.06757785200022039, 'acc': 0.977405089690332, 'val_loss': 0.07017682976013906, 'val_auc_pr': 0.496486001824205, 'auc_pr': 0.4959124707288203}, 'epoch': 7}\n"
     ]
    },
    {
     "name": "stdout",
     "output_type": "stream",
     "text": [
      "Epoch 9/50\n",
      "280/280 [==============================] - 261s 931ms/step - loss: 0.0673 - acc: 0.9775 - auc_pr: 0.4982 - val_loss: 0.0655 - val_acc: 0.9796 - val_auc_pr: 0.5003\n",
      "\n",
      "Epoch 00009: loss improved from 0.06758 to 0.06705, saving model to ../../models/unet_borneo_and_harz_05_09_09_00.hdf5\n"
     ]
    },
    {
     "name": "stderr",
     "output_type": "stream",
     "text": [
      "2018-09-05 09:52:08,482 - __main__ - INFO - {'logs': {'val_acc': 0.9796042941712044, 'loss': 0.06705192673242062, 'acc': 0.9776182818941841, 'val_loss': 0.06546203544476649, 'val_auc_pr': 0.5003024872291733, 'auc_pr': 0.49815747969561847}, 'epoch': 8}\n"
     ]
    },
    {
     "name": "stdout",
     "output_type": "stream",
     "text": [
      "Epoch 10/50\n",
      "280/280 [==============================] - 261s 931ms/step - loss: 0.0675 - acc: 0.9774 - auc_pr: 0.5011 - val_loss: 0.0716 - val_acc: 0.9778 - val_auc_pr: 0.5027\n"
     ]
    },
    {
     "name": "stderr",
     "output_type": "stream",
     "text": [
      "2018-09-05 09:56:29,242 - __main__ - INFO - {'logs': {'val_acc': 0.9778033086174244, 'loss': 0.06742436567064089, 'acc': 0.9773773748531628, 'val_loss': 0.07160656059135657, 'val_auc_pr': 0.5027425081745999, 'auc_pr': 0.5011429173995874}, 'epoch': 9}\n"
     ]
    },
    {
     "name": "stdout",
     "output_type": "stream",
     "text": [
      "\n",
      "Epoch 00010: loss did not improve from 0.06705\n",
      "Epoch 11/50\n",
      "280/280 [==============================] - 261s 931ms/step - loss: 0.0661 - acc: 0.9776 - auc_pr: 0.5043 - val_loss: 0.0702 - val_acc: 0.9782 - val_auc_pr: 0.5055\n",
      "\n",
      "Epoch 00011: loss improved from 0.06705 to 0.06619, saving model to ../../models/unet_borneo_and_harz_05_09_09_00.hdf5\n"
     ]
    },
    {
     "name": "stderr",
     "output_type": "stream",
     "text": [
      "2018-09-05 10:00:52,565 - __main__ - INFO - {'logs': {'val_acc': 0.9781591306264336, 'loss': 0.06619107175109083, 'acc': 0.9775558820603657, 'val_loss': 0.07019265701151076, 'val_auc_pr': 0.5055214074012395, 'auc_pr': 0.5043276427213687}, 'epoch': 10}\n"
     ]
    },
    {
     "name": "stdout",
     "output_type": "stream",
     "text": [
      "Epoch 12/50\n",
      "280/280 [==============================] - 260s 930ms/step - loss: 0.0649 - acc: 0.9780 - auc_pr: 0.5072 - val_loss: 0.0657 - val_acc: 0.9790 - val_auc_pr: 0.5090\n",
      "\n",
      "Epoch 00012: loss improved from 0.06619 to 0.06498, saving model to ../../models/unet_borneo_and_harz_05_09_09_00.hdf5\n"
     ]
    },
    {
     "name": "stderr",
     "output_type": "stream",
     "text": [
      "2018-09-05 10:05:15,810 - __main__ - INFO - {'logs': {'val_acc': 0.9790266917364018, 'loss': 0.06498081001947095, 'acc': 0.9779432885290131, 'val_loss': 0.06569337068956245, 'val_auc_pr': 0.5090150839170894, 'auc_pr': 0.50720234436057}, 'epoch': 11}\n"
     ]
    },
    {
     "name": "stdout",
     "output_type": "stream",
     "text": [
      "Epoch 13/50\n",
      "280/280 [==============================] - 260s 930ms/step - loss: 0.0652 - acc: 0.9779 - auc_pr: 0.5106 - val_loss: 0.0692 - val_acc: 0.9774 - val_auc_pr: 0.5125\n"
     ]
    },
    {
     "name": "stderr",
     "output_type": "stream",
     "text": [
      "2018-09-05 10:09:36,273 - __main__ - INFO - {'logs': {'val_acc': 0.9774081217678817, 'loss': 0.06519171027513321, 'acc': 0.9779229815636009, 'val_loss': 0.0691645948870762, 'val_auc_pr': 0.5124893857015146, 'auc_pr': 0.5106454464308944}, 'epoch': 12}\n"
     ]
    },
    {
     "name": "stdout",
     "output_type": "stream",
     "text": [
      "\n",
      "Epoch 00013: loss did not improve from 0.06498\n",
      "Epoch 14/50\n",
      "280/280 [==============================] - 260s 930ms/step - loss: 0.0632 - acc: 0.9784 - auc_pr: 0.5140 - val_loss: 0.0656 - val_acc: 0.9782 - val_auc_pr: 0.5153\n",
      "\n",
      "Epoch 00014: loss improved from 0.06498 to 0.06310, saving model to ../../models/unet_borneo_and_harz_05_09_09_00.hdf5\n"
     ]
    },
    {
     "name": "stderr",
     "output_type": "stream",
     "text": [
      "2018-09-05 10:13:59,673 - __main__ - INFO - {'logs': {'val_acc': 0.9781876017112989, 'loss': 0.06310146413983493, 'acc': 0.978431556723164, 'val_loss': 0.06564109889370377, 'val_auc_pr': 0.5152649398188334, 'auc_pr': 0.5139874501917818}, 'epoch': 13}\n"
     ]
    },
    {
     "name": "stdout",
     "output_type": "stream",
     "text": [
      "Epoch 15/50\n",
      "280/280 [==============================] - 261s 930ms/step - loss: 0.0638 - acc: 0.9782 - auc_pr: 0.5168 - val_loss: 0.0647 - val_acc: 0.9798 - val_auc_pr: 0.5176\n"
     ]
    },
    {
     "name": "stderr",
     "output_type": "stream",
     "text": [
      "2018-09-05 10:18:20,179 - __main__ - INFO - {'logs': {'val_acc': 0.979848432983901, 'loss': 0.0638538539214973, 'acc': 0.9781901601304646, 'val_loss': 0.06472253602476337, 'val_auc_pr': 0.5175725314262751, 'auc_pr': 0.5167791647149907}, 'epoch': 14}\n"
     ]
    },
    {
     "name": "stdout",
     "output_type": "stream",
     "text": [
      "\n",
      "Epoch 00015: loss did not improve from 0.06310\n",
      "Epoch 16/50\n",
      "280/280 [==============================] - 261s 934ms/step - loss: 0.0611 - acc: 0.9789 - auc_pr: 0.5191 - val_loss: 0.0686 - val_acc: 0.9781 - val_auc_pr: 0.5202\n",
      "\n",
      "Epoch 00016: loss improved from 0.06310 to 0.06110, saving model to ../../models/unet_borneo_and_harz_05_09_09_00.hdf5\n"
     ]
    },
    {
     "name": "stderr",
     "output_type": "stream",
     "text": [
      "2018-09-05 10:22:44,486 - __main__ - INFO - {'logs': {'val_acc': 0.9780695514904486, 'loss': 0.06110324208679994, 'acc': 0.9789482792446079, 'val_loss': 0.06864322358238939, 'val_auc_pr': 0.5201761712496346, 'auc_pr': 0.5190490082748975}, 'epoch': 15}\n"
     ]
    },
    {
     "name": "stdout",
     "output_type": "stream",
     "text": [
      "Epoch 17/50\n",
      "280/280 [==============================] - 261s 933ms/step - loss: 0.0615 - acc: 0.9786 - auc_pr: 0.5220 - val_loss: 0.0615 - val_acc: 0.9795 - val_auc_pr: 0.5229\n"
     ]
    },
    {
     "name": "stderr",
     "output_type": "stream",
     "text": [
      "2018-09-05 10:27:05,857 - __main__ - INFO - {'logs': {'val_acc': 0.9794605227338301, 'loss': 0.06145435639136419, 'acc': 0.9786314668617849, 'val_loss': 0.06148282688337605, 'val_auc_pr': 0.5228568971962542, 'auc_pr': 0.5220473969759221}, 'epoch': 16}\n"
     ]
    },
    {
     "name": "stdout",
     "output_type": "stream",
     "text": [
      "\n",
      "Epoch 00017: loss did not improve from 0.06110\n",
      "Epoch 18/50\n",
      "280/280 [==============================] - 261s 934ms/step - loss: 0.0607 - acc: 0.9788 - auc_pr: 0.5241 - val_loss: 0.0654 - val_acc: 0.9786 - val_auc_pr: 0.5262\n",
      "\n",
      "Epoch 00018: loss improved from 0.06110 to 0.06070, saving model to ../../models/unet_borneo_and_harz_05_09_09_00.hdf5\n"
     ]
    },
    {
     "name": "stderr",
     "output_type": "stream",
     "text": [
      "2018-09-05 10:31:30,070 - __main__ - INFO - {'logs': {'val_acc': 0.978569754877606, 'loss': 0.060703372056799314, 'acc': 0.9787902067453416, 'val_loss': 0.06539417438939013, 'val_auc_pr': 0.5261883377223402, 'auc_pr': 0.5240643047484314}, 'epoch': 17}\n"
     ]
    },
    {
     "name": "stdout",
     "output_type": "stream",
     "text": [
      "Epoch 19/50\n",
      "280/280 [==============================] - 262s 934ms/step - loss: 0.0602 - acc: 0.9790 - auc_pr: 0.5276 - val_loss: 0.0625 - val_acc: 0.9792 - val_auc_pr: 0.5286\n",
      "\n",
      "Epoch 00019: loss improved from 0.06070 to 0.06010, saving model to ../../models/unet_borneo_and_harz_05_09_09_00.hdf5\n"
     ]
    },
    {
     "name": "stderr",
     "output_type": "stream",
     "text": [
      "2018-09-05 10:35:54,412 - __main__ - INFO - {'logs': {'val_acc': 0.9791692017692409, 'loss': 0.060096107471304956, 'acc': 0.9790803693666915, 'val_loss': 0.062483012714512544, 'val_auc_pr': 0.528580321432793, 'auc_pr': 0.5276182969724099}, 'epoch': 18}\n"
     ]
    },
    {
     "name": "stdout",
     "output_type": "stream",
     "text": [
      "Epoch 20/50\n",
      "280/280 [==============================] - 262s 934ms/step - loss: 0.0605 - acc: 0.9788 - auc_pr: 0.5299 - val_loss: 0.0622 - val_acc: 0.9798 - val_auc_pr: 0.5318\n"
     ]
    },
    {
     "name": "stderr",
     "output_type": "stream",
     "text": [
      "2018-09-05 10:40:16,059 - __main__ - INFO - {'logs': {'val_acc': 0.9797820251535725, 'loss': 0.06057965304601188, 'acc': 0.9787727352885067, 'val_loss': 0.06216897135222885, 'val_auc_pr': 0.5318045710792413, 'auc_pr': 0.5299342826339459}, 'epoch': 19}\n"
     ]
    },
    {
     "name": "stdout",
     "output_type": "stream",
     "text": [
      "\n",
      "Epoch 00020: loss did not improve from 0.06010\n",
      "Epoch 21/50\n",
      "280/280 [==============================] - 261s 934ms/step - loss: 0.0578 - acc: 0.9796 - auc_pr: 0.5333 - val_loss: 0.0639 - val_acc: 0.9786 - val_auc_pr: 0.5344\n",
      "\n",
      "Epoch 00021: loss improved from 0.06010 to 0.05777, saving model to ../../models/unet_borneo_and_harz_05_09_09_00.hdf5\n"
     ]
    },
    {
     "name": "stderr",
     "output_type": "stream",
     "text": [
      "2018-09-05 10:44:40,340 - __main__ - INFO - {'logs': {'val_acc': 0.9786050237111144, 'loss': 0.05777271280735838, 'acc': 0.9795992839054799, 'val_loss': 0.06388184555957245, 'val_auc_pr': 0.5343769001396926, 'auc_pr': 0.5332555991458142}, 'epoch': 20}\n"
     ]
    },
    {
     "name": "stdout",
     "output_type": "stream",
     "text": [
      "Epoch 22/50\n",
      "280/280 [==============================] - 262s 934ms/step - loss: 0.0579 - acc: 0.9796 - auc_pr: 0.5356 - val_loss: 0.0646 - val_acc: 0.9792 - val_auc_pr: 0.5374\n"
     ]
    },
    {
     "name": "stderr",
     "output_type": "stream",
     "text": [
      "2018-09-05 10:49:01,957 - __main__ - INFO - {'logs': {'val_acc': 0.9791604125419179, 'loss': 0.057875222285826804, 'acc': 0.9795753620484938, 'val_loss': 0.06460572928316086, 'val_auc_pr': 0.5373541144905863, 'auc_pr': 0.5356095385449053}, 'epoch': 21}\n"
     ]
    },
    {
     "name": "stdout",
     "output_type": "stream",
     "text": [
      "\n",
      "Epoch 00022: loss did not improve from 0.05777\n",
      "Epoch 23/50\n",
      "280/280 [==============================] - 262s 934ms/step - loss: 0.0569 - acc: 0.9795 - auc_pr: 0.5387 - val_loss: 0.0662 - val_acc: 0.9793 - val_auc_pr: 0.5402\n",
      "\n",
      "Epoch 00023: loss improved from 0.05777 to 0.05701, saving model to ../../models/unet_borneo_and_harz_05_09_09_00.hdf5\n"
     ]
    },
    {
     "name": "stderr",
     "output_type": "stream",
     "text": [
      "2018-09-05 10:53:26,334 - __main__ - INFO - {'logs': {'val_acc': 0.9792733411933925, 'loss': 0.057012735242017394, 'acc': 0.9795031437467658, 'val_loss': 0.06617630055375598, 'val_auc_pr': 0.5402283432918626, 'auc_pr': 0.5387337063582522}, 'epoch': 22}\n"
     ]
    },
    {
     "name": "stdout",
     "output_type": "stream",
     "text": [
      "Epoch 24/50\n",
      "280/280 [==============================] - 262s 934ms/step - loss: 0.0567 - acc: 0.9798 - auc_pr: 0.5418 - val_loss: 0.0603 - val_acc: 0.9806 - val_auc_pr: 0.5436\n",
      "\n",
      "Epoch 00024: loss improved from 0.05701 to 0.05666, saving model to ../../models/unet_borneo_and_harz_05_09_09_00.hdf5\n"
     ]
    },
    {
     "name": "stderr",
     "output_type": "stream",
     "text": [
      "2018-09-05 10:57:50,687 - __main__ - INFO - {'logs': {'val_acc': 0.980566671168482, 'loss': 0.05665656077724188, 'acc': 0.9798340625052975, 'val_loss': 0.060253117850201356, 'val_auc_pr': 0.5436215287930256, 'auc_pr': 0.5417903872925466}, 'epoch': 23}\n"
     ]
    },
    {
     "name": "stdout",
     "output_type": "stream",
     "text": [
      "Epoch 25/50\n",
      "280/280 [==============================] - 262s 934ms/step - loss: 0.0551 - acc: 0.9803 - auc_pr: 0.5447 - val_loss: 0.0700 - val_acc: 0.9789 - val_auc_pr: 0.5459\n",
      "\n",
      "Epoch 00025: loss improved from 0.05666 to 0.05515, saving model to ../../models/unet_borneo_and_harz_05_09_09_00.hdf5\n"
     ]
    },
    {
     "name": "stderr",
     "output_type": "stream",
     "text": [
      "2018-09-05 11:02:15,158 - __main__ - INFO - {'logs': {'val_acc': 0.9788795415614102, 'loss': 0.055148387985449326, 'acc': 0.9802950913341197, 'val_loss': 0.07002349214854876, 'val_auc_pr': 0.5458580241412729, 'auc_pr': 0.5447175553976508}, 'epoch': 24}\n"
     ]
    },
    {
     "name": "stdout",
     "output_type": "stream",
     "text": [
      "Epoch 26/50\n",
      "280/280 [==============================] - 262s 934ms/step - loss: 0.0557 - acc: 0.9798 - auc_pr: 0.5474 - val_loss: 0.0647 - val_acc: 0.9795 - val_auc_pr: 0.5485\n"
     ]
    },
    {
     "name": "stderr",
     "output_type": "stream",
     "text": [
      "2018-09-05 11:06:36,726 - __main__ - INFO - {'logs': {'val_acc': 0.9795331574372343, 'loss': 0.05568089954816365, 'acc': 0.9797966914170114, 'val_loss': 0.06474827110414973, 'val_auc_pr': 0.5485422254816906, 'auc_pr': 0.5473670603636767}, 'epoch': 25}\n"
     ]
    },
    {
     "name": "stdout",
     "output_type": "stream",
     "text": [
      "\n",
      "Epoch 00026: loss did not improve from 0.05515\n",
      "Epoch 27/50\n",
      "280/280 [==============================] - 262s 934ms/step - loss: 0.0525 - acc: 0.9809 - auc_pr: 0.5502 - val_loss: 0.0602 - val_acc: 0.9805 - val_auc_pr: 0.5517\n",
      "\n",
      "Epoch 00027: loss improved from 0.05515 to 0.05250, saving model to ../../models/unet_borneo_and_harz_05_09_09_00.hdf5\n"
     ]
    },
    {
     "name": "stderr",
     "output_type": "stream",
     "text": [
      "2018-09-05 11:11:01,172 - __main__ - INFO - {'logs': {'val_acc': 0.9805074487183545, 'loss': 0.05249582650239927, 'acc': 0.9809402014924188, 'val_loss': 0.0601918800117297, 'val_auc_pr': 0.5516924143240258, 'auc_pr': 0.5501634168812609}, 'epoch': 26}\n"
     ]
    },
    {
     "name": "stdout",
     "output_type": "stream",
     "text": [
      "Epoch 28/50\n",
      "280/280 [==============================] - 262s 935ms/step - loss: 0.0547 - acc: 0.9801 - auc_pr: 0.5531 - val_loss: 0.0670 - val_acc: 0.9792 - val_auc_pr: 0.5542\n"
     ]
    },
    {
     "name": "stderr",
     "output_type": "stream",
     "text": [
      "2018-09-05 11:15:23,068 - __main__ - INFO - {'logs': {'val_acc': 0.9791507457156439, 'loss': 0.05477388871069691, 'acc': 0.9801175114762041, 'val_loss': 0.06704608175425313, 'val_auc_pr': 0.5541713165270316, 'auc_pr': 0.5530724516065102}, 'epoch': 27}\n"
     ]
    },
    {
     "name": "stdout",
     "output_type": "stream",
     "text": [
      "\n",
      "Epoch 00028: loss did not improve from 0.05250\n",
      "Epoch 29/50\n",
      "280/280 [==============================] - 262s 935ms/step - loss: 0.0557 - acc: 0.9799 - auc_pr: 0.5558 - val_loss: 0.0664 - val_acc: 0.9797 - val_auc_pr: 0.5573\n"
     ]
    },
    {
     "name": "stderr",
     "output_type": "stream",
     "text": [
      "2018-09-05 11:19:44,751 - __main__ - INFO - {'logs': {'val_acc': 0.9796699325780611, 'loss': 0.05571679739213536, 'acc': 0.9798347889395723, 'val_loss': 0.06637038454111363, 'val_auc_pr': 0.5573384759796632, 'auc_pr': 0.5558249621452735}, 'epoch': 28}\n"
     ]
    },
    {
     "name": "stdout",
     "output_type": "stream",
     "text": [
      "\n",
      "Epoch 00029: loss did not improve from 0.05250\n",
      "Epoch 30/50\n",
      "280/280 [==============================] - 262s 934ms/step - loss: 0.0514 - acc: 0.9813 - auc_pr: 0.5586 - val_loss: 0.0595 - val_acc: 0.9806 - val_auc_pr: 0.5598\n",
      "\n",
      "Epoch 00030: loss improved from 0.05250 to 0.05148, saving model to ../../models/unet_borneo_and_harz_05_09_09_00.hdf5\n"
     ]
    },
    {
     "name": "stderr",
     "output_type": "stream",
     "text": [
      "2018-09-05 11:24:09,242 - __main__ - INFO - {'logs': {'val_acc': 0.980588898062706, 'loss': 0.05148123876767002, 'acc': 0.9812357681260078, 'val_loss': 0.05945153294659748, 'val_auc_pr': 0.5598086531500559, 'auc_pr': 0.558567120376961}, 'epoch': 29}\n"
     ]
    },
    {
     "name": "stdout",
     "output_type": "stream",
     "text": [
      "Epoch 31/50\n",
      "280/280 [==============================] - 262s 934ms/step - loss: 0.0521 - acc: 0.9808 - auc_pr: 0.5610 - val_loss: 0.0735 - val_acc: 0.9778 - val_auc_pr: 0.5623\n"
     ]
    },
    {
     "name": "stderr",
     "output_type": "stream",
     "text": [
      "2018-09-05 11:28:30,819 - __main__ - INFO - {'logs': {'val_acc': 0.9777645815063167, 'loss': 0.05220707113412592, 'acc': 0.9808170251446958, 'val_loss': 0.07346428381404965, 'val_auc_pr': 0.5622566054398949, 'auc_pr': 0.5610420160747547}, 'epoch': 30}\n"
     ]
    },
    {
     "name": "stdout",
     "output_type": "stream",
     "text": [
      "\n",
      "Epoch 00031: loss did not improve from 0.05148\n",
      "Epoch 32/50\n",
      "280/280 [==============================] - 261s 934ms/step - loss: 0.0508 - acc: 0.9815 - auc_pr: 0.5631 - val_loss: 0.0634 - val_acc: 0.9801 - val_auc_pr: 0.5643\n",
      "\n",
      "Epoch 00032: loss improved from 0.05148 to 0.05083, saving model to ../../models/unet_borneo_and_harz_05_09_09_00.hdf5\n"
     ]
    },
    {
     "name": "stderr",
     "output_type": "stream",
     "text": [
      "2018-09-05 11:32:55,042 - __main__ - INFO - {'logs': {'val_acc': 0.9801128393894917, 'loss': 0.050829892284080185, 'acc': 0.9814321472120865, 'val_loss': 0.06338744443161665, 'val_auc_pr': 0.5643331648127453, 'auc_pr': 0.5631111879475047}, 'epoch': 31}\n"
     ]
    },
    {
     "name": "stdout",
     "output_type": "stream",
     "text": [
      "Epoch 33/50\n",
      "280/280 [==============================] - 262s 934ms/step - loss: 0.0514 - acc: 0.9809 - auc_pr: 0.5660 - val_loss: 0.0615 - val_acc: 0.9804 - val_auc_pr: 0.5675\n"
     ]
    },
    {
     "name": "stderr",
     "output_type": "stream",
     "text": [
      "2018-09-05 11:37:16,675 - __main__ - INFO - {'logs': {'val_acc': 0.9803773517141471, 'loss': 0.051509973326392615, 'acc': 0.9808713316320093, 'val_loss': 0.06151780228105348, 'val_auc_pr': 0.5674653307006166, 'auc_pr': 0.5659524773220207}, 'epoch': 32}\n"
     ]
    },
    {
     "name": "stdout",
     "output_type": "stream",
     "text": [
      "\n",
      "Epoch 00033: loss did not improve from 0.05083\n",
      "Epoch 34/50\n",
      "280/280 [==============================] - 261s 934ms/step - loss: 0.0502 - acc: 0.9814 - auc_pr: 0.5688 - val_loss: 0.0605 - val_acc: 0.9806 - val_auc_pr: 0.5703\n",
      "\n",
      "Epoch 00034: loss improved from 0.05083 to 0.05016, saving model to ../../models/unet_borneo_and_harz_05_09_09_00.hdf5\n"
     ]
    },
    {
     "name": "stderr",
     "output_type": "stream",
     "text": [
      "2018-09-05 11:41:40,844 - __main__ - INFO - {'logs': {'val_acc': 0.9805859617284827, 'loss': 0.05016470333973296, 'acc': 0.9814166241060774, 'val_loss': 0.06054677637419789, 'val_auc_pr': 0.5703265141393687, 'auc_pr': 0.5688197287219545}, 'epoch': 33}\n"
     ]
    },
    {
     "name": "stdout",
     "output_type": "stream",
     "text": [
      "Epoch 35/50\n",
      "280/280 [==============================] - 261s 934ms/step - loss: 0.0503 - acc: 0.9813 - auc_pr: 0.5717 - val_loss: 0.0671 - val_acc: 0.9791 - val_auc_pr: 0.5732\n"
     ]
    },
    {
     "name": "stderr",
     "output_type": "stream",
     "text": [
      "2018-09-05 11:46:02,323 - __main__ - INFO - {'logs': {'val_acc': 0.9791248712588001, 'loss': 0.05036669342032632, 'acc': 0.9812758336685006, 'val_loss': 0.06711364632497567, 'val_auc_pr': 0.5732389066267658, 'auc_pr': 0.5717481550951898}, 'epoch': 34}\n"
     ]
    },
    {
     "name": "stdout",
     "output_type": "stream",
     "text": [
      "\n",
      "Epoch 00035: loss did not improve from 0.05016\n",
      "Epoch 36/50\n",
      "280/280 [==============================] - 261s 934ms/step - loss: 0.0486 - acc: 0.9818 - auc_pr: 0.5747 - val_loss: 0.0614 - val_acc: 0.9807 - val_auc_pr: 0.5762\n",
      "\n",
      "Epoch 00036: loss improved from 0.05016 to 0.04864, saving model to ../../models/unet_borneo_and_harz_05_09_09_00.hdf5\n"
     ]
    },
    {
     "name": "stderr",
     "output_type": "stream",
     "text": [
      "2018-09-05 11:50:26,547 - __main__ - INFO - {'logs': {'val_acc': 0.9807372614741325, 'loss': 0.048643592019074075, 'acc': 0.9817658617996537, 'val_loss': 0.06143321978507211, 'val_auc_pr': 0.5762172800463599, 'auc_pr': 0.5746590546735628}, 'epoch': 35}\n"
     ]
    },
    {
     "name": "stdout",
     "output_type": "stream",
     "text": [
      "Epoch 37/50\n",
      "280/280 [==============================] - 261s 933ms/step - loss: 0.0470 - acc: 0.9823 - auc_pr: 0.5775 - val_loss: 0.0623 - val_acc: 0.9808 - val_auc_pr: 0.5787\n",
      "\n",
      "Epoch 00037: loss improved from 0.04864 to 0.04704, saving model to ../../models/unet_borneo_and_harz_05_09_09_00.hdf5\n"
     ]
    },
    {
     "name": "stderr",
     "output_type": "stream",
     "text": [
      "2018-09-05 11:54:50,593 - __main__ - INFO - {'logs': {'val_acc': 0.9808055369837864, 'loss': 0.04704141843752001, 'acc': 0.9823051736281442, 'val_loss': 0.06230236969359622, 'val_auc_pr': 0.5787121434066747, 'auc_pr': 0.5774734553560327}, 'epoch': 36}\n"
     ]
    },
    {
     "name": "stdout",
     "output_type": "stream",
     "text": [
      "Epoch 38/50\n",
      "280/280 [==============================] - 261s 931ms/step - loss: 0.0485 - acc: 0.9819 - auc_pr: 0.5801 - val_loss: 0.0599 - val_acc: 0.9802 - val_auc_pr: 0.5814\n"
     ]
    },
    {
     "name": "stderr",
     "output_type": "stream",
     "text": [
      "2018-09-05 11:59:11,364 - __main__ - INFO - {'logs': {'val_acc': 0.9802122918302065, 'loss': 0.04857281867465379, 'acc': 0.9818842611998938, 'val_loss': 0.0598982175340085, 'val_auc_pr': 0.5813644403872424, 'auc_pr': 0.5801079476741526}, 'epoch': 37}\n"
     ]
    },
    {
     "name": "stdout",
     "output_type": "stream",
     "text": [
      "\n",
      "Epoch 00038: loss did not improve from 0.04704\n",
      "Epoch 39/50\n",
      "280/280 [==============================] - 261s 932ms/step - loss: 0.0481 - acc: 0.9819 - auc_pr: 0.5825 - val_loss: 0.0635 - val_acc: 0.9809 - val_auc_pr: 0.5839\n"
     ]
    },
    {
     "name": "stderr",
     "output_type": "stream",
     "text": [
      "2018-09-05 12:03:32,331 - __main__ - INFO - {'logs': {'val_acc': 0.9808810693589417, 'loss': 0.047961078538194715, 'acc': 0.9819597488398542, 'val_loss': 0.06350565995593127, 'val_auc_pr': 0.58389254679551, 'auc_pr': 0.5824726184266076}, 'epoch': 38}\n"
     ]
    },
    {
     "name": "stdout",
     "output_type": "stream",
     "text": [
      "\n",
      "Epoch 00039: loss did not improve from 0.04704\n",
      "Epoch 40/50\n",
      "280/280 [==============================] - 261s 931ms/step - loss: 0.0462 - acc: 0.9824 - auc_pr: 0.5853 - val_loss: 0.0665 - val_acc: 0.9800 - val_auc_pr: 0.5866\n",
      "\n",
      "Epoch 00040: loss improved from 0.04704 to 0.04625, saving model to ../../models/unet_borneo_and_harz_05_09_09_00.hdf5\n"
     ]
    },
    {
     "name": "stderr",
     "output_type": "stream",
     "text": [
      "2018-09-05 12:07:55,886 - __main__ - INFO - {'logs': {'val_acc': 0.9799941143876797, 'loss': 0.04624592993573773, 'acc': 0.9823927508991107, 'val_loss': 0.06650144822826307, 'val_auc_pr': 0.5865803161585653, 'auc_pr': 0.5852898892199216}, 'epoch': 39}\n"
     ]
    },
    {
     "name": "stdout",
     "output_type": "stream",
     "text": [
      "Epoch 41/50\n",
      "280/280 [==============================] - 261s 932ms/step - loss: 0.0466 - acc: 0.9825 - auc_pr: 0.5880 - val_loss: 0.0614 - val_acc: 0.9816 - val_auc_pr: 0.5893\n"
     ]
    },
    {
     "name": "stderr",
     "output_type": "stream",
     "text": [
      "2018-09-05 12:12:16,733 - __main__ - INFO - {'logs': {'val_acc': 0.9816116233532494, 'loss': 0.04657341308329113, 'acc': 0.9825314951096591, 'val_loss': 0.061389359157859674, 'val_auc_pr': 0.5892836733444317, 'auc_pr': 0.5880359586597598}, 'epoch': 40}\n"
     ]
    },
    {
     "name": "stdout",
     "output_type": "stream",
     "text": [
      "\n",
      "Epoch 00041: loss did not improve from 0.04625\n",
      "Epoch 42/50\n",
      "280/280 [==============================] - 261s 932ms/step - loss: 0.0456 - acc: 0.9827 - auc_pr: 0.5906 - val_loss: 0.0634 - val_acc: 0.9805 - val_auc_pr: 0.5920\n",
      "\n",
      "Epoch 00042: loss improved from 0.04625 to 0.04569, saving model to ../../models/unet_borneo_and_harz_05_09_09_00.hdf5\n"
     ]
    },
    {
     "name": "stderr",
     "output_type": "stream",
     "text": [
      "2018-09-05 12:16:40,355 - __main__ - INFO - {'logs': {'val_acc': 0.9804586498318492, 'loss': 0.04568742455030627, 'acc': 0.9827047732786016, 'val_loss': 0.06339232814875809, 'val_auc_pr': 0.5920080546591733, 'auc_pr': 0.5906265197093775}, 'epoch': 41}\n"
     ]
    },
    {
     "name": "stdout",
     "output_type": "stream",
     "text": [
      "Epoch 43/50\n",
      "280/280 [==============================] - 261s 932ms/step - loss: 0.0455 - acc: 0.9827 - auc_pr: 0.5933 - val_loss: 0.0694 - val_acc: 0.9801 - val_auc_pr: 0.5950\n",
      "\n",
      "Epoch 00043: loss improved from 0.04569 to 0.04543, saving model to ../../models/unet_borneo_and_harz_05_09_09_00.hdf5\n"
     ]
    },
    {
     "name": "stderr",
     "output_type": "stream",
     "text": [
      "2018-09-05 12:21:03,930 - __main__ - INFO - {'logs': {'val_acc': 0.9800920232727721, 'loss': 0.04542820320085342, 'acc': 0.9827509325746988, 'val_loss': 0.06938104751217808, 'val_auc_pr': 0.5949971492628794, 'auc_pr': 0.5933426732068072}, 'epoch': 42}\n"
     ]
    },
    {
     "name": "stdout",
     "output_type": "stream",
     "text": [
      "Epoch 44/50\n",
      "280/280 [==============================] - 261s 932ms/step - loss: 0.0445 - acc: 0.9831 - auc_pr: 0.5962 - val_loss: 0.0607 - val_acc: 0.9814 - val_auc_pr: 0.5974\n",
      "\n",
      "Epoch 00044: loss improved from 0.04543 to 0.04440, saving model to ../../models/unet_borneo_and_harz_05_09_09_00.hdf5\n"
     ]
    },
    {
     "name": "stderr",
     "output_type": "stream",
     "text": [
      "2018-09-05 12:25:27,505 - __main__ - INFO - {'logs': {'val_acc': 0.9813868256436812, 'loss': 0.04440419562760962, 'acc': 0.9831492554825719, 'val_loss': 0.06065152727721913, 'val_auc_pr': 0.5973909819448316, 'auc_pr': 0.5961706334979686}, 'epoch': 43}\n"
     ]
    },
    {
     "name": "stdout",
     "output_type": "stream",
     "text": [
      "Epoch 45/50\n",
      "280/280 [==============================] - 261s 932ms/step - loss: 0.0447 - acc: 0.9830 - auc_pr: 0.5987 - val_loss: 0.0587 - val_acc: 0.9808 - val_auc_pr: 0.6000\n"
     ]
    },
    {
     "name": "stderr",
     "output_type": "stream",
     "text": [
      "2018-09-05 12:29:48,462 - __main__ - INFO - {'logs': {'val_acc': 0.9807634484526273, 'loss': 0.044723371251132245, 'acc': 0.982989448304678, 'val_loss': 0.05873528283366279, 'val_auc_pr': 0.6000365721615585, 'auc_pr': 0.5986712023711837}, 'epoch': 44}\n"
     ]
    },
    {
     "name": "stdout",
     "output_type": "stream",
     "text": [
      "\n",
      "Epoch 00045: loss did not improve from 0.04440\n",
      "Epoch 46/50\n",
      "280/280 [==============================] - 261s 932ms/step - loss: 0.0439 - acc: 0.9832 - auc_pr: 0.6013 - val_loss: 0.0576 - val_acc: 0.9817 - val_auc_pr: 0.6025\n",
      "\n",
      "Epoch 00046: loss improved from 0.04440 to 0.04391, saving model to ../../models/unet_borneo_and_harz_05_09_09_00.hdf5\n"
     ]
    },
    {
     "name": "stderr",
     "output_type": "stream",
     "text": [
      "2018-09-05 12:34:12,245 - __main__ - INFO - {'logs': {'val_acc': 0.9816938372882636, 'loss': 0.04390537781966217, 'acc': 0.9832113744876345, 'val_loss': 0.05755586669201384, 'val_auc_pr': 0.6024621811670225, 'auc_pr': 0.6013321761327209}, 'epoch': 45}\n"
     ]
    },
    {
     "name": "stdout",
     "output_type": "stream",
     "text": [
      "Epoch 47/50\n",
      "280/280 [==============================] - 261s 931ms/step - loss: 0.0432 - acc: 0.9836 - auc_pr: 0.6038 - val_loss: 0.0629 - val_acc: 0.9805 - val_auc_pr: 0.6052\n",
      "\n",
      "Epoch 00047: loss improved from 0.04391 to 0.04322, saving model to ../../models/unet_borneo_and_harz_05_09_09_00.hdf5\n"
     ]
    },
    {
     "name": "stderr",
     "output_type": "stream",
     "text": [
      "2018-09-05 12:38:35,845 - __main__ - INFO - {'logs': {'val_acc': 0.9804631721329045, 'loss': 0.04322461761786211, 'acc': 0.9835419239277658, 'val_loss': 0.0628828456770075, 'val_auc_pr': 0.6051521351611292, 'auc_pr': 0.6037599119273099}, 'epoch': 46}\n"
     ]
    },
    {
     "name": "stdout",
     "output_type": "stream",
     "text": [
      "Epoch 48/50\n",
      "280/280 [==============================] - 261s 932ms/step - loss: 0.0434 - acc: 0.9834 - auc_pr: 0.6063 - val_loss: 0.0595 - val_acc: 0.9824 - val_auc_pr: 0.6078\n"
     ]
    },
    {
     "name": "stderr",
     "output_type": "stream",
     "text": [
      "2018-09-05 12:42:56,703 - __main__ - INFO - {'logs': {'val_acc': 0.9824418496038463, 'loss': 0.04334021372381936, 'acc': 0.9834192988696744, 'val_loss': 0.059470331444203654, 'val_auc_pr': 0.6077633832354803, 'auc_pr': 0.6062821443369325}, 'epoch': 47}\n"
     ]
    },
    {
     "name": "stdout",
     "output_type": "stream",
     "text": [
      "\n",
      "Epoch 00048: loss did not improve from 0.04322\n",
      "Epoch 49/50\n",
      "280/280 [==============================] - 261s 932ms/step - loss: 0.0424 - acc: 0.9837 - auc_pr: 0.6091 - val_loss: 0.0659 - val_acc: 0.9801 - val_auc_pr: 0.6103\n",
      "\n",
      "Epoch 00049: loss improved from 0.04322 to 0.04236, saving model to ../../models/unet_borneo_and_harz_05_09_09_00.hdf5\n"
     ]
    },
    {
     "name": "stderr",
     "output_type": "stream",
     "text": [
      "2018-09-05 12:47:20,282 - __main__ - INFO - {'logs': {'val_acc': 0.9800921124783722, 'loss': 0.04235606931840618, 'acc': 0.9836729897203493, 'val_loss': 0.06594338276851419, 'val_auc_pr': 0.6102830395102501, 'auc_pr': 0.6090557223229897}, 'epoch': 48}\n"
     ]
    },
    {
     "name": "stdout",
     "output_type": "stream",
     "text": [
      "Epoch 50/50\n",
      "280/280 [==============================] - 261s 932ms/step - loss: 0.0419 - acc: 0.9839 - auc_pr: 0.6116 - val_loss: 0.0581 - val_acc: 0.9814 - val_auc_pr: 0.6129\n",
      "\n",
      "Epoch 00050: loss improved from 0.04236 to 0.04199, saving model to ../../models/unet_borneo_and_harz_05_09_09_00.hdf5\n"
     ]
    },
    {
     "name": "stderr",
     "output_type": "stream",
     "text": [
      "2018-09-05 12:51:43,941 - __main__ - INFO - {'logs': {'val_acc': 0.9814157103364533, 'loss': 0.04198580743470306, 'acc': 0.9838600269623458, 'val_loss': 0.058091913192608466, 'val_auc_pr': 0.6129408361943992, 'auc_pr': 0.6116477813819688}, 'epoch': 49}\n"
     ]
    }
   ],
   "source": [
    "history = model.fit_generator(train_gen,\n",
    "                              steps_per_epoch=steps_per_epoch,\n",
    "                              epochs=epochs,\n",
    "                              callbacks=[model_checkpoint, early_stop, logging_callback],\n",
    "                              validation_data=validation_gen,\n",
    "                              validation_steps=validation_steps\n",
    "                             )"
   ]
  },
  {
   "cell_type": "code",
   "execution_count": 36,
   "metadata": {},
   "outputs": [
    {
     "data": {
      "image/png": "[encoded data removed]",
      "text/plain": [
       "<Figure size 432x288 with 1 Axes>"
      ]
     },
     "metadata": {},
     "output_type": "display_data"
    },
    {
     "data": {
      "image/png": "[encoded data removed]",
      "text/plain": [
       "<Figure size 432x288 with 1 Axes>"
      ]
     },
     "metadata": {},
     "output_type": "display_data"
    },
    {
     "data": {
      "image/png": "[encoded data removed]",
      "text/plain": [
       "<Figure size 432x288 with 1 Axes>"
      ]
     },
     "metadata": {},
     "output_type": "display_data"
    }
   ],
   "source": [
    "import matplotlib.pyplot as plt\n",
    "\n",
    "def plot_history(history):\n",
    "    plt.plot(history[\"acc\"], label=\"acc\")\n",
    "    plt.plot(history[\"val_acc\"], label=\"val_acc\")\n",
    "    plt.legend()\n",
    "    plt.show()\n",
    "    plt.close()\n",
    "    \n",
    "    plt.plot(history[\"loss\"], label=\"loss\")\n",
    "    plt.plot(history[\"val_loss\"], label=\"val_loss\")\n",
    "    plt.legend()\n",
    "    plt.show()\n",
    "    plt.close()\n",
    "\n",
    "#     plt.plot(history[\"auc_roc\"], label=\"auc_roc\")\n",
    "#     plt.plot(history[\"val_auc_roc\"], label=\"val_auc_roc\")\n",
    "\n",
    "    plt.plot(history[\"auc_pr\"], label=\"auc_pr\")\n",
    "    plt.plot(history[\"val_auc_pr\"], label=\"val_auc_pr\")\n",
    "\n",
    "    plt.legend()\n",
    "    plt.show()\n",
    "    plt.savefig(\"../../logs/unet_borneo_and_harz_05_09_11_11.jpg\")\n",
    "    plt.close()\n",
    "\n",
    "plot_history(history.history)"
   ]
  },
  {
   "cell_type": "code",
   "execution_count": 38,
   "metadata": {
    "scrolled": false
   },
   "outputs": [
    {
     "name": "stderr",
     "output_type": "stream",
     "text": [
      "/home/ubuntu/.local/lib/python3.5/site-packages/skimage/io/_io.py:140: UserWarning: ../../data/test/predict/20180427_020347_103a_3B_0016.tif is a low contrast image\n",
      "  warn('%s is a low contrast image' % fname)\n",
      "/home/ubuntu/.local/lib/python3.5/site-packages/skimage/io/_io.py:140: UserWarning: ../../data/test/predict/20180606_020625_0f1b_3B_0150.tif is a low contrast image\n",
      "  warn('%s is a low contrast image' % fname)\n",
      "/home/ubuntu/.local/lib/python3.5/site-packages/skimage/io/_io.py:140: UserWarning: ../../data/test/predict/20180427_020501_103c_3B_0040.tif is a low contrast image\n",
      "  warn('%s is a low contrast image' % fname)\n",
      "/home/ubuntu/.local/lib/python3.5/site-packages/skimage/io/_io.py:140: UserWarning: ../../data/test/predict/20171013_232848_0c46_3B_0040.tif is a low contrast image\n",
      "  warn('%s is a low contrast image' % fname)\n",
      "/home/ubuntu/.local/lib/python3.5/site-packages/skimage/io/_io.py:140: UserWarning: ../../data/test/predict/20170815_005030_0c0b_3B_0068.tif is a low contrast image\n",
      "  warn('%s is a low contrast image' % fname)\n",
      "/home/ubuntu/.local/lib/python3.5/site-packages/skimage/io/_io.py:140: UserWarning: ../../data/test/predict/20170815_005030_0c0b_3B_0025.tif is a low contrast image\n",
      "  warn('%s is a low contrast image' % fname)\n",
      "/home/ubuntu/.local/lib/python3.5/site-packages/skimage/io/_io.py:140: UserWarning: ../../data/test/predict/20170815_005028_0c0b_3B_0092.tif is a low contrast image\n",
      "  warn('%s is a low contrast image' % fname)\n",
      "/home/ubuntu/.local/lib/python3.5/site-packages/skimage/io/_io.py:140: UserWarning: ../../data/test/predict/20170815_005028_0c0b_3B_0049.tif is a low contrast image\n",
      "  warn('%s is a low contrast image' % fname)\n",
      "/home/ubuntu/.local/lib/python3.5/site-packages/skimage/io/_io.py:140: UserWarning: ../../data/test/predict/20180427_020502_103c_3B_0040.tif is a low contrast image\n",
      "  warn('%s is a low contrast image' % fname)\n",
      "/home/ubuntu/.local/lib/python3.5/site-packages/skimage/io/_io.py:140: UserWarning: ../../data/test/predict/20180427_020347_103a_3B_0002.tif is a low contrast image\n",
      "  warn('%s is a low contrast image' % fname)\n",
      "/home/ubuntu/.local/lib/python3.5/site-packages/skimage/io/_io.py:140: UserWarning: ../../data/test/predict/20180427_020503_103c_3B_0087.tif is a low contrast image\n",
      "  warn('%s is a low contrast image' % fname)\n",
      "/home/ubuntu/.local/lib/python3.5/site-packages/skimage/io/_io.py:140: UserWarning: ../../data/test/predict/20180606_020625_0f1b_3B_0158.tif is a low contrast image\n",
      "  warn('%s is a low contrast image' % fname)\n",
      "/home/ubuntu/.local/lib/python3.5/site-packages/skimage/io/_io.py:140: UserWarning: ../../data/test/predict/20180310_020203_1040_3B_0040.tif is a low contrast image\n",
      "  warn('%s is a low contrast image' % fname)\n",
      "/home/ubuntu/.local/lib/python3.5/site-packages/skimage/io/_io.py:140: UserWarning: ../../data/test/predict/20180606_020625_0f1b_3B_0011.tif is a low contrast image\n",
      "  warn('%s is a low contrast image' % fname)\n",
      "/home/ubuntu/.local/lib/python3.5/site-packages/skimage/io/_io.py:140: UserWarning: ../../data/test/predict/20170815_005030_0c0b_3B_0012.tif is a low contrast image\n",
      "  warn('%s is a low contrast image' % fname)\n",
      "/home/ubuntu/.local/lib/python3.5/site-packages/skimage/io/_io.py:140: UserWarning: ../../data/test/predict/20171013_232848_0c46_3B_0049.tif is a low contrast image\n",
      "  warn('%s is a low contrast image' % fname)\n",
      "/home/ubuntu/.local/lib/python3.5/site-packages/skimage/io/_io.py:140: UserWarning: ../../data/test/predict/20171013_232848_0c46_3B_0068.tif is a low contrast image\n",
      "  warn('%s is a low contrast image' % fname)\n",
      "/home/ubuntu/.local/lib/python3.5/site-packages/skimage/io/_io.py:140: UserWarning: ../../data/test/predict/20180427_020504_103c_3B_0089.tif is a low contrast image\n",
      "  warn('%s is a low contrast image' % fname)\n",
      "/home/ubuntu/.local/lib/python3.5/site-packages/skimage/io/_io.py:140: UserWarning: ../../data/test/predict/20180427_020347_103a_3B_0154.tif is a low contrast image\n",
      "  warn('%s is a low contrast image' % fname)\n",
      "/home/ubuntu/.local/lib/python3.5/site-packages/skimage/io/_io.py:140: UserWarning: ../../data/test/predict/20180427_020347_103a_3B_0098.tif is a low contrast image\n",
      "  warn('%s is a low contrast image' % fname)\n",
      "/home/ubuntu/.local/lib/python3.5/site-packages/skimage/io/_io.py:140: UserWarning: ../../data/test/predict/20180427_020504_103c_3B_0025.tif is a low contrast image\n",
      "  warn('%s is a low contrast image' % fname)\n",
      "/home/ubuntu/.local/lib/python3.5/site-packages/skimage/io/_io.py:140: UserWarning: ../../data/test/predict/20170815_005030_0c0b_3B_0040.tif is a low contrast image\n",
      "  warn('%s is a low contrast image' % fname)\n",
      "/home/ubuntu/.local/lib/python3.5/site-packages/skimage/io/_io.py:140: UserWarning: ../../data/test/predict/20180310_020203_1040_3B_0069.tif is a low contrast image\n",
      "  warn('%s is a low contrast image' % fname)\n",
      "/home/ubuntu/.local/lib/python3.5/site-packages/skimage/io/_io.py:140: UserWarning: ../../data/test/predict/20180310_020202_1040_3B_0025.tif is a low contrast image\n",
      "  warn('%s is a low contrast image' % fname)\n",
      "/home/ubuntu/.local/lib/python3.5/site-packages/skimage/io/_io.py:140: UserWarning: ../../data/test/predict/20180427_020503_103c_3B_0150.tif is a low contrast image\n",
      "  warn('%s is a low contrast image' % fname)\n",
      "/home/ubuntu/.local/lib/python3.5/site-packages/skimage/io/_io.py:140: UserWarning: ../../data/test/predict/20180427_020501_103c_3B_0049.tif is a low contrast image\n",
      "  warn('%s is a low contrast image' % fname)\n",
      "/home/ubuntu/.local/lib/python3.5/site-packages/skimage/io/_io.py:140: UserWarning: ../../data/test/predict/20171013_232848_0c46_3B_0069.tif is a low contrast image\n",
      "  warn('%s is a low contrast image' % fname)\n",
      "/home/ubuntu/.local/lib/python3.5/site-packages/skimage/io/_io.py:140: UserWarning: ../../data/test/predict/20180606_020625_0f1b_3B_0012.tif is a low contrast image\n",
      "  warn('%s is a low contrast image' % fname)\n",
      "/home/ubuntu/.local/lib/python3.5/site-packages/skimage/io/_io.py:140: UserWarning: ../../data/test/predict/20180427_020501_103c_3B_0059.tif is a low contrast image\n",
      "  warn('%s is a low contrast image' % fname)\n",
      "/home/ubuntu/.local/lib/python3.5/site-packages/skimage/io/_io.py:140: UserWarning: ../../data/test/predict/20180606_020625_0f1b_3B_0119.tif is a low contrast image\n",
      "  warn('%s is a low contrast image' % fname)\n",
      "/home/ubuntu/.local/lib/python3.5/site-packages/skimage/io/_io.py:140: UserWarning: ../../data/test/predict/20171013_232848_0c46_3B_0059.tif is a low contrast image\n",
      "  warn('%s is a low contrast image' % fname)\n",
      "/home/ubuntu/.local/lib/python3.5/site-packages/skimage/io/_io.py:140: UserWarning: ../../data/test/predict/20180310_020202_1040_3B_0002.tif is a low contrast image\n",
      "  warn('%s is a low contrast image' % fname)\n",
      "/home/ubuntu/.local/lib/python3.5/site-packages/skimage/io/_io.py:140: UserWarning: ../../data/test/predict/20180427_020346_103a_3B_0049.tif is a low contrast image\n",
      "  warn('%s is a low contrast image' % fname)\n",
      "/home/ubuntu/.local/lib/python3.5/site-packages/skimage/io/_io.py:140: UserWarning: ../../data/test/predict/20180427_020501_103c_3B_0119.tif is a low contrast image\n",
      "  warn('%s is a low contrast image' % fname)\n",
      "/home/ubuntu/.local/lib/python3.5/site-packages/skimage/io/_io.py:140: UserWarning: ../../data/test/predict/20170815_005030_0c0b_3B_0089.tif is a low contrast image\n",
      "  warn('%s is a low contrast image' % fname)\n",
      "/home/ubuntu/.local/lib/python3.5/site-packages/skimage/io/_io.py:140: UserWarning: ../../data/test/predict/20180310_020203_1040_3B_0087.tif is a low contrast image\n",
      "  warn('%s is a low contrast image' % fname)\n",
      "/home/ubuntu/.local/lib/python3.5/site-packages/skimage/io/_io.py:140: UserWarning: ../../data/test/predict/20180427_020501_103c_3B_0162.tif is a low contrast image\n",
      "  warn('%s is a low contrast image' % fname)\n",
      "/home/ubuntu/.local/lib/python3.5/site-packages/skimage/io/_io.py:140: UserWarning: ../../data/test/predict/20180427_020502_103c_3B_0098.tif is a low contrast image\n",
      "  warn('%s is a low contrast image' % fname)\n",
      "/home/ubuntu/.local/lib/python3.5/site-packages/skimage/io/_io.py:140: UserWarning: ../../data/test/predict/20180427_020346_103a_3B_0002.tif is a low contrast image\n",
      "  warn('%s is a low contrast image' % fname)\n"
     ]
    }
   ],
   "source": [
    "testGene = testGenerator(\"../../data/test/sat\",target_size=(512,512),as_gray=False)\n",
    "n = 0\n",
    "for img, name in testGene:\n",
    "    results = model.predict(img, batch_size=1)\n",
    "    saveResult(\"../../data/test/predict\", results, name)\n",
    "    n += 1\n",
    "    if(n>300):\n",
    "        break"
   ]
  }
 ],
 "metadata": {
  "kernelspec": {
   "display_name": "Python 3",
   "language": "python",
   "name": "python3"
  }
 },
 "nbformat": 4,
 "nbformat_minor": 2
}
