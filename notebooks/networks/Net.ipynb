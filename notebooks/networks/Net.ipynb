{
 "cells": [
  {
   "cell_type": "code",
   "execution_count": 1,
   "metadata": {},
   "outputs": [],
   "source": [
    "import sys\n",
    "sys.path.append(\"/home/ubuntu/roaddetection/\")"
   ]
  },
  {
   "cell_type": "code",
   "execution_count": 2,
   "metadata": {},
   "outputs": [
    {
     "name": "stderr",
     "output_type": "stream",
     "text": [
      "Using TensorFlow backend.\n"
     ]
    }
   ],
   "source": [
    "#%load_ext autoreload\n",
    "#%autoreload 2\n",
    "\n",
    "from keras.layers import merge\n",
    "from src.models.data import *\n",
    "from src.models.model import *\n",
    "\n",
    "from src.data.utils import get_tile_prefix\n",
    "#import rasterio.plot as rioplot\n",
    "import matplotlib\n",
    "\n",
    "import matplotlib.pyplot as plt\n",
    "import matplotlib.image as mpimg\n",
    "\n",
    "%matplotlib inline"
   ]
  },
  {
   "cell_type": "code",
   "execution_count": 3,
   "metadata": {},
   "outputs": [],
   "source": [
    "import os, shutil\n",
    "\n",
    "original_dataset_dir = \"../../data/train\"\n",
    "raw_images_path = \"../../data/raw/images\"\n",
    "dirs = []\n",
    "\n",
    "base_dir = \"../../data\"\n",
    "\n",
    "train_dir = os.path.join(base_dir, \"train\")\n",
    "dirs.append(train_dir)\n",
    "validation_dir = os.path.join(base_dir, \"validate\")\n",
    "dirs.append(validation_dir)\n",
    "test_dir = os.path.join(base_dir, \"test\")\n",
    "dirs.append(test_dir)"
   ]
  },
  {
   "cell_type": "code",
   "execution_count": 4,
   "metadata": {},
   "outputs": [],
   "source": [
    "for directory in dirs:\n",
    "    if not os.path.exists(directory):\n",
    "       os.mkdir(directory)\n",
    "    "
   ]
  },
  {
   "cell_type": "code",
   "execution_count": 4,
   "metadata": {},
   "outputs": [],
   "source": [
    "from pathlib import Path\n"
   ]
  },
  {
   "cell_type": "code",
   "execution_count": 5,
   "metadata": {},
   "outputs": [],
   "source": [
    "def should_make_tiles_from(r_analytic_name):\n",
    "    is_analytic_tif = r_analytic_name.endswith(\n",
    "        ('AnalyticMS.tif', 'AnalyticMS_SR.tif', 'AnalyticMS.tiff', 'AnalyticMS_SR.tiff')\n",
    "    )\n",
    "    return is_analytic_tif "
   ]
  },
  {
   "cell_type": "code",
   "execution_count": 6,
   "metadata": {},
   "outputs": [
    {
     "name": "stdout",
     "output_type": "stream",
     "text": [
      "['20170815_005028_0c0b_3B', '20180419_074326_0c43_3B', '20180427_020346_103a_3B', '20180504_094435_0e19_3B', '20180419_074323_0c43_3B', '20180427_020502_103c_3B', '20180427_020347_103a_3B', '20171013_232848_0c46_3B', '20180427_020501_103c_3B', '20180419_074324_0c43_3B', '20170815_005030_0c0b_3B', '20180419_074325_0c43_3B', '20180310_020202_1040_3B', '20180427_020504_103c_3B', '20180606_020625_0f1b_3B', '20180419_074324_1_0c43_3B', '20180724_094554_0e19_3B', '20170920_015736_0f28_3B', '20180427_020503_103c_3B']\n"
     ]
    }
   ],
   "source": [
    "file_prefixes = [ get_tile_prefix(r_analytic.name) \n",
    "                  for r_analytic in Path(raw_images_path).iterdir()  \n",
    "                    if  should_make_tiles_from(r_analytic.name)\n",
    "                ]\n",
    "print(file_prefixes)"
   ]
  },
  {
   "cell_type": "code",
   "execution_count": 11,
   "metadata": {},
   "outputs": [],
   "source": [
    "validation_fnames = [\"{0:s}_{1:04d}.tif\".format(prefix, i) for i in range(1,10) for prefix in file_prefixes]\n",
    "for fname in validation_fnames:\n",
    "    for file_type in [\"sat\", \"map\", \"sat_rgb\"]:\n",
    "        src = os.path.join(train_dir, file_type, fname)\n",
    "        dest = os.path.join(validation_dir, file_type, fname)\n",
    "        shutil.move(src, dest)"
   ]
  },
  {
   "cell_type": "code",
   "execution_count": 14,
   "metadata": {},
   "outputs": [],
   "source": [
    "test_fnames = [\"{0:s}_{1:04d}.tif\".format(prefix, i) for i in range(40,60) for prefix in file_prefixes]\n",
    "for fname in test_fnames:\n",
    "    for file_type in [\"sat\", \"map\", \"sat_rgb\"]:\n",
    "        src = os.path.join(train_dir, file_type, fname)\n",
    "        dest = os.path.join(test_dir, file_type, fname)\n",
    "        shutil.move(src, dest)"
   ]
  },
  {
   "cell_type": "code",
   "execution_count": 7,
   "metadata": {},
   "outputs": [
    {
     "name": "stdout",
     "output_type": "stream",
     "text": [
      "../../data/train/sat : 2715\n",
      "../../data/train/map : 2715\n",
      "../../data/train/sat_rgb : 2715\n",
      "../../data/validate/sat : 171\n",
      "../../data/validate/map : 171\n",
      "../../data/validate/sat_rgb : 171\n",
      "../../data/test/sat : 380\n",
      "../../data/test/map : 380\n",
      "../../data/test/sat_rgb : 380\n",
      "Done.\n"
     ]
    }
   ],
   "source": [
    "for directory in dirs:\n",
    "    for file_type in [\"sat\", \"map\", \"sat_rgb\"]:\n",
    "        target = os.path.join(directory, file_type)\n",
    "        print(target, \":\", len(os.listdir(target)))\n",
    "    \n",
    "print(\"Done.\")"
   ]
  },
  {
   "cell_type": "code",
   "execution_count": 12,
   "metadata": {},
   "outputs": [],
   "source": [
    "data_gen_args = dict(\n",
    "                    data_format=\"channels_last\",\n",
    "                    horizontal_flip=True\n",
    " )\n",
    "train_gen = trainGenerator(2,'../../data/train','sat','map',\n",
    "                        data_gen_args,save_to_dir = None,image_color_mode=\"rgba\", target_size=(512,512))\n",
    "\n",
    "validation_gen = trainGenerator(2,'../../data/validate','sat','map',\n",
    "                        data_gen_args,save_to_dir = None,image_color_mode=\"rgba\", target_size=(512,512))"
   ]
  },
  {
   "cell_type": "code",
   "execution_count": 13,
   "metadata": {
    "scrolled": false
   },
   "outputs": [
    {
     "name": "stderr",
     "output_type": "stream",
     "text": [
      "/home/ubuntu/roaddetection/src/models/model.py:60: UserWarning: Update your `Model` call to the Keras 2 API: `Model(outputs=Tensor(\"co..., inputs=Tensor(\"in...)`\n",
      "  model = Model(input=inputs, output=conv10)\n"
     ]
    },
    {
     "name": "stdout",
     "output_type": "stream",
     "text": [
      "__________________________________________________________________________________________________\n",
      "Layer (type)                    Output Shape         Param #     Connected to                     \n",
      "==================================================================================================\n",
      "input_3 (InputLayer)            (None, 512, 512, 4)  0                                            \n",
      "__________________________________________________________________________________________________\n",
      "conv2d_49 (Conv2D)              (None, 512, 512, 64) 2368        input_3[0][0]                    \n",
      "__________________________________________________________________________________________________\n",
      "conv2d_50 (Conv2D)              (None, 512, 512, 64) 36928       conv2d_49[0][0]                  \n",
      "__________________________________________________________________________________________________\n",
      "max_pooling2d_9 (MaxPooling2D)  (None, 256, 256, 64) 0           conv2d_50[0][0]                  \n",
      "__________________________________________________________________________________________________\n",
      "conv2d_51 (Conv2D)              (None, 256, 256, 128 73856       max_pooling2d_9[0][0]            \n",
      "__________________________________________________________________________________________________\n",
      "conv2d_52 (Conv2D)              (None, 256, 256, 128 147584      conv2d_51[0][0]                  \n",
      "__________________________________________________________________________________________________\n",
      "max_pooling2d_10 (MaxPooling2D) (None, 128, 128, 128 0           conv2d_52[0][0]                  \n",
      "__________________________________________________________________________________________________\n",
      "conv2d_53 (Conv2D)              (None, 128, 128, 256 295168      max_pooling2d_10[0][0]           \n",
      "__________________________________________________________________________________________________\n",
      "conv2d_54 (Conv2D)              (None, 128, 128, 256 590080      conv2d_53[0][0]                  \n",
      "__________________________________________________________________________________________________\n",
      "max_pooling2d_11 (MaxPooling2D) (None, 64, 64, 256)  0           conv2d_54[0][0]                  \n",
      "__________________________________________________________________________________________________\n",
      "conv2d_55 (Conv2D)              (None, 64, 64, 512)  1180160     max_pooling2d_11[0][0]           \n",
      "__________________________________________________________________________________________________\n",
      "conv2d_56 (Conv2D)              (None, 64, 64, 512)  2359808     conv2d_55[0][0]                  \n",
      "__________________________________________________________________________________________________\n",
      "dropout_5 (Dropout)             (None, 64, 64, 512)  0           conv2d_56[0][0]                  \n",
      "__________________________________________________________________________________________________\n",
      "max_pooling2d_12 (MaxPooling2D) (None, 32, 32, 512)  0           dropout_5[0][0]                  \n",
      "__________________________________________________________________________________________________\n",
      "conv2d_57 (Conv2D)              (None, 32, 32, 1024) 4719616     max_pooling2d_12[0][0]           \n",
      "__________________________________________________________________________________________________\n",
      "conv2d_58 (Conv2D)              (None, 32, 32, 1024) 9438208     conv2d_57[0][0]                  \n",
      "__________________________________________________________________________________________________\n",
      "dropout_6 (Dropout)             (None, 32, 32, 1024) 0           conv2d_58[0][0]                  \n",
      "__________________________________________________________________________________________________\n",
      "up_sampling2d_9 (UpSampling2D)  (None, 64, 64, 1024) 0           dropout_6[0][0]                  \n",
      "__________________________________________________________________________________________________\n",
      "conv2d_59 (Conv2D)              (None, 64, 64, 512)  2097664     up_sampling2d_9[0][0]            \n",
      "__________________________________________________________________________________________________\n",
      "concatenate_9 (Concatenate)     (None, 64, 64, 1024) 0           dropout_5[0][0]                  \n",
      "                                                                 conv2d_59[0][0]                  \n",
      "__________________________________________________________________________________________________\n",
      "conv2d_60 (Conv2D)              (None, 64, 64, 512)  4719104     concatenate_9[0][0]              \n",
      "__________________________________________________________________________________________________\n",
      "conv2d_61 (Conv2D)              (None, 64, 64, 512)  2359808     conv2d_60[0][0]                  \n",
      "__________________________________________________________________________________________________\n",
      "up_sampling2d_10 (UpSampling2D) (None, 128, 128, 512 0           conv2d_61[0][0]                  \n",
      "__________________________________________________________________________________________________\n",
      "conv2d_62 (Conv2D)              (None, 128, 128, 256 524544      up_sampling2d_10[0][0]           \n",
      "__________________________________________________________________________________________________\n",
      "concatenate_10 (Concatenate)    (None, 128, 128, 512 0           conv2d_54[0][0]                  \n",
      "                                                                 conv2d_62[0][0]                  \n",
      "__________________________________________________________________________________________________\n",
      "conv2d_63 (Conv2D)              (None, 128, 128, 256 1179904     concatenate_10[0][0]             \n",
      "__________________________________________________________________________________________________\n",
      "conv2d_64 (Conv2D)              (None, 128, 128, 256 590080      conv2d_63[0][0]                  \n",
      "__________________________________________________________________________________________________\n",
      "up_sampling2d_11 (UpSampling2D) (None, 256, 256, 256 0           conv2d_64[0][0]                  \n",
      "__________________________________________________________________________________________________\n",
      "conv2d_65 (Conv2D)              (None, 256, 256, 128 131200      up_sampling2d_11[0][0]           \n",
      "__________________________________________________________________________________________________\n",
      "concatenate_11 (Concatenate)    (None, 256, 256, 256 0           conv2d_52[0][0]                  \n",
      "                                                                 conv2d_65[0][0]                  \n",
      "__________________________________________________________________________________________________\n",
      "conv2d_66 (Conv2D)              (None, 256, 256, 128 295040      concatenate_11[0][0]             \n",
      "__________________________________________________________________________________________________\n",
      "conv2d_67 (Conv2D)              (None, 256, 256, 128 147584      conv2d_66[0][0]                  \n",
      "__________________________________________________________________________________________________\n",
      "up_sampling2d_12 (UpSampling2D) (None, 512, 512, 128 0           conv2d_67[0][0]                  \n",
      "__________________________________________________________________________________________________\n",
      "conv2d_68 (Conv2D)              (None, 512, 512, 64) 32832       up_sampling2d_12[0][0]           \n",
      "__________________________________________________________________________________________________\n",
      "concatenate_12 (Concatenate)    (None, 512, 512, 128 0           conv2d_50[0][0]                  \n",
      "                                                                 conv2d_68[0][0]                  \n",
      "__________________________________________________________________________________________________\n",
      "conv2d_69 (Conv2D)              (None, 512, 512, 64) 73792       concatenate_12[0][0]             \n",
      "__________________________________________________________________________________________________\n",
      "conv2d_70 (Conv2D)              (None, 512, 512, 64) 36928       conv2d_69[0][0]                  \n",
      "__________________________________________________________________________________________________\n",
      "conv2d_71 (Conv2D)              (None, 512, 512, 2)  1154        conv2d_70[0][0]                  \n",
      "__________________________________________________________________________________________________\n",
      "conv2d_72 (Conv2D)              (None, 512, 512, 1)  3           conv2d_71[0][0]                  \n",
      "==================================================================================================\n",
      "Total params: 31,033,413\n",
      "Trainable params: 31,033,413\n",
      "Non-trainable params: 0\n",
      "__________________________________________________________________________________________________\n"
     ]
    },
    {
     "name": "stdout",
     "output_type": "stream",
     "text": [
      "Epoch 1/25\n",
      "Found 171 images belonging to 1 classes.\n",
      "Found 2715 images belonging to 1 classes.\n",
      "Found 171 images belonging to 1 classes.\n",
      "Found 2715 images belonging to 1 classes.\n",
      "100/100 [==============================] - 192s 2s/step - loss: 0.1958 - acc: 0.9879 - auc_roc: 0.5039 - val_loss: 0.1327 - val_acc: 0.9918 - val_auc_roc: 0.4998\n",
      "\n",
      "Epoch 00001: loss improved from inf to 0.19580, saving model to ../../models/unet_membrane_analytic_31_08_22_00.hdf5\n",
      "Epoch 2/25\n",
      "100/100 [==============================] - 187s 2s/step - loss: 0.1427 - acc: 0.9911 - auc_roc: 0.4999 - val_loss: 0.1332 - val_acc: 0.9917 - val_auc_roc: 0.4999\n",
      "\n",
      "Epoch 00002: loss improved from 0.19580 to 0.14271, saving model to ../../models/unet_membrane_analytic_31_08_22_00.hdf5\n",
      "Epoch 3/25\n",
      "100/100 [==============================] - 186s 2s/step - loss: 0.1691 - acc: 0.9895 - auc_roc: 0.4999 - val_loss: 0.1355 - val_acc: 0.9916 - val_auc_roc: 0.4999\n",
      "\n",
      "Epoch 00003: loss did not improve from 0.14271\n",
      "Epoch 4/25\n",
      "100/100 [==============================] - 185s 2s/step - loss: 0.1690 - acc: 0.9895 - auc_roc: 0.4999 - val_loss: 0.1429 - val_acc: 0.9911 - val_auc_roc: 0.4999\n",
      "\n",
      "Epoch 00004: loss did not improve from 0.14271\n",
      "Epoch 5/25\n",
      "100/100 [==============================] - 188s 2s/step - loss: 0.1238 - acc: 0.9923 - auc_roc: 0.5000 - val_loss: 0.1257 - val_acc: 0.9922 - val_auc_roc: 0.5000\n",
      "\n",
      "Epoch 00005: loss improved from 0.14271 to 0.12380, saving model to ../../models/unet_membrane_analytic_31_08_22_00.hdf5\n",
      "Epoch 6/25\n",
      "100/100 [==============================] - 187s 2s/step - loss: 0.1586 - acc: 0.9902 - auc_roc: 0.5000 - val_loss: 0.1286 - val_acc: 0.9920 - val_auc_roc: 0.5000\n",
      "\n",
      "Epoch 00006: loss did not improve from 0.12380\n",
      "Epoch 7/25\n",
      "100/100 [==============================] - 186s 2s/step - loss: 0.1622 - acc: 0.9899 - auc_roc: 0.5000 - val_loss: 0.1421 - val_acc: 0.9912 - val_auc_roc: 0.5000\n",
      "\n",
      "Epoch 00007: loss did not improve from 0.12380\n",
      "Epoch 8/25\n",
      "100/100 [==============================] - 186s 2s/step - loss: 0.1603 - acc: 0.9901 - auc_roc: 0.5000 - val_loss: 0.1193 - val_acc: 0.9926 - val_auc_roc: 0.5000\n",
      "\n",
      "Epoch 00008: loss did not improve from 0.12380\n",
      "Epoch 9/25\n",
      "100/100 [==============================] - 186s 2s/step - loss: 0.1708 - acc: 0.9894 - auc_roc: 0.5000 - val_loss: 0.1497 - val_acc: 0.9907 - val_auc_roc: 0.5000\n",
      "\n",
      "Epoch 00009: loss did not improve from 0.12380\n",
      "Epoch 10/25\n",
      "100/100 [==============================] - 186s 2s/step - loss: 0.1255 - acc: 0.9922 - auc_roc: 0.5000 - val_loss: 0.1316 - val_acc: 0.9918 - val_auc_roc: 0.5000\n",
      "\n",
      "Epoch 00010: loss did not improve from 0.12380\n",
      "Epoch 11/25\n",
      "100/100 [==============================] - 185s 2s/step - loss: 0.1696 - acc: 0.9895 - auc_roc: 0.5000 - val_loss: 0.1450 - val_acc: 0.9910 - val_auc_roc: 0.5000\n",
      "\n",
      "Epoch 00011: loss did not improve from 0.12380\n",
      "Epoch 12/25\n",
      "100/100 [==============================] - 187s 2s/step - loss: 0.1652 - acc: 0.9897 - auc_roc: 0.5000 - val_loss: 0.1379 - val_acc: 0.9914 - val_auc_roc: 0.5000\n",
      "\n",
      "Epoch 00012: loss did not improve from 0.12380\n",
      "Epoch 13/25\n",
      "100/100 [==============================] - 187s 2s/step - loss: 0.1791 - acc: 0.9889 - auc_roc: 0.5000 - val_loss: 0.1118 - val_acc: 0.9931 - val_auc_roc: 0.5000\n",
      "\n",
      "Epoch 00013: loss did not improve from 0.12380\n",
      "Epoch 14/25\n",
      "100/100 [==============================] - 191s 2s/step - loss: 0.2006 - acc: 0.9876 - auc_roc: 0.5000 - val_loss: 0.1570 - val_acc: 0.9903 - val_auc_roc: 0.5000\n",
      "\n",
      "Epoch 00014: loss did not improve from 0.12380\n",
      "Epoch 15/25\n",
      "100/100 [==============================] - 186s 2s/step - loss: 0.1400 - acc: 0.9913 - auc_roc: 0.5000 - val_loss: 0.1445 - val_acc: 0.9910 - val_auc_roc: 0.5000\n",
      "\n",
      "Epoch 00015: loss did not improve from 0.12380\n",
      "Epoch 16/25\n",
      "100/100 [==============================] - 186s 2s/step - loss: 0.1682 - acc: 0.9896 - auc_roc: 0.5000 - val_loss: 0.1176 - val_acc: 0.9927 - val_auc_roc: 0.5000\n",
      "\n",
      "Epoch 00016: loss did not improve from 0.12380\n",
      "Epoch 17/25\n",
      "100/100 [==============================] - 186s 2s/step - loss: 0.1558 - acc: 0.9903 - auc_roc: 0.5000 - val_loss: 0.1321 - val_acc: 0.9918 - val_auc_roc: 0.5000\n",
      "\n",
      "Epoch 00017: loss did not improve from 0.12380\n",
      "Epoch 18/25\n",
      "100/100 [==============================] - 186s 2s/step - loss: 0.1827 - acc: 0.9887 - auc_roc: 0.5000 - val_loss: 0.1386 - val_acc: 0.9914 - val_auc_roc: 0.5000\n",
      "\n",
      "Epoch 00018: loss did not improve from 0.12380\n",
      "Epoch 19/25\n",
      "100/100 [==============================] - 186s 2s/step - loss: 0.1749 - acc: 0.9891 - auc_roc: 0.5000 - val_loss: 0.1434 - val_acc: 0.9911 - val_auc_roc: 0.5000\n",
      "\n",
      "Epoch 00019: loss did not improve from 0.12380\n",
      "Epoch 20/25\n",
      "100/100 [==============================] - 188s 2s/step - loss: 0.1780 - acc: 0.9890 - auc_roc: 0.5000 - val_loss: 0.1230 - val_acc: 0.9924 - val_auc_roc: 0.5000\n",
      "\n",
      "Epoch 00020: loss did not improve from 0.12380\n",
      "Epoch 21/25\n",
      "100/100 [==============================] - 187s 2s/step - loss: 0.1662 - acc: 0.9897 - auc_roc: 0.5000 - val_loss: 0.1665 - val_acc: 0.9897 - val_auc_roc: 0.5000\n",
      "\n",
      "Epoch 00021: loss did not improve from 0.12380\n",
      "Epoch 22/25\n",
      "100/100 [==============================] - 186s 2s/step - loss: 0.1471 - acc: 0.9909 - auc_roc: 0.5000 - val_loss: 0.1186 - val_acc: 0.9926 - val_auc_roc: 0.5000\n",
      "\n",
      "Epoch 00022: loss did not improve from 0.12380\n",
      "Epoch 23/25\n",
      "100/100 [==============================] - 185s 2s/step - loss: 0.1705 - acc: 0.9894 - auc_roc: 0.5000 - val_loss: 0.1144 - val_acc: 0.9929 - val_auc_roc: 0.5000\n",
      "\n",
      "Epoch 00023: loss did not improve from 0.12380\n",
      "Epoch 24/25\n",
      "100/100 [==============================] - 186s 2s/step - loss: 0.1680 - acc: 0.9896 - auc_roc: 0.5000 - val_loss: 0.1345 - val_acc: 0.9917 - val_auc_roc: 0.5000\n",
      "\n",
      "Epoch 00024: loss did not improve from 0.12380\n",
      "Epoch 25/25\n",
      "100/100 [==============================] - 185s 2s/step - loss: 0.1719 - acc: 0.9893 - auc_roc: 0.5000 - val_loss: 0.1678 - val_acc: 0.9896 - val_auc_roc: 0.5000\n",
      "\n",
      "Epoch 00025: loss did not improve from 0.12380\n"
     ]
    }
   ],
   "source": [
    "model = unet(pretrained_weights=\"../../models/unet_membrane_analytic_27_08_14_55.hdf5\")\n",
    "model_checkpoint = ModelCheckpoint('../../models/unet_membrane_analytic_31_08_22_00.hdf5', monitor='loss',verbose=1, save_best_only=True)\n",
    "history = model.fit_generator(train_gen,\n",
    "                              steps_per_epoch=100,\n",
    "                              epochs=25,\n",
    "                              callbacks=[model_checkpoint],\n",
    "                              validation_data=validation_gen,\n",
    "                              validation_steps=50\n",
    "                             )"
   ]
  },
  {
   "cell_type": "code",
   "execution_count": 14,
   "metadata": {},
   "outputs": [
    {
     "data": {
      "image/png": "[encoded data removed]",
      "text/plain": [
       "<Figure size 432x288 with 1 Axes>"
      ]
     },
     "metadata": {},
     "output_type": "display_data"
    },
    {
     "data": {
      "image/png": "[encoded data removed]",
      "text/plain": [
       "<Figure size 432x288 with 1 Axes>"
      ]
     },
     "metadata": {},
     "output_type": "display_data"
    },
    {
     "data": {
      "image/png": "[encoded data removed]",
      "text/plain": [
       "<Figure size 432x288 with 1 Axes>"
      ]
     },
     "metadata": {},
     "output_type": "display_data"
    }
   ],
   "source": [
    "import matplotlib.pyplot as plt\n",
    "\n",
    "def plot_history(history):\n",
    "    plt.plot(history[\"acc\"], label=\"acc\")\n",
    "    plt.plot(history[\"val_acc\"], label=\"val_acc\")\n",
    "    plt.legend()\n",
    "    plt.show()\n",
    "    plt.close()\n",
    "    \n",
    "    plt.plot(history[\"loss\"], label=\"loss\")\n",
    "    plt.plot(history[\"val_loss\"], label=\"val_loss\")\n",
    "    plt.legend()\n",
    "    plt.show()\n",
    "    plt.close()\n",
    "\n",
    "    plt.plot(history[\"auc_roc\"], label=\"auc_roc\")\n",
    "    plt.plot(history[\"val_auc_roc\"], label=\"val_auc_roc\")\n",
    "    plt.legend()\n",
    "    plt.show()\n",
    "    plt.close()\n",
    "\n",
    "plot_history(history.history)"
   ]
  },
  {
   "cell_type": "code",
   "execution_count": null,
   "metadata": {},
   "outputs": [],
   "source": []
  }
 ],
 "metadata": {
  "kernelspec": {
   "display_name": "Python 3",
   "language": "python",
   "name": "python3"
  },
  "language_info": {
   "codemirror_mode": {
    "name": "ipython",
    "version": 3
   },
   "file_extension": ".py",
   "mimetype": "text/x-python",
   "name": "python",
   "nbconvert_exporter": "python",
   "pygments_lexer": "ipython3",
   "version": "3.5.2"
  }
 },
 "nbformat": 4,
 "nbformat_minor": 2
}
