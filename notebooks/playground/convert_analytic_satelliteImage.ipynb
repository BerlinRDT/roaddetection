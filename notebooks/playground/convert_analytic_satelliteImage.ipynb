{
 "cells": [
  {
   "cell_type": "markdown",
   "metadata": {},
   "source": [
    "# Convert analytic satellite images to 'visible' format\n",
    "- very very preliminary stage., left in this for now\n",
    "- notebook code shall eventually be made a .py file"
   ]
  },
  {
   "cell_type": "code",
   "execution_count": 1,
   "metadata": {},
   "outputs": [],
   "source": [
    "# check whether all are needed\n",
    "import numpy as np\n",
    "import pandas as pd\n",
    "import rasterio \n",
    "from rasterio.plot import show\n",
    "from osgeo import gdal\n",
    "from scipy import stats\n",
    "import skimage\n",
    "from skimage import exposure\n",
    "from matplotlib import pyplot as plt\n",
    "%matplotlib inline\n",
    "plt.rcParams[\"figure.figsize\"] = (20,12)\n",
    "\n",
    "import hh_utilities as hu"
   ]
  },
  {
   "cell_type": "code",
   "execution_count": 2,
   "metadata": {},
   "outputs": [],
   "source": [
    "# file name\n",
    "fn = \"/media/hh/hd_internal/_data_DS/DSR/satelliteImages/Borneo/3093/20180427_020348_103a_3B_AnalyticMS.tif\"\n",
    "# open dataset\n",
    "src = rasterio.open(fn)\n",
    "# read all data into numpy array (the bands are in the first dimension!)\n",
    "img_arr = src.read(masked=True)\n",
    "#img_arr = src.read(masked=False)\n",
    "mask_arr = src.read_masks()"
   ]
  },
  {
   "cell_type": "code",
   "execution_count": 3,
   "metadata": {},
   "outputs": [],
   "source": [
    "# this is the preliminary definition of the function\n",
    "def convert_sat_img(img_arr, mask_arr=None, src_type=\"BGRN\", dest_type=[\"RGB\"], do_visualize=True):\n",
    "    \"\"\"\n",
    "    Converts analytic image (3 or 4 bands) to visual format\n",
    "    Input args:\n",
    "    img_arr: numpy array, resulting from rasterio .read() \n",
    "    mask_arr: numpy array, resulting from rasterio read_mask()\n",
    "    src_type: string, bands in source file, any of RGB, RGBA, BGRN \n",
    "        (pay attention to order)\n",
    "        - RGB: normal red green blue image\n",
    "        - RGBA: RGB with alpha map\n",
    "        - BGRN: or 4-band image with N=near infrared\n",
    "    dest_type: string or list of strings, output format, \n",
    "        any combination of RGB, PCA, and PCA-IR\n",
    "        - RGB: normal red green blue image\n",
    "        - PCA: grayscale image of 1st principal component\n",
    "        - PCA-IR: first two principal components of RGB bands plus IR channel, so this would be\n",
    "        some kind of false-color image (highly experimental)       \n",
    "    do_visualize: boolean, if True, images will be displayed\n",
    "    \"\"\"\n",
    "    pass"
   ]
  },
  {
   "cell_type": "code",
   "execution_count": 4,
   "metadata": {},
   "outputs": [],
   "source": [
    "# define a few variables = partly input args into function\n",
    "src_type = \"BGRN\"\n",
    "dest_type = [\"RGB\"] \n",
    "do_visualize = True\n",
    "\n",
    "do_scale_bands_separate = False"
   ]
  },
  {
   "cell_type": "code",
   "execution_count": 5,
   "metadata": {
    "scrolled": true
   },
   "outputs": [],
   "source": [
    "# input error checking:\n",
    "assert(src_type in (\"RGB\", \"RGBA\", \"BGRN\"))\n",
    "assert(not set(dest_type).difference(set([\"RGB\", \"PCA\", \"PCA-IR\"])))\n",
    "# ensure that actual and expected number of input bands match\n",
    "assert(len(src_type)==src.count)"
   ]
  },
  {
   "cell_type": "code",
   "execution_count": 6,
   "metadata": {},
   "outputs": [
    {
     "data": {
      "text/html": [
       "<div>\n",
       "<style scoped>\n",
       "    .dataframe tbody tr th:only-of-type {\n",
       "        vertical-align: middle;\n",
       "    }\n",
       "\n",
       "    .dataframe tbody tr th {\n",
       "        vertical-align: top;\n",
       "    }\n",
       "\n",
       "    .dataframe thead th {\n",
       "        text-align: right;\n",
       "    }\n",
       "</style>\n",
       "<table border=\"1\" class=\"dataframe\">\n",
       "  <thead>\n",
       "    <tr style=\"text-align: right;\">\n",
       "      <th></th>\n",
       "      <th>band_index</th>\n",
       "      <th>plot_col</th>\n",
       "      <th>dtype</th>\n",
       "      <th>maxval</th>\n",
       "      <th>nodatavals</th>\n",
       "    </tr>\n",
       "    <tr>\n",
       "      <th>name</th>\n",
       "      <th></th>\n",
       "      <th></th>\n",
       "      <th></th>\n",
       "      <th></th>\n",
       "      <th></th>\n",
       "    </tr>\n",
       "  </thead>\n",
       "  <tbody>\n",
       "    <tr>\n",
       "      <th>B</th>\n",
       "      <td>1</td>\n",
       "      <td>blue</td>\n",
       "      <td>uint16</td>\n",
       "      <td>65535</td>\n",
       "      <td>0.0</td>\n",
       "    </tr>\n",
       "    <tr>\n",
       "      <th>G</th>\n",
       "      <td>2</td>\n",
       "      <td>green</td>\n",
       "      <td>uint16</td>\n",
       "      <td>65535</td>\n",
       "      <td>0.0</td>\n",
       "    </tr>\n",
       "    <tr>\n",
       "      <th>R</th>\n",
       "      <td>3</td>\n",
       "      <td>red</td>\n",
       "      <td>uint16</td>\n",
       "      <td>65535</td>\n",
       "      <td>0.0</td>\n",
       "    </tr>\n",
       "    <tr>\n",
       "      <th>N</th>\n",
       "      <td>4</td>\n",
       "      <td>black</td>\n",
       "      <td>uint16</td>\n",
       "      <td>65535</td>\n",
       "      <td>0.0</td>\n",
       "    </tr>\n",
       "  </tbody>\n",
       "</table>\n",
       "</div>"
      ],
      "text/plain": [
       "      band_index plot_col   dtype  maxval  nodatavals\n",
       "name                                                 \n",
       "B              1     blue  uint16   65535         0.0\n",
       "G              2    green  uint16   65535         0.0\n",
       "R              3      red  uint16   65535         0.0\n",
       "N              4    black  uint16   65535         0.0"
      ]
     },
     "execution_count": 6,
     "metadata": {},
     "output_type": "execute_result"
    }
   ],
   "source": [
    "# preparations:\n",
    "# - dictionary of colors to be used for the visual representation of \n",
    "# each band\n",
    "band_color_rep = {'B': 'blue',\n",
    "                  'G': 'green',\n",
    "                  'R': 'red',\n",
    "                  'N': 'black',\n",
    "                  'A': None}\n",
    "\n",
    "# set up dataframe characterizing each band\n",
    "band_df = pd.DataFrame({\"band_index\": src.indexes, \n",
    "                        \"name\": list(src_type),\n",
    "                        \"plot_col\": [band_color_rep[b] for b in list(src_type)],\n",
    "                        \"dtype\": src.dtypes,\n",
    "                        \"maxval\": [np.iinfo(t).max for t in src.dtypes],\n",
    "                        \"nodatavals\": src.nodatavals,\n",
    "                       }).set_index(\"name\")\n",
    "\n",
    "# list of indexes to RGB and N bands, because these bands will be treated\n",
    "# differently from other bands\n",
    "rgb_ix = [src_type.find(c) for c in \"RGB\"]\n",
    "n_ix = src_type.find(\"N\")\n",
    "\n",
    "band_df"
   ]
  },
  {
   "cell_type": "code",
   "execution_count": 7,
   "metadata": {},
   "outputs": [
    {
     "data": {
      "text/plain": [
       "33316"
      ]
     },
     "execution_count": 7,
     "metadata": {},
     "output_type": "execute_result"
    }
   ],
   "source": [
    "np.max(img_arr[0])"
   ]
  },
  {
   "cell_type": "code",
   "execution_count": 8,
   "metadata": {},
   "outputs": [
    {
     "data": {
      "text/plain": [
       "[4250, 3613, 2306, 8425]"
      ]
     },
     "execution_count": 8,
     "metadata": {},
     "output_type": "execute_result"
    },
    {
     "data": {
      "image/png": "[encoded data removed]",
      "text/plain": [
       "<Figure size 432x288 with 1 Axes>"
      ]
     },
     "metadata": {},
     "output_type": "display_data"
    }
   ],
   "source": [
    "# visualize histograms & compute mode of each band\n",
    "# determine downsampling factor along each axis depending on image size:\n",
    "ds_fac = round(((src.width * src.height) // 1e5) ** 0.5)\n",
    "md = []\n",
    "for band_ix in range(src.count):\n",
    "    sub_data = img_arr[band_ix,::ds_fac,::ds_fac].ravel()\n",
    "    if do_visualize:\n",
    "        figH1 = plt.figure(1)        \n",
    "        # § better use scikit hist, could be more efficient on integers\n",
    "        plt.hist(sub_data,100,histtype='step',\n",
    "                 color=band_color_rep[src_type[band_ix]])\n",
    "    if \"int\" in band_df[\"dtype\"][band_ix]:\n",
    "        # eliminate zeros for computing mode\n",
    "        sub_data = sub_data[sub_data>0]\n",
    "        md.append(stats.mode(sub_data, nan_policy=\"omit\").mode[0])\n",
    "    else:\n",
    "        raise Exception(\"mode not yet impemented for floating point image data\")\n",
    "\n",
    "md    \n",
    "        "
   ]
  },
  {
   "cell_type": "code",
   "execution_count": 10,
   "metadata": {},
   "outputs": [
    {
     "data": {
      "text/plain": [
       "array([7934.])"
      ]
     },
     "execution_count": 10,
     "metadata": {},
     "output_type": "execute_result"
    }
   ],
   "source": [
    "if do_scale_bands_separate:\n",
    "    pass\n",
    "else:\n",
    "    # compute percentile from rgb bands (in their entirety, so we don't cause a color shift)\n",
    "    prc_rgb = np.percentile(img_arr[rgb_ix,:,:], (99.9,))\n",
    "prc_rgb"
   ]
  },
  {
   "cell_type": "code",
   "execution_count": null,
   "metadata": {},
   "outputs": [],
   "source": [
    "# copy rgb bands in rgb order and rescale such that \n",
    "# percentile computed above is the new maximum of the number type present\n",
    "img_arr_rgb = exposure.rescale_intensity(img_arr[rgb_ix,:,:], in_range=(0,prc_rgb[0]))"
   ]
  },
  {
   "cell_type": "code",
   "execution_count": null,
   "metadata": {},
   "outputs": [],
   "source": [
    "# scale to uint8 by doing a bit-wise shift\n",
    "img_arr_rgb = img_arr_rgb  >> 8"
   ]
  },
  {
   "cell_type": "code",
   "execution_count": null,
   "metadata": {},
   "outputs": [],
   "source": [
    "fig = plt.figure(figsize=(20, 20))\n",
    "show(img_arr_rgb[:,500:2000,3500:5000])"
   ]
  },
  {
   "cell_type": "markdown",
   "metadata": {},
   "source": [
    "As satellite images are usually at an oblique angle, there are always many pixels not belonging to the image with a value of src.nodatavals"
   ]
  },
  {
   "cell_type": "code",
   "execution_count": null,
   "metadata": {},
   "outputs": [],
   "source": [
    "# do the same thing for N band if it exists\n",
    "if (n_ix >= 0):\n",
    "    prc_n = np.percentile(img_arr[n_ix,:,:], (99.9,))\n",
    "    img_arr_n = exposure.rescale_intensity(img_arr[n_ix,:,:], in_range=(0, prc_n[0]))\n",
    "    img_arr_n = img_arr_n  >> 8\n",
    "    fig = plt.figure(figsize=(20, 20))\n",
    "    show(img_arr_n[500:2000,3500:5000], cmap=\"gray\")\n",
    "    "
   ]
  },
  {
   "cell_type": "code",
   "execution_count": null,
   "metadata": {},
   "outputs": [],
   "source": [
    "img_arr_mix = img_arr_rgb\n",
    "img_arr_mix[1] = img_arr_n"
   ]
  },
  {
   "cell_type": "code",
   "execution_count": null,
   "metadata": {},
   "outputs": [],
   "source": [
    "fig = plt.figure(figsize=(20, 20))\n",
    "show(img_arr_mix[:,500:2000,3500:5000])"
   ]
  },
  {
   "cell_type": "code",
   "execution_count": null,
   "metadata": {},
   "outputs": [],
   "source": [
    "# taken from the training image generation notebook, has to be adapted\n",
    "def write_tile(src, window, meta, ax_tile):\n",
    "    outpath = output_tile_filename.format(TRAINING_SAT_DIR,int(window.col_off),int(window.row_off))\n",
    "    with rio.open(outpath, 'w', **meta) as outds:\n",
    "        tile = src.read(window=window)\n",
    "        rioplot.show(tile, ax=ax_tile, cmap='gray')\n",
    "        outds.write(tile)"
   ]
  },
  {
   "cell_type": "code",
   "execution_count": null,
   "metadata": {},
   "outputs": [],
   "source": []
  },
  {
   "cell_type": "code",
   "execution_count": null,
   "metadata": {},
   "outputs": [],
   "source": [
    "# convert to floating point\n",
    "#img_arr = skimage.img_as_float(img_arr)"
   ]
  },
  {
   "cell_type": "code",
   "execution_count": null,
   "metadata": {},
   "outputs": [],
   "source": [
    "whos"
   ]
  },
  {
   "cell_type": "code",
   "execution_count": null,
   "metadata": {},
   "outputs": [],
   "source": [
    "mask_arr[0,0,0]"
   ]
  },
  {
   "cell_type": "code",
   "execution_count": null,
   "metadata": {},
   "outputs": [],
   "source": [
    "np.iinfo(np.uint8).max"
   ]
  },
  {
   "cell_type": "code",
   "execution_count": null,
   "metadata": {},
   "outputs": [],
   "source": [
    "fu = np.uint8\n",
    "fu(8)"
   ]
  },
  {
   "cell_type": "code",
   "execution_count": null,
   "metadata": {},
   "outputs": [],
   "source": [
    "np.cast"
   ]
  }
 ],
 "metadata": {
  "kernelspec": {
   "display_name": "Python 3",
   "language": "python",
   "name": "python3"
  },
  "language_info": {
   "codemirror_mode": {
    "name": "ipython",
    "version": 3
   },
   "file_extension": ".py",
   "mimetype": "text/x-python",
   "name": "python",
   "nbconvert_exporter": "python",
   "pygments_lexer": "ipython3",
   "version": "3.6.6"
  }
 },
 "nbformat": 4,
 "nbformat_minor": 2
}
