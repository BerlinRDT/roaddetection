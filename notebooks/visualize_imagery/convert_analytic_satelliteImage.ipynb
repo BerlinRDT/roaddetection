{
 "cells": [
  {
   "cell_type": "markdown",
   "metadata": {},
   "source": [
    "# Convert analytic satellite images to 'visible' format\n",
    "- notebook code shall eventually be made a .py file\n",
    "- very very preliminary stage"
   ]
  },
  {
   "cell_type": "code",
   "execution_count": null,
   "metadata": {},
   "outputs": [],
   "source": [
    "# this is the preliminary definition of the function\n",
    "def convert_sat_img(fn, src_type=\"BGRN\", dest_type=[\"RGB\"], do_visualize=True):\n",
    "    \"\"\"\n",
    "    Converts analytic image (3 or 4 bands) to visual format and saves it\n",
    "    fn: string, name of file\n",
    "    src_type: string, bands in source file (pay attention to order)\n",
    "    dest_type: string or list, output format (RGB, PCA or PCA-IR)\n",
    "    do_visualize: boolean, if True, images will be displayed\n",
    "    \"\"\"\n",
    "    pass"
   ]
  },
  {
   "cell_type": "code",
   "execution_count": null,
   "metadata": {},
   "outputs": [],
   "source": [
    "# define a few constants = input args above\n",
    "#fn = \"/media/hh/hd_internal/_data_DS/DSR/satelliteImages/Borneo/3093/20170710_023840_0c75_3B_AnalyticMS.tif\"\n",
    "fn = \"satellite_images/20180203_020044_1034_3B_AnalyticMS_SR.tif\"\n",
    "\n",
    "# src_type must be a string, any of  RGB, RGBA, BGRN\n",
    "# - RGB: normal red green blue image\n",
    "# - RGBA: RGB with alpha map\n",
    "# - BGRN: or 4-band image with N=near infrared\n",
    "src_type = \"BGRN\"\n",
    "# dest_type must be either a string or a list of strings: any combination of RGB, PCA, and PCA-IR\n",
    "# - RGB: normal red green blue image\n",
    "# - PCA: grayscale image of 1st principal component\n",
    "# - PCA-IR: first two principal components of RGB bands plus IR channel, so this would be\n",
    "# some kind of false-color image (highly experimental)\n",
    "dest_type = [\"RGB\",\"PCA\"] \n",
    "do_visualize = True"
   ]
  },
  {
   "cell_type": "code",
   "execution_count": null,
   "metadata": {},
   "outputs": [],
   "source": [
    "# check whether all are needed\n",
    "import numpy as np\n",
    "import rasterio \n",
    "from rasterio.plot import show\n",
    "from osgeo import gdal\n",
    "from matplotlib import pyplot as plt\n",
    "%matplotlib inline\n",
    "plt.rcParams[\"figure.figsize\"] = (20,12)\n",
    "\n",
    "#import hh_utilities as hu"
   ]
  },
  {
   "cell_type": "code",
   "execution_count": null,
   "metadata": {
    "scrolled": true
   },
   "outputs": [],
   "source": [
    "# input error checking:\n",
    "assert(src_type in (\"RGB\", \"RGBA\", \"BGRN\"))\n",
    "assert(not set(dest_type).difference(set([\"RGB\", \"PCA\", \"PCA-IR\"])))\n"
   ]
  },
  {
   "cell_type": "markdown",
   "metadata": {},
   "source": [
    "## opening file & retrieving information"
   ]
  },
  {
   "cell_type": "code",
   "execution_count": null,
   "metadata": {},
   "outputs": [],
   "source": [
    "# open dataset\n",
    "src = rasterio.open(fn)\n",
    "\n",
    "# \n",
    "src.colorinterp"
   ]
  },
  {
   "cell_type": "code",
   "execution_count": null,
   "metadata": {},
   "outputs": [],
   "source": [
    "# bands and dimensions\n",
    "src.count, src.width, src.height\n",
    "\n",
    "# number type in each band\n",
    "src.indexes, src.dtypes"
   ]
  },
  {
   "cell_type": "code",
   "execution_count": null,
   "metadata": {},
   "outputs": [],
   "source": [
    "# playing around:\n",
    "d = src.read(4)\n",
    "## read all data into numpy array (the bands are in the first dimension!)\n",
    "#d = src.read()"
   ]
  },
  {
   "cell_type": "code",
   "execution_count": null,
   "metadata": {},
   "outputs": [],
   "source": [
    "fig, ax = plt.subplots()\n",
    "show(d, ax=ax, cmap='gray')\n"
   ]
  },
  {
   "cell_type": "code",
   "execution_count": null,
   "metadata": {},
   "outputs": [],
   "source": []
  },
  {
   "cell_type": "code",
   "execution_count": null,
   "metadata": {},
   "outputs": [],
   "source": [
    "# taken from the training image generation notebook, has to be adapted\n",
    "def write_tile(src, window, meta, ax_tile):\n",
    "    outpath = output_tile_filename.format(TRAINING_SAT_DIR,int(window.col_off),int(window.row_off))\n",
    "    with rio.open(outpath, 'w', **meta) as outds:\n",
    "        tile = src.read(window=window)\n",
    "        rioplot.show(tile, ax=ax_tile, cmap='gray')\n",
    "        outds.write(tile)"
   ]
  },
  {
   "cell_type": "code",
   "execution_count": null,
   "metadata": {},
   "outputs": [],
   "source": []
  },
  {
   "cell_type": "code",
   "execution_count": null,
   "metadata": {},
   "outputs": [],
   "source": []
  },
  {
   "cell_type": "code",
   "execution_count": null,
   "metadata": {},
   "outputs": [],
   "source": []
  },
  {
   "cell_type": "code",
   "execution_count": null,
   "metadata": {},
   "outputs": [],
   "source": []
  }
 ],
 "metadata": {
  "kernelspec": {
   "display_name": "Python 3",
   "language": "python",
   "name": "python3"
  },
  "language_info": {
   "codemirror_mode": {
    "name": "ipython",
    "version": 3
   },
   "file_extension": ".py",
   "mimetype": "text/x-python",
   "name": "python",
   "nbconvert_exporter": "python",
   "pygments_lexer": "ipython3",
   "version": "3.6.6"
  }
 },
 "nbformat": 4,
 "nbformat_minor": 2
}
