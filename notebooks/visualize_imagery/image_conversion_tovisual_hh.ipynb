{
 "cells": [
  {
   "cell_type": "markdown",
   "metadata": {},
   "source": [
    "# Conversion of 4-band analytic satellite images to 3-band visual images"
   ]
  },
  {
   "cell_type": "code",
   "execution_count": null,
   "metadata": {},
   "outputs": [],
   "source": [
    "#%matplotlib inline\n",
    "import numpy as np\n",
    "from pathlib import Path\n",
    "import os\n",
    "import rasterio as rio\n",
    "import numpy as np\n",
    "import matplotlib.pyplot as plt\n",
    "import matplotlib.pyplot as plt\n",
    "import numpy as np\n",
    "\n",
    "from skimage import data, img_as_float\n",
    "from skimage import exposure\n",
    "from PIL import Image\n",
    "\n",
    "dictBands = {'b': (0,2), 'g': (1,1), 'r': (2,0)}"
   ]
  },
  {
   "cell_type": "code",
   "execution_count": null,
   "metadata": {},
   "outputs": [],
   "source": [
    "plt.rcParams[\"figure.figsize\"] = (20,12)"
   ]
  },
  {
   "cell_type": "code",
   "execution_count": null,
   "metadata": {},
   "outputs": [],
   "source": [
    "DATADIR = \"/media/hh/hd_internal/_data_DS/DSR\"\n",
    "RAW_IMAGES = DATADIR + \"/satelliteImages/Borneo/3093/3band_visual_converted/\"      #'../data/raw/images'\n"
   ]
  },
  {
   "cell_type": "code",
   "execution_count": null,
   "metadata": {},
   "outputs": [],
   "source": [
    "def transform2visible(inds, bands):\n",
    "    imgArr = inds.read(masked=True)\n",
    "    msk = inds.read_masks()\n",
    "    sz = np.shape(imgArr)\n",
    "    visArray = np.zeros((sz[1], sz[2], 4), 'uint8')   \n",
    "    \n",
    "    for k in bands:\n",
    "        planetScopeIndex, RGBIndex  = dictBands[k]\n",
    "        # Normalize each band-image\n",
    "        ima = (imgArr[planetScopeIndex][:,:])\n",
    "        img = (ima.astype('float')/ima.max())\n",
    "\n",
    "        # Adaptive Equalization\n",
    "        img_adapteq = exposure.equalize_adapthist(img, clip_limit=0.03)\n",
    "\n",
    "        visArray[..., RGBIndex] = img_adapteq*256\n",
    "    visArray[..., 3] = msk[0]\n",
    "    return visArray"
   ]
  },
  {
   "cell_type": "code",
   "execution_count": null,
   "metadata": {},
   "outputs": [],
   "source": [
    "def write_visible(src, meta):    \n",
    "    outpath = RAW_IMAGES + '/' + file.name.rsplit('AnalyticMS.tif')[0]+'newVisual.tif'\n",
    "    with rio.open(outpath, 'w', **meta) as outds:\n",
    "        sz = np.shape(src)\n",
    "        output  = np.zeros((4, sz[0], sz[1]), 'uint8')  \n",
    "        for i in range(4):\n",
    "            output[i] = src[..., i]        \n",
    "        outds.write(output.astype(np.uint8))"
   ]
  },
  {
   "cell_type": "code",
   "execution_count": null,
   "metadata": {},
   "outputs": [],
   "source": [
    "def make_visible(file):\n",
    "    with rio.open(file) as inds:\n",
    "        meta = inds.meta.copy() \n",
    "        meta['dtype'] = 'uint8'\n",
    "        nodata=0\n",
    "        \n",
    "        rgbImage = transform2visible(inds, ['b', 'g', 'r'])\n",
    "        plt.imshow(rgbImage)\n",
    "        plt.show()   \n",
    "        \n",
    "        write_visible(rgbImage, meta)\n",
    "        "
   ]
  },
  {
   "cell_type": "code",
   "execution_count": null,
   "metadata": {
    "scrolled": true
   },
   "outputs": [],
   "source": [
    "for file in Path(RAW_IMAGES).iterdir():\n",
    "    if file.name.endswith(('AnalyticMS.tif', 'AnalyticMS.tiff')):\n",
    "        make_visible(file)"
   ]
  },
  {
   "cell_type": "code",
   "execution_count": null,
   "metadata": {},
   "outputs": [],
   "source": [
    "def plot_img_and_hist(img, axes, bins=256):\n",
    "    \"\"\"Plot an image along with its histogram and cumulative histogram.\n",
    "\n",
    "    \"\"\"\n",
    "    img = img_as_float(img)\n",
    "    ax_img, ax_hist = axes\n",
    "    ax_cdf = ax_hist.twinx()\n",
    "\n",
    "    # Display image\n",
    "    ax_img.imshow(img, cmap=plt.cm.gray)\n",
    "    ax_img.set_axis_off()\n",
    "\n",
    "    # Display histogram\n",
    "    ax_hist.hist(img.ravel(), bins=bins, histtype='step', color='black')\n",
    "    ax_hist.ticklabel_format(axis='y', style='scientific', scilimits=(0, 0))\n",
    "    ax_hist.set_xlabel('Pixel intensity')\n",
    "    ax_hist.set_xlim(0, 1)\n",
    "    ax_hist.set_yticks([])\n",
    "\n",
    "    # Display cumulative distribution\n",
    "    img_cdf, bins = exposure.cumulative_distribution(img, bins)\n",
    "    ax_cdf.plot(bins, img_cdf, 'r')\n",
    "    ax_cdf.set_yticks([])\n",
    "\n",
    "    return ax_img, ax_hist, ax_cdf\n",
    "\n",
    "\n",
    "\n",
    "\n",
    "def plot_histograms(img, img_adapteq):\n",
    "    # Display results\n",
    "    f, axes = plt.subplots(2,2, figsize=(8, 4))\n",
    "\n",
    "    ax_img, ax_hist, ax_cdf = plot_img_and_hist(img, axes[:, 0])\n",
    "    ax_img.set_title('Low contrast image')\n",
    "\n",
    "    y_min, y_max = ax_hist.get_ylim()\n",
    "    ax_hist.set_ylabel('Number of pixels')\n",
    "    ax_hist.set_yticks(np.linspace(0, y_max, 5))\n",
    "\n",
    "    ax_img, ax_hist, ax_cdf = plot_img_and_hist(img_adapteq, axes[:, 1])\n",
    "    ax_img.set_title('Adaptive equalization')\n",
    "\n",
    "    ax_cdf.set_ylabel('Fraction of total intensity')\n",
    "    ax_cdf.set_yticks(np.linspace(0, 1, 5))\n",
    "\n",
    "    # prevent overlap of y-axis labels\n",
    "    plt.subplots_adjust(wspace=0.4)"
   ]
  }
 ],
 "metadata": {
  "kernelspec": {
   "display_name": "Python 3",
   "language": "python",
   "name": "python3"
  },
  "language_info": {
   "codemirror_mode": {
    "name": "ipython",
    "version": 3
   },
   "file_extension": ".py",
   "mimetype": "text/x-python",
   "name": "python",
   "nbconvert_exporter": "python",
   "pygments_lexer": "ipython3",
   "version": "3.6.6"
  }
 },
 "nbformat": 4,
 "nbformat_minor": 2
}
