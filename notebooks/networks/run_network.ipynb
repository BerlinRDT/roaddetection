{
 "cells": [
  {
   "cell_type": "markdown",
   "metadata": {},
   "source": [
    "# Run network model"
   ]
  },
  {
   "cell_type": "code",
   "execution_count": 39,
   "metadata": {},
   "outputs": [
    {
     "name": "stdout",
     "output_type": "stream",
     "text": [
      "The autoreload extension is already loaded. To reload it, use:\n",
      "  %reload_ext autoreload\n"
     ]
    }
   ],
   "source": [
    "%load_ext autoreload\n",
    "%autoreload 2\n",
    "\n",
    "#from keras.layers import merge\n",
    "from src.models.data import *\n",
    "from src.models.model import *\n",
    "from src.data.utils import get_tile_prefix\n",
    "from src.models.metrics_img import auc_roc\n",
    "#import rasterio.plot as rioplot\n",
    "import matplotlib\n",
    "import matplotlib.pyplot as plt\n",
    "#import matplotlib.image as mpimg\n",
    "\n",
    "from keras.callbacks import ModelCheckpoint, LearningRateScheduler, EarlyStopping, LambdaCallback\n",
    "\n",
    "from pathlib import Path\n",
    "import os, shutil\n",
    "import sys\n",
    "%matplotlib inline"
   ]
  },
  {
   "cell_type": "markdown",
   "metadata": {},
   "source": [
    "## User settings"
   ]
  },
  {
   "cell_type": "code",
   "execution_count": 41,
   "metadata": {},
   "outputs": [],
   "source": [
    "# paths to append\n",
    "sys.path.append(\"/home/ubuntu/roaddetection/\")\n",
    "sys.path.append(\"/media/hh/hd_internal/hh/DSR_Berlin_2018/roaddetection/\")\n",
    "\n",
    "# ------------- image characteristics and augmentation -----------------------------\n",
    "# size of tiles\n",
    "target_size = (512,512)\n",
    "# input arguments to Keras' ImageDataGenerator\n",
    "data_gen_args = dict(\n",
    "                    data_format=\"channels_last\",\n",
    "                    horizontal_flip=True, \n",
    "                    vertical_flip=True\n",
    " )\n",
    "# if True, image tiles will be split up into training/validation/test sets\n",
    "# only required after a fresh 'make data'\n",
    "do_data_split = True\n",
    "# directory into which to place *training* images from ImageDataGenerator for inspection;\n",
    "# default should be None because this slows things down\n",
    "imgdatagen_dir = None\n",
    "#imgdatagen_dir = '../../data/imgdatagenerator'\n",
    "\n",
    "#--------------- network weights ----------------------------------------------------\n",
    "# path to & filename of pre-trained model to use - set to None if you want to start from scratch\n",
    "# pretrained_model_fn = \"../../models/unet_membrane_analytic_27_08_14_55.hdf5\"\n",
    "pretrained_model_fn = '../../models/unet_borneo_and_harz_03_09_16_15.hdf5'\n",
    "\n",
    "# path to & filename of model to save\n",
    "trained_model_fn = '../../models/unet_borneo_and_harz_03_09_16_15.hdf5'\n",
    "\n",
    "#--------------- training details / hyperparameters -----------------------------------\n",
    "# batch size\n",
    "batch_size = 5\n",
    "# steps per epoch, should correspond to [number of training images] / batch size\n",
    "steps_per_epoch = 200\n",
    "# number of epochs\n",
    "epochs = 15\n",
    "# number of steps on validation set\n",
    "validation_steps = 50\n",
    "# self-explanatory variables:\n",
    "optimizer = Adam(lr=1e-4)\n",
    "loss = 'binary_crossentropy'\n",
    "loss_weights = None\n",
    "metrics = ['accuracy', auc_roc]"
   ]
  },
  {
   "cell_type": "markdown",
   "metadata": {},
   "source": [
    "### Define and make (if necessary) train/validation/test directories"
   ]
  },
  {
   "cell_type": "code",
   "execution_count": 42,
   "metadata": {},
   "outputs": [],
   "source": [
    "original_dataset_dir = \"../../data/train\"\n",
    "raw_images_path = \"../../data/raw/images\"\n",
    "dirs = []\n",
    "\n",
    "base_dir = \"../../data\"\n",
    "\n",
    "train_dir = os.path.join(base_dir, \"train\")\n",
    "dirs.append(train_dir)\n",
    "validation_dir = os.path.join(base_dir, \"validate\")\n",
    "dirs.append(validation_dir)\n",
    "test_dir = os.path.join(base_dir, \"test\")\n",
    "dirs.append(test_dir)"
   ]
  },
  {
   "cell_type": "code",
   "execution_count": 43,
   "metadata": {},
   "outputs": [],
   "source": [
    "for directory in dirs:\n",
    "    if not os.path.exists(directory):\n",
    "        os.mkdir(directory)"
   ]
  },
  {
   "cell_type": "code",
   "execution_count": 44,
   "metadata": {},
   "outputs": [
    {
     "name": "stdout",
     "output_type": "stream",
     "text": [
      "0\n",
      "Deleting 0 tiles with no roads\n"
     ]
    }
   ],
   "source": [
    "# Delete map, sat, sat_rgb tiles with (almost) zero road labels \n",
    "\n",
    "import skimage.io as io\n",
    "\n",
    "def should_delete(fname):\n",
    "    img = io.imread(fname.as_posix())\n",
    "    almost_empty = not len(img[img!=0.0]) > 500\n",
    "#     almost_empty = not np.any(img)\n",
    "    return almost_empty\n",
    "    \n",
    "tiles_with_no_roads = [ fname.name for fname in \n",
    "                          Path( os.path.join(train_dir, 'map')).iterdir() \n",
    "                       if should_delete(fname) ]\n",
    "\n",
    "print(len(tiles_with_no_roads))\n",
    "print(\"Deleting {} tiles with no roads\".format(len(tiles_with_no_roads)))\n",
    "for fname in tiles_with_no_roads:\n",
    "    for file_type in [\"sat\", \"map\", \"sat_rgb\"]:\n",
    "        src = os.path.join(train_dir, file_type, fname)\n",
    "        if(os.path.exists(src)):\n",
    "            os.remove(src)"
   ]
  },
  {
   "cell_type": "markdown",
   "metadata": {},
   "source": [
    "### Split data up into train/validation/test images"
   ]
  },
  {
   "cell_type": "code",
   "execution_count": 45,
   "metadata": {},
   "outputs": [
    {
     "name": "stdout",
     "output_type": "stream",
     "text": [
      "../../data/train/sat : 1031\n",
      "../../data/train/map : 1031\n",
      "../../data/train/sat_rgb : 1031\n",
      "../../data/validate/sat : 378\n",
      "../../data/validate/map : 378\n",
      "../../data/validate/sat_rgb : 378\n",
      "../../data/test/sat : 192\n",
      "../../data/test/map : 192\n",
      "../../data/test/sat_rgb : 192\n",
      "Done.\n"
     ]
    }
   ],
   "source": [
    "if do_data_split:\n",
    "    def should_make_tiles_from(r_analytic_name):\n",
    "        is_analytic_tif = r_analytic_name.endswith(\n",
    "            ('AnalyticMS.tif', 'AnalyticMS_SR.tif', 'AnalyticMS.tiff', 'AnalyticMS_SR.tiff')\n",
    "        )\n",
    "        return is_analytic_tif \n",
    "\n",
    "    file_prefixes = [ get_tile_prefix(r_analytic.name) \n",
    "                      for r_analytic in Path(raw_images_path).iterdir()  \n",
    "                        if  should_make_tiles_from(r_analytic.name)\n",
    "                    ]\n",
    "#     print(file_prefixes)\n",
    "\n",
    "    # move files to validation dir\n",
    "    validation_fnames = [\"{0:s}_{1:04d}.tif\".format(prefix, i) for i in range(10,45) for prefix in file_prefixes]\n",
    "    for fname in validation_fnames:\n",
    "        for file_type in [\"sat\", \"map\", \"sat_rgb\"]:\n",
    "            src = os.path.join(train_dir, file_type, fname)\n",
    "            dest = os.path.join(validation_dir, file_type, fname)\n",
    "            if(os.path.exists(src)):\n",
    "                shutil.move(src, dest)\n",
    "    # move files to test dir\n",
    "    test_fnames = [\"{0:s}_{1:04d}.tif\".format(prefix, i) for i in range(40,60) for prefix in file_prefixes]\n",
    "    for fname in test_fnames:\n",
    "        for file_type in [\"sat\", \"map\", \"sat_rgb\"]:\n",
    "            src = os.path.join(train_dir, file_type, fname)\n",
    "            dest = os.path.join(test_dir, file_type, fname)\n",
    "            if(os.path.exists(src)):\n",
    "                shutil.move(src, dest)\n",
    "    # print overview\n",
    "    for directory in dirs:\n",
    "        for file_type in [\"sat\", \"map\", \"sat_rgb\"]:\n",
    "            target = os.path.join(directory, file_type)\n",
    "            print(target, \":\", len(os.listdir(target)))\n",
    "\n",
    "    print(\"Done.\")"
   ]
  },
  {
   "cell_type": "markdown",
   "metadata": {},
   "source": [
    "### Set up ImageDataGenerators for training and validation sets"
   ]
  },
  {
   "cell_type": "code",
   "execution_count": 46,
   "metadata": {},
   "outputs": [],
   "source": [
    "train_gen = trainGenerator(batch_size,'../../data/train','sat','map',\n",
    "                        data_gen_args, save_to_dir = imgdatagen_dir, image_color_mode=\"rgba\", target_size=target_size)\n",
    "\n",
    "validation_gen = trainGenerator(batch_size,'../../data/validate','sat','map',\n",
    "                        data_gen_args, save_to_dir = None, image_color_mode=\"rgba\", target_size=target_size)"
   ]
  },
  {
   "cell_type": "markdown",
   "metadata": {},
   "source": [
    "### Define model, compile, show summary, possibly load weights, define callbacks (including checkpoints)"
   ]
  },
  {
   "cell_type": "code",
   "execution_count": 47,
   "metadata": {},
   "outputs": [
    {
     "name": "stderr",
     "output_type": "stream",
     "text": [
      "/home/ubuntu/roaddetection/src/models/model.py:58: UserWarning: Update your `Model` call to the Keras 2 API: `Model(outputs=Tensor(\"co..., inputs=Tensor(\"in...)`\n",
      "  model = Model(input=inputs, output=conv10)\n"
     ]
    },
    {
     "name": "stdout",
     "output_type": "stream",
     "text": [
      "__________________________________________________________________________________________________\n",
      "Layer (type)                    Output Shape         Param #     Connected to                     \n",
      "==================================================================================================\n",
      "input_3 (InputLayer)            (None, 512, 512, 4)  0                                            \n",
      "__________________________________________________________________________________________________\n",
      "conv2d_49 (Conv2D)              (None, 512, 512, 64) 2368        input_3[0][0]                    \n",
      "__________________________________________________________________________________________________\n",
      "conv2d_50 (Conv2D)              (None, 512, 512, 64) 36928       conv2d_49[0][0]                  \n",
      "__________________________________________________________________________________________________\n",
      "max_pooling2d_9 (MaxPooling2D)  (None, 256, 256, 64) 0           conv2d_50[0][0]                  \n",
      "__________________________________________________________________________________________________\n",
      "conv2d_51 (Conv2D)              (None, 256, 256, 128 73856       max_pooling2d_9[0][0]            \n",
      "__________________________________________________________________________________________________\n",
      "conv2d_52 (Conv2D)              (None, 256, 256, 128 147584      conv2d_51[0][0]                  \n",
      "__________________________________________________________________________________________________\n",
      "max_pooling2d_10 (MaxPooling2D) (None, 128, 128, 128 0           conv2d_52[0][0]                  \n",
      "__________________________________________________________________________________________________\n",
      "conv2d_53 (Conv2D)              (None, 128, 128, 256 295168      max_pooling2d_10[0][0]           \n",
      "__________________________________________________________________________________________________\n",
      "conv2d_54 (Conv2D)              (None, 128, 128, 256 590080      conv2d_53[0][0]                  \n",
      "__________________________________________________________________________________________________\n",
      "max_pooling2d_11 (MaxPooling2D) (None, 64, 64, 256)  0           conv2d_54[0][0]                  \n",
      "__________________________________________________________________________________________________\n",
      "conv2d_55 (Conv2D)              (None, 64, 64, 512)  1180160     max_pooling2d_11[0][0]           \n",
      "__________________________________________________________________________________________________\n",
      "conv2d_56 (Conv2D)              (None, 64, 64, 512)  2359808     conv2d_55[0][0]                  \n",
      "__________________________________________________________________________________________________\n",
      "dropout_5 (Dropout)             (None, 64, 64, 512)  0           conv2d_56[0][0]                  \n",
      "__________________________________________________________________________________________________\n",
      "max_pooling2d_12 (MaxPooling2D) (None, 32, 32, 512)  0           dropout_5[0][0]                  \n",
      "__________________________________________________________________________________________________\n",
      "conv2d_57 (Conv2D)              (None, 32, 32, 1024) 4719616     max_pooling2d_12[0][0]           \n",
      "__________________________________________________________________________________________________\n",
      "conv2d_58 (Conv2D)              (None, 32, 32, 1024) 9438208     conv2d_57[0][0]                  \n",
      "__________________________________________________________________________________________________\n",
      "dropout_6 (Dropout)             (None, 32, 32, 1024) 0           conv2d_58[0][0]                  \n",
      "__________________________________________________________________________________________________\n",
      "up_sampling2d_9 (UpSampling2D)  (None, 64, 64, 1024) 0           dropout_6[0][0]                  \n",
      "__________________________________________________________________________________________________\n",
      "conv2d_59 (Conv2D)              (None, 64, 64, 512)  2097664     up_sampling2d_9[0][0]            \n",
      "__________________________________________________________________________________________________\n",
      "concatenate_9 (Concatenate)     (None, 64, 64, 1024) 0           dropout_5[0][0]                  \n",
      "                                                                 conv2d_59[0][0]                  \n",
      "__________________________________________________________________________________________________\n",
      "conv2d_60 (Conv2D)              (None, 64, 64, 512)  4719104     concatenate_9[0][0]              \n",
      "__________________________________________________________________________________________________\n",
      "conv2d_61 (Conv2D)              (None, 64, 64, 512)  2359808     conv2d_60[0][0]                  \n",
      "__________________________________________________________________________________________________\n",
      "up_sampling2d_10 (UpSampling2D) (None, 128, 128, 512 0           conv2d_61[0][0]                  \n",
      "__________________________________________________________________________________________________\n",
      "conv2d_62 (Conv2D)              (None, 128, 128, 256 524544      up_sampling2d_10[0][0]           \n",
      "__________________________________________________________________________________________________\n",
      "concatenate_10 (Concatenate)    (None, 128, 128, 512 0           conv2d_54[0][0]                  \n",
      "                                                                 conv2d_62[0][0]                  \n",
      "__________________________________________________________________________________________________\n",
      "conv2d_63 (Conv2D)              (None, 128, 128, 256 1179904     concatenate_10[0][0]             \n",
      "__________________________________________________________________________________________________\n",
      "conv2d_64 (Conv2D)              (None, 128, 128, 256 590080      conv2d_63[0][0]                  \n",
      "__________________________________________________________________________________________________\n",
      "up_sampling2d_11 (UpSampling2D) (None, 256, 256, 256 0           conv2d_64[0][0]                  \n",
      "__________________________________________________________________________________________________\n",
      "conv2d_65 (Conv2D)              (None, 256, 256, 128 131200      up_sampling2d_11[0][0]           \n",
      "__________________________________________________________________________________________________\n",
      "concatenate_11 (Concatenate)    (None, 256, 256, 256 0           conv2d_52[0][0]                  \n",
      "                                                                 conv2d_65[0][0]                  \n",
      "__________________________________________________________________________________________________\n",
      "conv2d_66 (Conv2D)              (None, 256, 256, 128 295040      concatenate_11[0][0]             \n",
      "__________________________________________________________________________________________________\n",
      "conv2d_67 (Conv2D)              (None, 256, 256, 128 147584      conv2d_66[0][0]                  \n",
      "__________________________________________________________________________________________________\n",
      "up_sampling2d_12 (UpSampling2D) (None, 512, 512, 128 0           conv2d_67[0][0]                  \n",
      "__________________________________________________________________________________________________\n",
      "conv2d_68 (Conv2D)              (None, 512, 512, 64) 32832       up_sampling2d_12[0][0]           \n",
      "__________________________________________________________________________________________________\n",
      "concatenate_12 (Concatenate)    (None, 512, 512, 128 0           conv2d_50[0][0]                  \n",
      "                                                                 conv2d_68[0][0]                  \n",
      "__________________________________________________________________________________________________\n",
      "conv2d_69 (Conv2D)              (None, 512, 512, 64) 73792       concatenate_12[0][0]             \n",
      "__________________________________________________________________________________________________\n",
      "conv2d_70 (Conv2D)              (None, 512, 512, 64) 36928       conv2d_69[0][0]                  \n",
      "__________________________________________________________________________________________________\n",
      "conv2d_71 (Conv2D)              (None, 512, 512, 2)  1154        conv2d_70[0][0]                  \n",
      "__________________________________________________________________________________________________\n",
      "conv2d_72 (Conv2D)              (None, 512, 512, 1)  3           conv2d_71[0][0]                  \n",
      "==================================================================================================\n",
      "Total params: 31,033,413\n",
      "Trainable params: 31,033,413\n",
      "Non-trainable params: 0\n",
      "__________________________________________________________________________________________________\n"
     ]
    }
   ],
   "source": [
    "model = unet()\n",
    "model.compile(optimizer=optimizer,\n",
    "              loss=loss,\n",
    "              loss_weights=loss_weights,\n",
    "              metrics=metrics)\n",
    "model.summary()\n",
    "if (pretrained_model_fn):\n",
    "    model.load_weights(pretrained_model_fn)\n",
    "model_checkpoint = ModelCheckpoint(trained_model_fn, monitor='loss',verbose=1, save_best_only=True)\n",
    "\n",
    "#Stop training if loss doesn't improve for 2 consecutive epochs\n",
    "early_stop = EarlyStopping(monitor='loss', min_delta=0, patience=3, verbose=1, mode='auto', baseline=None)"
   ]
  },
  {
   "cell_type": "markdown",
   "metadata": {},
   "source": [
    "### Run training"
   ]
  },
  {
   "cell_type": "code",
   "execution_count": 49,
   "metadata": {},
   "outputs": [],
   "source": [
    "import json\n",
    "import logging\n",
    "\n",
    "def get_logger():\n",
    "    log_fmt = '%(asctime)s - %(name)s - %(levelname)s - %(message)s'\n",
    "    logging.basicConfig(level=logging.INFO, format=log_fmt)\n",
    "    formatter = logging.Formatter(log_fmt)\n",
    "    fh = logging.FileHandler('../../logs/unet.log')\n",
    "    fh.setFormatter(formatter)\n",
    "    logger = logging.getLogger(__name__)\n",
    "    logger.addHandler(fh)\n",
    "    return logger"
   ]
  },
  {
   "cell_type": "code",
   "execution_count": 52,
   "metadata": {},
   "outputs": [],
   "source": [
    "logger = get_logger()\n",
    "logging_callback = LambdaCallback(\n",
    "    on_epoch_end=lambda epoch, logs: logger.info({'epoch': epoch, 'logs': logs})\n",
    ")"
   ]
  },
  {
   "cell_type": "code",
   "execution_count": 53,
   "metadata": {
    "scrolled": false
   },
   "outputs": [
    {
     "name": "stdout",
     "output_type": "stream",
     "text": [
      "Epoch 1/15\n",
      "200/200 [==============================] - 196s 978ms/step - loss: 0.0833 - acc: 0.9744 - auc_roc: 0.8937 - val_loss: 0.1168 - val_acc: 0.9660 - val_auc_roc: 0.8937\n"
     ]
    },
    {
     "name": "stderr",
     "output_type": "stream",
     "text": [
      "2018-09-03 15:14:40,654 - __main__ - INFO - {'epoch': 0, 'logs': {'val_loss': 0.11683076316671025, 'acc': 0.9744006541371345, 'loss': 0.08328881192021072, 'val_acc': 0.9659800390082021, 'val_auc_roc': 0.8936852579635959, 'auc_roc': 0.8937369975447654}}\n"
     ]
    },
    {
     "name": "stdout",
     "output_type": "stream",
     "text": [
      "\n",
      "Epoch 00001: loss did not improve from 0.08290\n",
      "Epoch 2/15\n",
      "200/200 [==============================] - 195s 974ms/step - loss: 0.0791 - acc: 0.9751 - auc_roc: 0.8976 - val_loss: 0.1067 - val_acc: 0.9645 - val_auc_roc: 0.9014\n",
      "\n",
      "Epoch 00002: loss improved from 0.08290 to 0.07896, saving model to ../../models/unet_borneo_and_harz_03_09_16_15.hdf5\n"
     ]
    },
    {
     "name": "stderr",
     "output_type": "stream",
     "text": [
      "2018-09-03 15:17:58,397 - __main__ - INFO - {'epoch': 1, 'logs': {'val_loss': 0.10672462277955586, 'acc': 0.9750956264605005, 'loss': 0.07896316177903648, 'val_acc': 0.9645219918700957, 'val_auc_roc': 0.9014083416231217, 'auc_roc': 0.8976287837009354}}\n"
     ]
    },
    {
     "name": "stdout",
     "output_type": "stream",
     "text": [
      "Epoch 3/15\n",
      "200/200 [==============================] - 195s 974ms/step - loss: 0.0773 - acc: 0.9754 - auc_roc: 0.9040 - val_loss: 0.1005 - val_acc: 0.9673 - val_auc_roc: 0.9062\n",
      "\n",
      "Epoch 00003: loss improved from 0.07896 to 0.07731, saving model to ../../models/unet_borneo_and_harz_03_09_16_15.hdf5\n"
     ]
    },
    {
     "name": "stderr",
     "output_type": "stream",
     "text": [
      "2018-09-03 15:21:16,047 - __main__ - INFO - {'epoch': 2, 'logs': {'val_loss': 0.10047148123383522, 'acc': 0.975463230447118, 'loss': 0.07730527052910154, 'val_acc': 0.9672595798969269, 'val_auc_roc': 0.9062214958667755, 'auc_roc': 0.9040203304534935}}\n"
     ]
    },
    {
     "name": "stdout",
     "output_type": "stream",
     "text": [
      "Epoch 4/15\n",
      "200/200 [==============================] - 194s 972ms/step - loss: 0.0752 - acc: 0.9761 - auc_roc: 0.9080 - val_loss: 0.1065 - val_acc: 0.9643 - val_auc_roc: 0.9099\n",
      "\n",
      "Epoch 00004: loss improved from 0.07731 to 0.07536, saving model to ../../models/unet_borneo_and_harz_03_09_16_15.hdf5\n"
     ]
    },
    {
     "name": "stderr",
     "output_type": "stream",
     "text": [
      "2018-09-03 15:24:33,248 - __main__ - INFO - {'epoch': 3, 'logs': {'val_loss': 0.10652911109519342, 'acc': 0.9760476240072863, 'loss': 0.07535562036843245, 'val_acc': 0.9643433803031521, 'val_auc_roc': 0.9099407395528208, 'auc_roc': 0.9079944151472376}}\n"
     ]
    },
    {
     "name": "stdout",
     "output_type": "stream",
     "text": [
      "Epoch 5/15\n",
      "200/200 [==============================] - 194s 971ms/step - loss: 0.0767 - acc: 0.9756 - auc_roc: 0.9109 - val_loss: 0.1032 - val_acc: 0.9675 - val_auc_roc: 0.9121\n"
     ]
    },
    {
     "name": "stderr",
     "output_type": "stream",
     "text": [
      "2018-09-03 15:27:47,549 - __main__ - INFO - {'epoch': 4, 'logs': {'val_loss': 0.1032014670180938, 'acc': 0.9756492474471709, 'loss': 0.07656249292494063, 'val_acc': 0.9675315582463818, 'val_auc_roc': 0.9121081156115378, 'auc_roc': 0.9109239366997677}}\n"
     ]
    },
    {
     "name": "stdout",
     "output_type": "stream",
     "text": [
      "\n",
      "Epoch 00005: loss did not improve from 0.07536\n",
      "Epoch 6/15\n",
      "200/200 [==============================] - 195s 974ms/step - loss: 0.0735 - acc: 0.9763 - auc_roc: 0.9131 - val_loss: 0.1111 - val_acc: 0.9638 - val_auc_roc: 0.9142\n",
      "\n",
      "Epoch 00006: loss improved from 0.07536 to 0.07335, saving model to ../../models/unet_borneo_and_harz_03_09_16_15.hdf5\n"
     ]
    },
    {
     "name": "stderr",
     "output_type": "stream",
     "text": [
      "2018-09-03 15:31:05,368 - __main__ - INFO - {'epoch': 5, 'logs': {'val_loss': 0.11113372348248958, 'acc': 0.9763460985747686, 'loss': 0.07334545435361474, 'val_acc': 0.9638286137580871, 'val_auc_roc': 0.9141578638553619, 'auc_roc': 0.9130748838305952}}\n"
     ]
    },
    {
     "name": "stdout",
     "output_type": "stream",
     "text": [
      "Epoch 7/15\n",
      "200/200 [==============================] - 194s 972ms/step - loss: 0.0732 - acc: 0.9766 - auc_roc: 0.9149 - val_loss: 0.0990 - val_acc: 0.9673 - val_auc_roc: 0.9157\n",
      "\n",
      "Epoch 00007: loss improved from 0.07335 to 0.07313, saving model to ../../models/unet_borneo_and_harz_03_09_16_15.hdf5\n"
     ]
    },
    {
     "name": "stderr",
     "output_type": "stream",
     "text": [
      "2018-09-03 15:34:22,741 - __main__ - INFO - {'epoch': 6, 'logs': {'val_loss': 0.09900211421171984, 'acc': 0.9766777947126143, 'loss': 0.07313339876751583, 'val_acc': 0.9672776220306274, 'val_auc_roc': 0.9156628443348792, 'auc_roc': 0.9148722533959461}}\n"
     ]
    },
    {
     "name": "stdout",
     "output_type": "stream",
     "text": [
      "Epoch 8/15\n",
      "200/200 [==============================] - 194s 972ms/step - loss: 0.0746 - acc: 0.9759 - auc_roc: 0.9164 - val_loss: 0.0996 - val_acc: 0.9671 - val_auc_roc: 0.9172\n"
     ]
    },
    {
     "name": "stderr",
     "output_type": "stream",
     "text": [
      "2018-09-03 15:37:37,066 - __main__ - INFO - {'epoch': 7, 'logs': {'val_loss': 0.09962864413917545, 'acc': 0.9759584640163973, 'loss': 0.07429622357008028, 'val_acc': 0.9671220803453077, 'val_auc_roc': 0.9172088979713379, 'auc_roc': 0.916436094715892}}\n"
     ]
    },
    {
     "name": "stdout",
     "output_type": "stream",
     "text": [
      "\n",
      "Epoch 00008: loss did not improve from 0.07313\n",
      "Epoch 9/15\n",
      "200/200 [==============================] - 195s 973ms/step - loss: 0.0712 - acc: 0.9769 - auc_roc: 0.9181 - val_loss: 0.0927 - val_acc: 0.9694 - val_auc_roc: 0.9189\n",
      "\n",
      "Epoch 00009: loss improved from 0.07313 to 0.07089, saving model to ../../models/unet_borneo_and_harz_03_09_16_15.hdf5\n"
     ]
    },
    {
     "name": "stderr",
     "output_type": "stream",
     "text": [
      "2018-09-03 15:40:54,572 - __main__ - INFO - {'epoch': 8, 'logs': {'val_loss': 0.09266022644937039, 'acc': 0.9769316341383869, 'loss': 0.07089433467471935, 'val_acc': 0.9693775308132172, 'val_auc_roc': 0.9188965857028961, 'auc_roc': 0.9181144402687809}}\n"
     ]
    },
    {
     "name": "stdout",
     "output_type": "stream",
     "text": [
      "Epoch 10/15\n",
      "200/200 [==============================] - 194s 972ms/step - loss: 0.0683 - acc: 0.9773 - auc_roc: 0.9200 - val_loss: 0.1051 - val_acc: 0.9655 - val_auc_roc: 0.9209\n",
      "\n",
      "Epoch 00010: loss improved from 0.07089 to 0.06820, saving model to ../../models/unet_borneo_and_harz_03_09_16_15.hdf5\n"
     ]
    },
    {
     "name": "stderr",
     "output_type": "stream",
     "text": [
      "2018-09-03 15:44:11,926 - __main__ - INFO - {'epoch': 9, 'logs': {'val_loss': 0.1051018024914928, 'acc': 0.9773454272962478, 'loss': 0.06819951527725801, 'val_acc': 0.9655331798618839, 'val_auc_roc': 0.9208670371482449, 'auc_roc': 0.9199533286582993}}\n"
     ]
    },
    {
     "name": "stdout",
     "output_type": "stream",
     "text": [
      "Epoch 11/15\n",
      "200/200 [==============================] - 194s 972ms/step - loss: 0.0704 - acc: 0.9770 - auc_roc: 0.9213 - val_loss: 0.0974 - val_acc: 0.9679 - val_auc_roc: 0.9221\n"
     ]
    },
    {
     "name": "stderr",
     "output_type": "stream",
     "text": [
      "2018-09-03 15:47:26,392 - __main__ - INFO - {'epoch': 10, 'logs': {'val_loss': 0.09737924278353251, 'acc': 0.9769399249888807, 'loss': 0.07042755077155419, 'val_acc': 0.9679128568499319, 'val_auc_roc': 0.9221354138947302, 'auc_roc': 0.921334075341263}}\n"
     ]
    },
    {
     "name": "stdout",
     "output_type": "stream",
     "text": [
      "\n",
      "Epoch 00011: loss did not improve from 0.06820\n",
      "Epoch 12/15\n",
      "200/200 [==============================] - 195s 973ms/step - loss: 0.0669 - acc: 0.9779 - auc_roc: 0.9229 - val_loss: 0.0938 - val_acc: 0.9690 - val_auc_roc: 0.9236\n",
      "\n",
      "Epoch 00012: loss improved from 0.06820 to 0.06703, saving model to ../../models/unet_borneo_and_harz_03_09_16_15.hdf5\n"
     ]
    },
    {
     "name": "stderr",
     "output_type": "stream",
     "text": [
      "2018-09-03 15:50:43,985 - __main__ - INFO - {'epoch': 11, 'logs': {'val_loss': 0.09384389460086823, 'acc': 0.9778898502569122, 'loss': 0.06702509545440595, 'val_acc': 0.9690225338935852, 'val_auc_roc': 0.9236368978023529, 'auc_roc': 0.9228518845206762}}\n"
     ]
    },
    {
     "name": "stdout",
     "output_type": "stream",
     "text": [
      "Epoch 13/15\n",
      "200/200 [==============================] - 195s 973ms/step - loss: 0.0684 - acc: 0.9773 - auc_roc: 0.9243 - val_loss: 0.1053 - val_acc: 0.9676 - val_auc_roc: 0.9248\n"
     ]
    },
    {
     "name": "stderr",
     "output_type": "stream",
     "text": [
      "2018-09-03 15:53:58,530 - __main__ - INFO - {'epoch': 12, 'logs': {'val_loss': 0.10530261991305216, 'acc': 0.9772267349991932, 'loss': 0.06855460522269988, 'val_acc': 0.9675917161568519, 'val_auc_roc': 0.9247810999231953, 'auc_roc': 0.9242788891955073}}\n"
     ]
    },
    {
     "name": "stdout",
     "output_type": "stream",
     "text": [
      "\n",
      "Epoch 00013: loss did not improve from 0.06703\n",
      "Epoch 14/15\n",
      "200/200 [==============================] - 194s 972ms/step - loss: 0.0667 - acc: 0.9778 - auc_roc: 0.9252 - val_loss: 0.0999 - val_acc: 0.9669 - val_auc_roc: 0.9258\n",
      "\n",
      "Epoch 00014: loss improved from 0.06703 to 0.06687, saving model to ../../models/unet_borneo_and_harz_03_09_16_15.hdf5\n"
     ]
    },
    {
     "name": "stderr",
     "output_type": "stream",
     "text": [
      "2018-09-03 15:57:15,945 - __main__ - INFO - {'epoch': 13, 'logs': {'val_loss': 0.09987927832069897, 'acc': 0.9777385178938448, 'loss': 0.06687063726607755, 'val_acc': 0.9669093806897441, 'val_auc_roc': 0.9258396065523548, 'auc_roc': 0.9252342085043589}}\n"
     ]
    },
    {
     "name": "stdout",
     "output_type": "stream",
     "text": [
      "Epoch 15/15\n",
      "200/200 [==============================] - 195s 974ms/step - loss: 0.0642 - acc: 0.9784 - auc_roc: 0.9265 - val_loss: 0.1013 - val_acc: 0.9663 - val_auc_roc: 0.9271\n",
      "\n",
      "Epoch 00015: loss improved from 0.06687 to 0.06420, saving model to ../../models/unet_borneo_and_harz_03_09_16_15.hdf5\n"
     ]
    },
    {
     "name": "stderr",
     "output_type": "stream",
     "text": [
      "2018-09-03 16:00:33,558 - __main__ - INFO - {'epoch': 14, 'logs': {'val_loss': 0.10129502840340138, 'acc': 0.9784193306443203, 'loss': 0.0641979173996512, 'val_acc': 0.9662859964370728, 'val_auc_roc': 0.92713299036026, 'auc_roc': 0.9264514208677782}}\n"
     ]
    }
   ],
   "source": [
    "history = model.fit_generator(train_gen,\n",
    "                              steps_per_epoch=steps_per_epoch,\n",
    "                              epochs=epochs,\n",
    "                              callbacks=[model_checkpoint, early_stop, logging_callback],\n",
    "                              validation_data=validation_gen,\n",
    "                              validation_steps=validation_steps\n",
    "                             )"
   ]
  },
  {
   "cell_type": "code",
   "execution_count": 54,
   "metadata": {},
   "outputs": [
    {
     "data": {
      "image/png": "[encoded data removed]",
      "text/plain": [
       "<Figure size 432x288 with 1 Axes>"
      ]
     },
     "metadata": {},
     "output_type": "display_data"
    },
    {
     "data": {
      "image/png": "[encoded data removed]",
      "text/plain": [
       "<Figure size 432x288 with 1 Axes>"
      ]
     },
     "metadata": {},
     "output_type": "display_data"
    },
    {
     "data": {
      "image/png": "[encoded data removed]",
      "text/plain": [
       "<Figure size 432x288 with 1 Axes>"
      ]
     },
     "metadata": {},
     "output_type": "display_data"
    }
   ],
   "source": [
    "import matplotlib.pyplot as plt\n",
    "\n",
    "def plot_history(history):\n",
    "    plt.plot(history[\"acc\"], label=\"acc\")\n",
    "    plt.plot(history[\"val_acc\"], label=\"val_acc\")\n",
    "    plt.legend()\n",
    "    plt.show()\n",
    "    plt.close()\n",
    "    \n",
    "    plt.plot(history[\"loss\"], label=\"loss\")\n",
    "    plt.plot(history[\"val_loss\"], label=\"val_loss\")\n",
    "    plt.legend()\n",
    "    plt.show()\n",
    "    plt.close()\n",
    "\n",
    "    plt.plot(history[\"auc_roc\"], label=\"auc_roc\")\n",
    "    plt.plot(history[\"val_auc_roc\"], label=\"val_auc_roc\")\n",
    "    plt.legend()\n",
    "    plt.show()\n",
    "    plt.close()\n",
    "\n",
    "plot_history(history.history)"
   ]
  },
  {
   "cell_type": "code",
   "execution_count": 37,
   "metadata": {},
   "outputs": [
    {
     "name": "stdout",
     "output_type": "stream",
     "text": [
      "{'val_loss': [0.15111123360693454, 0.11265804544091225, 0.09736075177788735, 0.1093273222522468, 0.10353506132960319], 'acc': [0.9729157412052154, 0.9750498813390732, 0.9741975296168558, 0.9749517524242401, 0.9746131132687291], 'loss': [0.09328662637621164, 0.07989071313291789, 0.08291095124197102, 0.08041571797803045, 0.08174248952268352], 'val_acc': [0.955501937866211, 0.9634040832519531, 0.9692430526018143, 0.9655407089359906, 0.9677986115217209], 'val_auc_roc': [0.8609775125980377, 0.885262981057167, 0.8935309767723083, 0.8975710236296361, 0.9001596540212631], 'auc_roc': [0.7992056733369828, 0.8733948016166687, 0.8896155453497364, 0.8960032451152802, 0.8996111599187697]}\n"
     ]
    }
   ],
   "source": [
    "print(history.history)"
   ]
  },
  {
   "cell_type": "code",
   "execution_count": 55,
   "metadata": {
    "scrolled": false
   },
   "outputs": [
    {
     "name": "stderr",
     "output_type": "stream",
     "text": [
      "/home/ubuntu/.local/lib/python3.5/site-packages/skimage/io/_io.py:140: UserWarning: ../../data/test/predict/20171013_232848_0c46_3B_0055.tif is a low contrast image\n",
      "  warn('%s is a low contrast image' % fname)\n",
      "/home/ubuntu/.local/lib/python3.5/site-packages/skimage/io/_io.py:140: UserWarning: ../../data/test/predict/20170815_005028_0c0b_3B_0049.tif is a low contrast image\n",
      "  warn('%s is a low contrast image' % fname)\n",
      "/home/ubuntu/.local/lib/python3.5/site-packages/skimage/io/_io.py:140: UserWarning: ../../data/test/predict/20180427_020347_103a_3B_0051.tif is a low contrast image\n",
      "  warn('%s is a low contrast image' % fname)\n",
      "/home/ubuntu/.local/lib/python3.5/site-packages/skimage/io/_io.py:140: UserWarning: ../../data/test/predict/20180427_020501_103c_3B_0051.tif is a low contrast image\n",
      "  warn('%s is a low contrast image' % fname)\n",
      "/home/ubuntu/.local/lib/python3.5/site-packages/skimage/io/_io.py:140: UserWarning: ../../data/test/predict/20180427_020503_103c_3B_0058.tif is a low contrast image\n",
      "  warn('%s is a low contrast image' % fname)\n",
      "/home/ubuntu/.local/lib/python3.5/site-packages/skimage/io/_io.py:140: UserWarning: ../../data/test/predict/20171013_232848_0c46_3B_0049.tif is a low contrast image\n",
      "  warn('%s is a low contrast image' % fname)\n",
      "/home/ubuntu/.local/lib/python3.5/site-packages/skimage/io/_io.py:140: UserWarning: ../../data/test/predict/20180427_020501_103c_3B_0058.tif is a low contrast image\n",
      "  warn('%s is a low contrast image' % fname)\n",
      "/home/ubuntu/.local/lib/python3.5/site-packages/skimage/io/_io.py:140: UserWarning: ../../data/test/predict/20170815_005028_0c0b_3B_0045.tif is a low contrast image\n",
      "  warn('%s is a low contrast image' % fname)\n",
      "/home/ubuntu/.local/lib/python3.5/site-packages/skimage/io/_io.py:140: UserWarning: ../../data/test/predict/20180310_020202_1040_3B_0051.tif is a low contrast image\n",
      "  warn('%s is a low contrast image' % fname)\n",
      "/home/ubuntu/.local/lib/python3.5/site-packages/skimage/io/_io.py:140: UserWarning: ../../data/test/predict/20171013_232848_0c46_3B_0045.tif is a low contrast image\n",
      "  warn('%s is a low contrast image' % fname)\n",
      "/home/ubuntu/.local/lib/python3.5/site-packages/skimage/io/_io.py:140: UserWarning: ../../data/test/predict/20180427_020501_103c_3B_0056.tif is a low contrast image\n",
      "  warn('%s is a low contrast image' % fname)\n",
      "/home/ubuntu/.local/lib/python3.5/site-packages/skimage/io/_io.py:140: UserWarning: ../../data/test/predict/20180427_020501_103c_3B_0057.tif is a low contrast image\n",
      "  warn('%s is a low contrast image' % fname)\n",
      "/home/ubuntu/.local/lib/python3.5/site-packages/skimage/io/_io.py:140: UserWarning: ../../data/test/predict/20180427_020501_103c_3B_0053.tif is a low contrast image\n",
      "  warn('%s is a low contrast image' % fname)\n",
      "/home/ubuntu/.local/lib/python3.5/site-packages/skimage/io/_io.py:140: UserWarning: ../../data/test/predict/20171013_232848_0c46_3B_0058.tif is a low contrast image\n",
      "  warn('%s is a low contrast image' % fname)\n",
      "/home/ubuntu/.local/lib/python3.5/site-packages/skimage/io/_io.py:140: UserWarning: ../../data/test/predict/20180427_020501_103c_3B_0050.tif is a low contrast image\n",
      "  warn('%s is a low contrast image' % fname)\n",
      "/home/ubuntu/.local/lib/python3.5/site-packages/skimage/io/_io.py:140: UserWarning: ../../data/test/predict/20180427_020501_103c_3B_0046.tif is a low contrast image\n",
      "  warn('%s is a low contrast image' % fname)\n",
      "/home/ubuntu/.local/lib/python3.5/site-packages/skimage/io/_io.py:140: UserWarning: ../../data/test/predict/20180427_020501_103c_3B_0049.tif is a low contrast image\n",
      "  warn('%s is a low contrast image' % fname)\n",
      "/home/ubuntu/.local/lib/python3.5/site-packages/skimage/io/_io.py:140: UserWarning: ../../data/test/predict/20180427_020504_103c_3B_0051.tif is a low contrast image\n",
      "  warn('%s is a low contrast image' % fname)\n",
      "/home/ubuntu/.local/lib/python3.5/site-packages/skimage/io/_io.py:140: UserWarning: ../../data/test/predict/20180427_020502_103c_3B_0057.tif is a low contrast image\n",
      "  warn('%s is a low contrast image' % fname)\n",
      "/home/ubuntu/.local/lib/python3.5/site-packages/skimage/io/_io.py:140: UserWarning: ../../data/test/predict/20180427_020501_103c_3B_0059.tif is a low contrast image\n",
      "  warn('%s is a low contrast image' % fname)\n",
      "/home/ubuntu/.local/lib/python3.5/site-packages/skimage/io/_io.py:140: UserWarning: ../../data/test/predict/20180427_020501_103c_3B_0052.tif is a low contrast image\n",
      "  warn('%s is a low contrast image' % fname)\n",
      "/home/ubuntu/.local/lib/python3.5/site-packages/skimage/io/_io.py:140: UserWarning: ../../data/test/predict/20171013_232848_0c46_3B_0059.tif is a low contrast image\n",
      "  warn('%s is a low contrast image' % fname)\n",
      "/home/ubuntu/.local/lib/python3.5/site-packages/skimage/io/_io.py:140: UserWarning: ../../data/test/predict/20180427_020501_103c_3B_0047.tif is a low contrast image\n",
      "  warn('%s is a low contrast image' % fname)\n",
      "/home/ubuntu/.local/lib/python3.5/site-packages/skimage/io/_io.py:140: UserWarning: ../../data/test/predict/20180427_020501_103c_3B_0055.tif is a low contrast image\n",
      "  warn('%s is a low contrast image' % fname)\n",
      "/home/ubuntu/.local/lib/python3.5/site-packages/skimage/io/_io.py:140: UserWarning: ../../data/test/predict/20180427_020346_103a_3B_0051.tif is a low contrast image\n",
      "  warn('%s is a low contrast image' % fname)\n",
      "/home/ubuntu/.local/lib/python3.5/site-packages/skimage/io/_io.py:140: UserWarning: ../../data/test/predict/20180310_020202_1040_3B_0052.tif is a low contrast image\n",
      "  warn('%s is a low contrast image' % fname)\n",
      "/home/ubuntu/.local/lib/python3.5/site-packages/skimage/io/_io.py:140: UserWarning: ../../data/test/predict/20180427_020504_103c_3B_0057.tif is a low contrast image\n",
      "  warn('%s is a low contrast image' % fname)\n",
      "/home/ubuntu/.local/lib/python3.5/site-packages/skimage/io/_io.py:140: UserWarning: ../../data/test/predict/20180427_020502_103c_3B_0052.tif is a low contrast image\n",
      "  warn('%s is a low contrast image' % fname)\n",
      "/home/ubuntu/.local/lib/python3.5/site-packages/skimage/io/_io.py:140: UserWarning: ../../data/test/predict/20171013_232848_0c46_3B_0056.tif is a low contrast image\n",
      "  warn('%s is a low contrast image' % fname)\n"
     ]
    }
   ],
   "source": [
    "testGene = testGenerator(\"../../data/test/sat\",target_size=(512,512),as_gray=False)\n",
    "n = 0\n",
    "for img, name in testGene:\n",
    "    results = model.predict(img, batch_size=1)\n",
    "    saveResult(\"../../data/test/predict\", results, name)\n",
    "    n += 1\n",
    "    if(n>300):\n",
    "        break"
   ]
  }
 ],
 "metadata": {
  "kernelspec": {
   "display_name": "Python 3",
   "language": "python",
   "name": "python3"
  },
  "language_info": {
   "codemirror_mode": {
    "name": "ipython",
    "version": 3
   },
   "file_extension": ".py",
   "mimetype": "text/x-python",
   "name": "python",
   "nbconvert_exporter": "python",
   "pygments_lexer": "ipython3",
   "version": "3.5.2"
  }
 },
 "nbformat": 4,
 "nbformat_minor": 2
}
