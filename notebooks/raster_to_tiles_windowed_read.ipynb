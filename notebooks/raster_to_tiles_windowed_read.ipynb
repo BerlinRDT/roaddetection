{
 "cells": [
  {
   "cell_type": "code",
   "execution_count": 1259,
   "metadata": {},
   "outputs": [],
   "source": [
    "import fiona\n",
    "import numpy as np\n",
    "from pathlib import Path\n",
    "import os\n",
    "\n",
    "import rasterio as rio\n",
    "from rasterio import windows\n",
    "from rasterio import features\n",
    "import rasterio.plot as rioplot\n",
    "from rasterio.warp import transform_bounds\n",
    "\n",
    "from itertools import product\n",
    "from rtree import index\n",
    "\n",
    "from shapely.geometry import mapping, LineString, shape\n",
    "import geopandas as gp\n",
    "import json\n",
    "from  rasterio.transform  import Affine\n",
    "from rasterio.mask import mask\n",
    "from rasterio.transform import IDENTITY\n",
    "%matplotlib inline "
   ]
  },
  {
   "cell_type": "code",
   "execution_count": 1260,
   "metadata": {},
   "outputs": [],
   "source": [
    "from functools import partial\n",
    "import pyproj \n",
    "from shapely.ops import transform"
   ]
  },
  {
   "cell_type": "code",
   "execution_count": 1261,
   "metadata": {},
   "outputs": [],
   "source": [
    "DST_CRS = 'EPSG:4326'\n",
    "\n",
    "RAW_IMAGES = '../data/raw/images'\n",
    "RAW_LABELS = '../data/raw/labels'\n",
    "\n",
    "TRAINING_DIR = '../data/train'\n",
    "TRAINING_SAT_DIR = '{}/sat'.format(TRAINING_DIR)\n",
    "TRAINING_MAP_DIR = '{}/map'.format(TRAINING_DIR)"
   ]
  },
  {
   "cell_type": "code",
   "execution_count": 1262,
   "metadata": {},
   "outputs": [],
   "source": [
    "window_size = 1500\n",
    "output_tile_filename = '{}/tile_{}-{}.tif'\n",
    "output_map_filename = '{}/tile_{}-{}.tif'"
   ]
  },
  {
   "cell_type": "code",
   "execution_count": 1263,
   "metadata": {},
   "outputs": [],
   "source": [
    "Path(RAW_IMAGES).mkdir(exist_ok=True)\n",
    "Path(RAW_LABELS).mkdir(exist_ok=True)\n",
    "\n",
    "Path(TRAINING_DIR).mkdir(exist_ok=True)\n",
    "Path(TRAINING_SAT_DIR).mkdir(exist_ok=True)\n",
    "Path(TRAINING_MAP_DIR).mkdir(exist_ok=True)"
   ]
  },
  {
   "cell_type": "code",
   "execution_count": 1264,
   "metadata": {},
   "outputs": [],
   "source": [
    "def create_spatial_index():\n",
    "    idx = index.Index()\n",
    "    with fiona.open(\"{}/walker_3093.geojson\".format(RAW_LABELS), \"r\") as geojson:\n",
    "        lines = [LineString(feature[\"geometry\"][\"coordinates\"]) for feature in geojson]\n",
    "        count = -1\n",
    "        for line in lines:\n",
    "            count +=1\n",
    "            idx.insert(count, line.bounds, obj=line)\n",
    "    return idx    \n"
   ]
  },
  {
   "cell_type": "code",
   "execution_count": 1265,
   "metadata": {},
   "outputs": [],
   "source": [
    "def transform_bnds(src_crs, dst_crs,src_bounds):\n",
    "    return transform_bounds(src_crs,dst_crs,src_bounds[0], src_bounds[1], src_bounds[2], src_bounds[3] )"
   ]
  },
  {
   "cell_type": "code",
   "execution_count": 1266,
   "metadata": {},
   "outputs": [],
   "source": [
    "def plot_shapes(geom):\n",
    "    df  = gp.GeoDataFrame(geometry=geom, crs={'init': 'epsg:32750'})\n",
    "    print(transform_bnds(DST_CRS,DST_CRS, df.total_bounds))\n",
    "    df.plot()\n"
   ]
  },
  {
   "cell_type": "code",
   "execution_count": 1267,
   "metadata": {},
   "outputs": [],
   "source": [
    "p1=pyproj.Proj(init=DST_CRS) \n",
    "p2=pyproj.Proj(init='EPSG:32750') #the is the crs of the source raster file\n",
    "project = partial(pyproj.transform, p1, p2)"
   ]
  },
  {
   "cell_type": "code",
   "execution_count": 1268,
   "metadata": {},
   "outputs": [],
   "source": [
    "def  transform_from_corner(ulx, uly, dx, dy):\n",
    "    return Affine.translation(ulx, uly)*Affine.scale(dx, -dy)\n",
    "\n",
    "# print(transform_from_corner(bounds[0], bounds[3], 1.0/3600, 1.0/3600).to_gdal())"
   ]
  },
  {
   "cell_type": "code",
   "execution_count": 1269,
   "metadata": {},
   "outputs": [],
   "source": [
    "def write_map(src, window, meta):\n",
    "#     print(src.window_bounds(window))\n",
    "    outpath = output_map_filename.format(TRAINING_MAP_DIR,int(window.col_off),int(window.row_off))\n",
    "    dst_bounds = transform_bnds(src.crs, DST_CRS, src.window_bounds(window))\n",
    "\n",
    "    intersecting_road_items = idx.intersection(dst_bounds,objects=True)\n",
    "    roads = list(intersecting_road_items)\n",
    "    lines = [r.object for r in roads]\n",
    "    print(meta)\n",
    "    m2 = meta.copy()\n",
    "    m2['count']=1\n",
    "    with rio.open(outpath, 'w', \n",
    "                  **m2) as outds:\n",
    "        if len(lines) > 0:\n",
    "            g2 = [ transform(project, line) for line in lines]\n",
    "            print(g2)\n",
    "            burned = features.rasterize(g2, \n",
    "                                        fill=255,\n",
    "                                        out_shape=(window_size, window_size),\n",
    "                                        all_touched=True,\n",
    "                                        transform=meta['transform'])\n",
    "            rioplot.show(burned, with_bounds=True)\n",
    "            outds.write(burned, indexes=1)"
   ]
  },
  {
   "cell_type": "code",
   "execution_count": null,
   "metadata": {},
   "outputs": [],
   "source": []
  },
  {
   "cell_type": "code",
   "execution_count": 1270,
   "metadata": {},
   "outputs": [],
   "source": [
    "def write_tile(src, window, meta):\n",
    "    outpath = output_tile_filename.format(TRAINING_SAT_DIR,int(window.col_off),int(window.row_off))\n",
    "    with rio.open(outpath, 'w', **meta) as outds:\n",
    "        outds.write(src.read(window=window))"
   ]
  },
  {
   "cell_type": "code",
   "execution_count": 1271,
   "metadata": {},
   "outputs": [],
   "source": [
    "def make_tiles(file):\n",
    "    with rio.open(file) as inds:\n",
    "          tile_width, tile_height = window_size, window_size\n",
    "          meta = inds.meta.copy()\n",
    "          for window, transform in get_tiles(inds):\n",
    "            meta['transform'] = transform\n",
    "            meta['width'], meta['height'] = window.width, window.height\n",
    "            write_tile(inds, window, meta)\n",
    "            write_map(inds, window, meta)"
   ]
  },
  {
   "cell_type": "code",
   "execution_count": null,
   "metadata": {},
   "outputs": [],
   "source": []
  },
  {
   "cell_type": "code",
   "execution_count": 1272,
   "metadata": {},
   "outputs": [],
   "source": [
    "def get_tiles(ds, width=window_size, height=window_size):\n",
    "    nols, nrows = ds.meta['width'], ds.meta['height']\n",
    "    offsets = product(range(0, nols, width), range(0, nrows, height))\n",
    "    big_window = windows.Window(col_off=0, row_off=0, width=nols, height=nrows)\n",
    "    for col_off, row_off in  offsets:\n",
    "        window =windows.Window(col_off=col_off, row_off=row_off, width=width, height=height).intersection(big_window)\n",
    "        transform = windows.transform(window, ds.transform)\n",
    "        yield window, transform"
   ]
  },
  {
   "cell_type": "code",
   "execution_count": null,
   "metadata": {},
   "outputs": [],
   "source": []
  },
  {
   "cell_type": "code",
   "execution_count": 1273,
   "metadata": {},
   "outputs": [
    {
     "name": "stdout",
     "output_type": "stream",
     "text": [
      "{'driver': 'GTiff', 'dtype': 'uint8', 'nodata': None, 'width': 1500, 'height': 1500, 'count': 4, 'crs': CRS({'init': 'epsg:32750'}), 'transform': Affine(3.0, 0.0, 356244.0,\n",
      "       0.0, -3.0, 9837912.0)}\n",
      "{'driver': 'GTiff', 'dtype': 'uint8', 'nodata': None, 'width': 1500, 'height': 1500, 'count': 4, 'crs': CRS({'init': 'epsg:32750'}), 'transform': Affine(3.0, 0.0, 356244.0,\n",
      "       0.0, -3.0, 9833412.0)}\n",
      "{'driver': 'GTiff', 'dtype': 'uint8', 'nodata': None, 'width': 1500, 'height': 1500, 'count': 4, 'crs': CRS({'init': 'epsg:32750'}), 'transform': Affine(3.0, 0.0, 356244.0,\n",
      "       0.0, -3.0, 9828912.0)}\n",
      "{'driver': 'GTiff', 'dtype': 'uint8', 'nodata': None, 'width': 1500, 'height': 916, 'count': 4, 'crs': CRS({'init': 'epsg:32750'}), 'transform': Affine(3.0, 0.0, 356244.0,\n",
      "       0.0, -3.0, 9824412.0)}\n",
      "{'driver': 'GTiff', 'dtype': 'uint8', 'nodata': None, 'width': 1500, 'height': 1500, 'count': 4, 'crs': CRS({'init': 'epsg:32750'}), 'transform': Affine(3.0, 0.0, 360744.0,\n",
      "       0.0, -3.0, 9837912.0)}\n",
      "[<shapely.geometry.linestring.LineString object at 0x121b256d8>, <shapely.geometry.linestring.LineString object at 0x121b258d0>]\n"
     ]
    },
    {
     "data": {
      "image/png": "[encoded data removed]",
      "text/plain": [
       "<Figure size 432x288 with 1 Axes>"
      ]
     },
     "metadata": {},
     "output_type": "display_data"
    },
    {
     "name": "stdout",
     "output_type": "stream",
     "text": [
      "{'driver': 'GTiff', 'dtype': 'uint8', 'nodata': None, 'width': 1500, 'height': 1500, 'count': 4, 'crs': CRS({'init': 'epsg:32750'}), 'transform': Affine(3.0, 0.0, 360744.0,\n",
      "       0.0, -3.0, 9833412.0)}\n",
      "[<shapely.geometry.linestring.LineString object at 0x121b23160>, <shapely.geometry.linestring.LineString object at 0x11e568978>]\n"
     ]
    },
    {
     "data": {
      "image/png": "[encoded data removed]",
      "text/plain": [
       "<Figure size 432x288 with 1 Axes>"
      ]
     },
     "metadata": {},
     "output_type": "display_data"
    },
    {
     "name": "stdout",
     "output_type": "stream",
     "text": [
      "{'driver': 'GTiff', 'dtype': 'uint8', 'nodata': None, 'width': 1500, 'height': 1500, 'count': 4, 'crs': CRS({'init': 'epsg:32750'}), 'transform': Affine(3.0, 0.0, 360744.0,\n",
      "       0.0, -3.0, 9828912.0)}\n",
      "[<shapely.geometry.linestring.LineString object at 0x12220d048>, <shapely.geometry.linestring.LineString object at 0x12220d908>, <shapely.geometry.linestring.LineString object at 0x12220db38>, <shapely.geometry.linestring.LineString object at 0x12220d550>]\n"
     ]
    },
    {
     "data": {
      "image/png": "[encoded data removed]",
      "text/plain": [
       "<Figure size 432x288 with 1 Axes>"
      ]
     },
     "metadata": {},
     "output_type": "display_data"
    },
    {
     "name": "stdout",
     "output_type": "stream",
     "text": [
      "{'driver': 'GTiff', 'dtype': 'uint8', 'nodata': None, 'width': 1500, 'height': 916, 'count': 4, 'crs': CRS({'init': 'epsg:32750'}), 'transform': Affine(3.0, 0.0, 360744.0,\n",
      "       0.0, -3.0, 9824412.0)}\n",
      "[<shapely.geometry.linestring.LineString object at 0x11e568978>, <shapely.geometry.linestring.LineString object at 0x11e568b70>, <shapely.geometry.linestring.LineString object at 0x11e568358>, <shapely.geometry.linestring.LineString object at 0x122302358>, <shapely.geometry.linestring.LineString object at 0x1214c5ba8>]\n"
     ]
    },
    {
     "data": {
      "image/png": "[encoded data removed]",
      "text/plain": [
       "<Figure size 432x288 with 1 Axes>"
      ]
     },
     "metadata": {},
     "output_type": "display_data"
    },
    {
     "name": "stdout",
     "output_type": "stream",
     "text": [
      "{'driver': 'GTiff', 'dtype': 'uint8', 'nodata': None, 'width': 1500, 'height': 1500, 'count': 4, 'crs': CRS({'init': 'epsg:32750'}), 'transform': Affine(3.0, 0.0, 365244.0,\n",
      "       0.0, -3.0, 9837912.0)}\n",
      "[<shapely.geometry.linestring.LineString object at 0x12220d048>, <shapely.geometry.linestring.LineString object at 0x121b93898>, <shapely.geometry.linestring.LineString object at 0x12147b5f8>]\n"
     ]
    },
    {
     "data": {
      "image/png": "[encoded data removed]",
      "text/plain": [
       "<Figure size 432x288 with 1 Axes>"
      ]
     },
     "metadata": {},
     "output_type": "display_data"
    },
    {
     "name": "stdout",
     "output_type": "stream",
     "text": [
      "{'driver': 'GTiff', 'dtype': 'uint8', 'nodata': None, 'width': 1500, 'height': 1500, 'count': 4, 'crs': CRS({'init': 'epsg:32750'}), 'transform': Affine(3.0, 0.0, 365244.0,\n",
      "       0.0, -3.0, 9833412.0)}\n",
      "[<shapely.geometry.linestring.LineString object at 0x11e39e550>, <shapely.geometry.linestring.LineString object at 0x11e39e668>, <shapely.geometry.linestring.LineString object at 0x1221dfdd8>]\n"
     ]
    },
    {
     "data": {
      "image/png": "[encoded data removed]",
      "text/plain": [
       "<Figure size 432x288 with 1 Axes>"
      ]
     },
     "metadata": {},
     "output_type": "display_data"
    },
    {
     "name": "stdout",
     "output_type": "stream",
     "text": [
      "{'driver': 'GTiff', 'dtype': 'uint8', 'nodata': None, 'width': 1500, 'height': 1500, 'count': 4, 'crs': CRS({'init': 'epsg:32750'}), 'transform': Affine(3.0, 0.0, 365244.0,\n",
      "       0.0, -3.0, 9828912.0)}\n",
      "[<shapely.geometry.linestring.LineString object at 0x11e39e668>, <shapely.geometry.linestring.LineString object at 0x11e39e860>, <shapely.geometry.linestring.LineString object at 0x121b25b00>, <shapely.geometry.linestring.LineString object at 0x121af5908>]\n"
     ]
    },
    {
     "data": {
      "image/png": "[encoded data removed]",
      "text/plain": [
       "<Figure size 432x288 with 1 Axes>"
      ]
     },
     "metadata": {},
     "output_type": "display_data"
    },
    {
     "name": "stdout",
     "output_type": "stream",
     "text": [
      "{'driver': 'GTiff', 'dtype': 'uint8', 'nodata': None, 'width': 1500, 'height': 916, 'count': 4, 'crs': CRS({'init': 'epsg:32750'}), 'transform': Affine(3.0, 0.0, 365244.0,\n",
      "       0.0, -3.0, 9824412.0)}\n",
      "[<shapely.geometry.linestring.LineString object at 0x11ea6a9e8>, <shapely.geometry.linestring.LineString object at 0x1221dfdd8>, <shapely.geometry.linestring.LineString object at 0x1221df550>]\n"
     ]
    },
    {
     "data": {
      "image/png": "[encoded data removed]",
      "text/plain": [
       "<Figure size 432x288 with 1 Axes>"
      ]
     },
     "metadata": {},
     "output_type": "display_data"
    },
    {
     "name": "stdout",
     "output_type": "stream",
     "text": [
      "{'driver': 'GTiff', 'dtype': 'uint8', 'nodata': None, 'width': 1500, 'height': 1500, 'count': 4, 'crs': CRS({'init': 'epsg:32750'}), 'transform': Affine(3.0, 0.0, 369744.0,\n",
      "       0.0, -3.0, 9837912.0)}\n",
      "[<shapely.geometry.linestring.LineString object at 0x1214e3470>, <shapely.geometry.linestring.LineString object at 0x1214e3eb8>, <shapely.geometry.linestring.LineString object at 0x1214e3390>, <shapely.geometry.linestring.LineString object at 0x12175f860>, <shapely.geometry.linestring.LineString object at 0x12175f0b8>, <shapely.geometry.linestring.LineString object at 0x12175f208>]\n"
     ]
    },
    {
     "data": {
      "image/png": "[encoded data removed]",
      "text/plain": [
       "<Figure size 432x288 with 1 Axes>"
      ]
     },
     "metadata": {},
     "output_type": "display_data"
    },
    {
     "name": "stdout",
     "output_type": "stream",
     "text": [
      "{'driver': 'GTiff', 'dtype': 'uint8', 'nodata': None, 'width': 1500, 'height': 1500, 'count': 4, 'crs': CRS({'init': 'epsg:32750'}), 'transform': Affine(3.0, 0.0, 369744.0,\n",
      "       0.0, -3.0, 9833412.0)}\n",
      "[<shapely.geometry.linestring.LineString object at 0x1056c4940>, <shapely.geometry.linestring.LineString object at 0x1056c42e8>, <shapely.geometry.linestring.LineString object at 0x1056c4518>, <shapely.geometry.linestring.LineString object at 0x1056c4e48>, <shapely.geometry.linestring.LineString object at 0x12146ee48>, <shapely.geometry.linestring.LineString object at 0x12146eef0>, <shapely.geometry.linestring.LineString object at 0x12146e0b8>, <shapely.geometry.linestring.LineString object at 0x12146e550>]\n"
     ]
    },
    {
     "data": {
      "image/png": "[encoded data removed]",
      "text/plain": [
       "<Figure size 432x288 with 1 Axes>"
      ]
     },
     "metadata": {},
     "output_type": "display_data"
    },
    {
     "name": "stdout",
     "output_type": "stream",
     "text": [
      "{'driver': 'GTiff', 'dtype': 'uint8', 'nodata': None, 'width': 1500, 'height': 1500, 'count': 4, 'crs': CRS({'init': 'epsg:32750'}), 'transform': Affine(3.0, 0.0, 369744.0,\n",
      "       0.0, -3.0, 9828912.0)}\n",
      "[<shapely.geometry.linestring.LineString object at 0x1214e3cc0>, <shapely.geometry.linestring.LineString object at 0x1214e34a8>, <shapely.geometry.linestring.LineString object at 0x11e3d4898>, <shapely.geometry.linestring.LineString object at 0x1217c7d68>]\n"
     ]
    },
    {
     "data": {
      "image/png": "[encoded data removed]",
      "text/plain": [
       "<Figure size 432x288 with 1 Axes>"
      ]
     },
     "metadata": {},
     "output_type": "display_data"
    },
    {
     "name": "stdout",
     "output_type": "stream",
     "text": [
      "{'driver': 'GTiff', 'dtype': 'uint8', 'nodata': None, 'width': 1500, 'height': 916, 'count': 4, 'crs': CRS({'init': 'epsg:32750'}), 'transform': Affine(3.0, 0.0, 369744.0,\n",
      "       0.0, -3.0, 9824412.0)}\n",
      "[<shapely.geometry.linestring.LineString object at 0x121f7be80>, <shapely.geometry.linestring.LineString object at 0x121f7bac8>, <shapely.geometry.linestring.LineString object at 0x121f7b9e8>, <shapely.geometry.linestring.LineString object at 0x121f7bda0>]\n"
     ]
    },
    {
     "data": {
      "image/png": "[encoded data removed]",
      "text/plain": [
       "<Figure size 432x288 with 1 Axes>"
      ]
     },
     "metadata": {},
     "output_type": "display_data"
    },
    {
     "name": "stdout",
     "output_type": "stream",
     "text": [
      "{'driver': 'GTiff', 'dtype': 'uint8', 'nodata': None, 'width': 326, 'height': 1500, 'count': 4, 'crs': CRS({'init': 'epsg:32750'}), 'transform': Affine(3.0, 0.0, 374244.0,\n",
      "       0.0, -3.0, 9837912.0)}\n",
      "[<shapely.geometry.linestring.LineString object at 0x120c18898>, <shapely.geometry.linestring.LineString object at 0x11e4bc160>, <shapely.geometry.linestring.LineString object at 0x1223045f8>, <shapely.geometry.linestring.LineString object at 0x1217c71d0>]\n"
     ]
    },
    {
     "data": {
      "image/png": "[encoded data removed]",
      "text/plain": [
       "<Figure size 432x288 with 1 Axes>"
      ]
     },
     "metadata": {},
     "output_type": "display_data"
    },
    {
     "name": "stdout",
     "output_type": "stream",
     "text": [
      "{'driver': 'GTiff', 'dtype': 'uint8', 'nodata': None, 'width': 326, 'height': 1500, 'count': 4, 'crs': CRS({'init': 'epsg:32750'}), 'transform': Affine(3.0, 0.0, 374244.0,\n",
      "       0.0, -3.0, 9833412.0)}\n",
      "[<shapely.geometry.linestring.LineString object at 0x120c18898>]\n"
     ]
    },
    {
     "data": {
      "image/png": "[encoded data removed]",
      "text/plain": [
       "<Figure size 432x288 with 1 Axes>"
      ]
     },
     "metadata": {},
     "output_type": "display_data"
    },
    {
     "name": "stdout",
     "output_type": "stream",
     "text": [
      "{'driver': 'GTiff', 'dtype': 'uint8', 'nodata': None, 'width': 326, 'height': 1500, 'count': 4, 'crs': CRS({'init': 'epsg:32750'}), 'transform': Affine(3.0, 0.0, 374244.0,\n",
      "       0.0, -3.0, 9828912.0)}\n",
      "{'driver': 'GTiff', 'dtype': 'uint8', 'nodata': None, 'width': 326, 'height': 916, 'count': 4, 'crs': CRS({'init': 'epsg:32750'}), 'transform': Affine(3.0, 0.0, 374244.0,\n",
      "       0.0, -3.0, 9824412.0)}\n"
     ]
    }
   ],
   "source": [
    "n = 0\n",
    "idx=create_spatial_index()\n",
    "for file in Path(RAW_IMAGES).iterdir():\n",
    "    if file.name.endswith(('.tif', '.tiff')):\n",
    "        make_tiles(file)\n",
    "        n=n+1\n",
    "        if n >= 1:\n",
    "            break"
   ]
  }
 ],
 "metadata": {
  "kernelspec": {
   "display_name": "Python 3",
   "language": "python",
   "name": "python3"
  },
  "language_info": {
   "codemirror_mode": {
    "name": "ipython",
    "version": 3
   },
   "file_extension": ".py",
   "mimetype": "text/x-python",
   "name": "python",
   "nbconvert_exporter": "python",
   "pygments_lexer": "ipython3",
   "version": "3.6.5"
  }
 },
 "nbformat": 4,
 "nbformat_minor": 2
}
