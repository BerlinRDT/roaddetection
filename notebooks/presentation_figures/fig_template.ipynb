{
 "cells": [
  {
   "cell_type": "markdown",
   "metadata": {},
   "source": [
    "# Notebook template producing figures from satellite image tiles"
   ]
  },
  {
   "cell_type": "code",
   "execution_count": null,
   "metadata": {},
   "outputs": [],
   "source": [
    "#fig_pixelvalues_neighborhood\n",
    "%load_ext autoreload\n",
    "%autoreload 2\n",
    "\n",
    "from src.data import utils\n",
    "from src.models.data import *\n",
    "from src.models.predict_model import *\n",
    "from src.visualization.visualize import *\n",
    "\n",
    "from pathlib import Path\n",
    "import os, shutil\n",
    "import sys\n",
    "import time\n",
    "%matplotlib inline"
   ]
  },
  {
   "cell_type": "markdown",
   "metadata": {},
   "source": [
    "## User settings"
   ]
  },
  {
   "cell_type": "code",
   "execution_count": null,
   "metadata": {},
   "outputs": [],
   "source": [
    "# paths to append\n",
    "sys.path.append(\"/home/ubuntu/roaddetection/\")\n",
    "sys.path.append(\"/media/hh/hd_internal/hh/DSR_Berlin_2018/roaddetection/\")\n",
    "\n",
    "# base directory with data (image tiles) to be analyzed\n",
    "# dir_eval = \"../../data/validate\"\n",
    "dir_eval = \"../../data/train\"\n",
    "# subdirs\n",
    "dir_x = 'sat'\n",
    "dir_y = 'map'\n",
    "\n",
    "# ------------- image characteristics -----------------------------\n",
    "# size of tiles\n",
    "target_size = (512,512)\n",
    "\n",
    "# ------------- selection of samples -----------------------------\n",
    "if True:\n",
    "    # set *number* of samples (files) to analyze and let selection proceed \n",
    "    num_x = 3\n",
    "    mode_sample_choice = \"random\"\n",
    "    mode_sample_choice = [8, 123, 511]\n",
    "else:\n",
    "    # inverse: select specific samples\n",
    "    file_list_selected = [\"20180310_020202_1040_3B_0112.tif\"]\n",
    "    num_x = len(file_list_selected)\n",
    "    mode_sample_choice = None\n",
    "\n",
    "# ------------- determine how labels are to be interpreted -----------------------------\n",
    "model_is_binary = True"
   ]
  },
  {
   "cell_type": "code",
   "execution_count": null,
   "metadata": {},
   "outputs": [],
   "source": [
    "# obtain list and number of available samples (files)\n",
    "file_list_x, num_x_available = utils.get_list_samplefiles(os.path.join(dir_eval, dir_x))\n",
    "\n",
    "if mode_sample_choice is None:\n",
    "    samples_ix = [ix for ix, fn in enumerate(file_list_x) if fn in file_list_selected]\n",
    "else:\n",
    "    samples_ix = utils.gen_sample_index(num_x_available, num_x, mode_sample_choice=mode_sample_choice)"
   ]
  },
  {
   "cell_type": "markdown",
   "metadata": {},
   "source": [
    "### Load data"
   ]
  },
  {
   "cell_type": "code",
   "execution_count": null,
   "metadata": {
    "scrolled": true
   },
   "outputs": [],
   "source": [
    "CLASS_DICT = get_class_dict()\n",
    "# \n",
    "num_features = 4\n",
    "# number of pixels per image\n",
    "img_size = np.prod(target_size)\n",
    "# preallocate arrays collecting features (x) and labels (y) of all samples\n",
    "arr_x = np.empty((img_size * num_x, num_features), dtype=np.float32)\n",
    "arr_y = np.empty(img_size * num_x, dtype=np.uint8)\n",
    "\n",
    "\n",
    "for i, ix in enumerate(samples_ix):\n",
    "    fn = file_list_x[ix]\n",
    "    # read sat image tile\n",
    "    x = io.imread(os.path.join(dir_eval, dir_x, fn))\n",
    "    # read corresponding label tile\n",
    "    y = io.imread(os.path.join(dir_eval, dir_y, fn))  \n",
    "    # refactor labels\n",
    "    y, mask = refactor_labels(x, y, class_dict=CLASS_DICT, model_is_binary=model_is_binary, meta=None)\n",
    "    # scale x\n",
    "    x = x/255.0\n",
    "    print(\"{0:s}: ({1:0.0f} % non-image pixels)...\".format(fn, 100*np.sum(mask)/img_size))\n",
    "    # copy flattened features and labels in arrays\n",
    "    arr_y[i*img_size:(i+1)*img_size] = y.reshape(img_size, order = 'C')\n",
    "    arr_x[i*img_size:(i+1)*img_size,:] =x.reshape((img_size, num_features), order = 'C')\n",
    "    \n",
    "# retain all except no_img values\n",
    "good_ix = arr_y != CLASS_DICT[\"no_img\"]\n",
    "arr_x = arr_x[good_ix, :]\n",
    "arr_y = arr_y[good_ix]\n",
    "print(\"{} classes present in data\".format(len(np.unique(arr_y))))"
   ]
  },
  {
   "cell_type": "markdown",
   "metadata": {},
   "source": [
    "## Quick look at exemplary data\n",
    "Plot of pixel values in blue-green-infrared space; road pixels are red, no road pixels gray"
   ]
  },
  {
   "cell_type": "code",
   "execution_count": null,
   "metadata": {
    "scrolled": false
   },
   "outputs": [],
   "source": [
    "from mpl_toolkits.mplot3d import Axes3D\n",
    "import matplotlib.pyplot as plt\n",
    "import numpy as np\n",
    "\n",
    "# downsample for plot\n",
    "arr_x_plot = arr_x[::10,:]\n",
    "arr_y_plot = arr_y[::10]\n",
    "\n",
    "\n",
    "fig = plt.figure(figsize=(20,20))\n",
    "ax = fig.add_subplot(111, projection='3d')\n",
    "ix = arr_y_plot == 40\n",
    "ax.scatter(arr_x_plot[ix,0], arr_x_plot[ix,1], arr_x_plot[ix,3], c=\"gray\", alpha=0.05)  # , c=c, marker=m\n",
    "ix = arr_y_plot == 200\n",
    "ax.scatter(arr_x_plot[ix,0], arr_x_plot[ix,1], arr_x_plot[ix,3], c=\"orange\")  # , c=c, marker=m\n",
    "\n",
    "\n",
    "ax.set_xlabel('B')\n",
    "ax.set_ylabel('G')\n",
    "ax.set_zlabel('IR')\n",
    "\n",
    "plt.show()"
   ]
  },
  {
   "cell_type": "code",
   "execution_count": null,
   "metadata": {},
   "outputs": [],
   "source": []
  }
 ],
 "metadata": {
  "kernelspec": {
   "display_name": "Python 3",
   "language": "python",
   "name": "python3"
  },
  "language_info": {
   "codemirror_mode": {
    "name": "ipython",
    "version": 3
   },
   "file_extension": ".py",
   "mimetype": "text/x-python",
   "name": "python",
   "nbconvert_exporter": "python",
   "pygments_lexer": "ipython3",
   "version": "3.6.6"
  }
 },
 "nbformat": 4,
 "nbformat_minor": 2
}
