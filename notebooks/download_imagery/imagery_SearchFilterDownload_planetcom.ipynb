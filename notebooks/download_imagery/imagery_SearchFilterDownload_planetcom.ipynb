{
 "cells": [
  {
   "cell_type": "markdown",
   "metadata": {},
   "source": [
    "# Search, filter and download satellite imagery from planet.com\n",
    "\n",
    "This notebook is a mishmash of several notebooks, most of them provided by planet.com on GitHub."
   ]
  },
  {
   "cell_type": "code",
   "execution_count": null,
   "metadata": {},
   "outputs": [],
   "source": [
    "import numpy as np\n",
    "import pandas as pd\n",
    "import geopandas \n",
    "import planet as pl\n",
    "import shapely\n",
    "import os\n",
    "import json\n",
    "import requests\n",
    "import time\n",
    "from requests.auth import HTTPBasicAuth\n",
    "from io import BytesIO\n",
    "from PIL import Image\n",
    "import sys\n",
    "import matplotlib.pyplot as plt\n",
    "%matplotlib inline\n",
    "\n",
    "# TODO / improvements:\n",
    "# - allow user to interactively pick specific satellite files before activation?"
   ]
  },
  {
   "cell_type": "markdown",
   "metadata": {},
   "source": [
    "## Planet.com API setup"
   ]
  },
  {
   "cell_type": "code",
   "execution_count": null,
   "metadata": {},
   "outputs": [],
   "source": [
    "# read API Key stored as an env variable\n",
    "PLANET_API_KEY = os.getenv('PL_API_KEY')\n",
    "if PLANET_API_KEY is None:\n",
    "    raise Exception(\"key does not exist\")\n",
    "\n",
    "# Setup Planet Data API base URL:\n",
    "URL = \"https://api.planet.com/data/v1\"\n",
    "\n",
    "# - Setup the session\n",
    "session = requests.Session()\n",
    "\n",
    "# - Authenticate\n",
    "session.auth = (PLANET_API_KEY, \"\")\n",
    "\n",
    "# - Make a GET request to the Planet Data API\n",
    "res = session.get(URL)\n",
    "\n",
    "if res.status_code != 200:\n",
    "    session.close()\n",
    "    raise Exception(\"Houston, we have no Planet\")\n",
    "\n",
    "# - Setup the quick search endpoint url (used for temporary searches as this one)\n",
    "quick_url = \"{}/quick-search\".format(URL)"
   ]
  },
  {
   "cell_type": "markdown",
   "metadata": {},
   "source": [
    "## User-defined 'hyper'-parameters for imagery to be retrieved"
   ]
  },
  {
   "cell_type": "code",
   "execution_count": null,
   "metadata": {},
   "outputs": [],
   "source": [
    "# set all 'global' parameters needed to let this notebook do its job without user interaction\n",
    "\n",
    "# if true, lots of information will be displayed\n",
    "be_verbose = True\n",
    "# if true, assets will neither be activated nor downloaded\n",
    "dry_run = True\n",
    "\n",
    "# - name of area of interest for which to download imagery (definitions see below)\n",
    "aoi_name = \"3093\"\n",
    "#aoi_name = \"3347\"\n",
    "#aoi_name = \"3601\"\n",
    "#aoi_name = \"Harz2\"\n",
    "\n",
    "\n",
    "# - basic path\n",
    "basic_dir = \"/media/hh/hd_internal/_data_DS/DSR\"\n",
    "\n",
    "# - directory to dump imagery into\n",
    "data_dir = basic_dir + \"/satelliteImages/Borneo/\" + aoi_name + \"/\"\n",
    "# data_dir = basic_dir + \"/satelliteImages/\" + aoi_name + \"/\"\n",
    "\n",
    "# - maximal fraction of cloud cover\n",
    "cloud_cover_max = 0.001 \n",
    "\n",
    "# - minimal sun elevation: make sure it's not set too high and chimes with the season\n",
    "# (that is, have an eye on the date range); in case of doubt set to zero\n",
    "sun_elevation_min = 0\n",
    "\n",
    "# - type of product\n",
    "# PSScene3Band - PlanetScope 3-band Basic and Ortho Scenes\n",
    "# PSScene4Band - PlanetScope 4-band Basic and Ortho Scenes **\n",
    "# PSOrthoTile - PlanetScope 4-band Ortho Tiles as 25 km x 25 km UTM tiles\n",
    "# SkySatScene - SkySat Basic and Ortho Scenes\n",
    "# SkySatCollect -  is created by composing SkySat Ortho Scenes\n",
    "# ** Note:\n",
    "# - if set to 'PSScene3Band', visual and analytic scenes can be downloaded, but downloading\n",
    "#   analytic ones does not make sense because they contain only 3 bands\n",
    "# - if set to 'PSScene4Band', only analytical scenes with 4 bands can be downloaded\n",
    "item_type = \"PSScene4Band\"\n",
    "#item_type = \"PSOrthoTile\"\n",
    "\n",
    "# - asset types (see https://api.planet.com/data/v1/asset-types/)\n",
    "asset_type = (\n",
    "    \"analytic\", # Radiometrically-calibrated analytic imagery stored as 16-bit scaled radiance, suitable for analytic applications.\n",
    "    \"analytic_sr\", #Atmospherically-corrected analytic imagery stored as 16-bit scaled (surface) reflectance, suitable for analytic applications.\n",
    "    \"analytic_xml\", # Radiometrically-calibrated analytic image metadata\n",
    "    \"ortho_analytic_dn\", # Orthorectified 16-bit 4-Band DN Image\n",
    "    \"ortho_analytic_udm\", # Orthorectified 16-bit 4-Band DN Image Unuseable Data Mask\n",
    "    \"ortho_visual,\"\n",
    "    \"visual\",\n",
    "    \"visual_xml\"\n",
    ")\n",
    "\n",
    "asset_type = (\n",
    "    \"analytic\", # Radiometrically-calibrated analytic imagery stored as 16-bit scaled radiance, suitable for analytic applications.\n",
    "    \"analytic_xml\", # Radiometrically-calibrated analytic image metadata\n",
    ")"
   ]
  },
  {
   "cell_type": "code",
   "execution_count": null,
   "metadata": {},
   "outputs": [],
   "source": [
    "# functions needed in cells below\n",
    "def dict_to_df(dict_aoi, geodf_aoi=None):\n",
    "    \"\"\"\n",
    "    Converts dictionary of area of interest (AOI) to a geopanda dataframe\n",
    "    and optionally appends it to existing geopanda dataframe\n",
    "    \"\"\" \n",
    "    # convert to regular df, setting the name as row index\n",
    "    df_aoi = pd.DataFrame(dict_aoi).set_index(\"name\")\n",
    "    # next, read geometry data and make them a shapely series\n",
    "    aoi_shapes = []\n",
    "    aoi_area = []\n",
    "    for fn in df_aoi[\"filename_geometry\"]:\n",
    "        co = geopandas.read_file(fn)\n",
    "        # this is the decisive step - each geopanda dataframe requires a\n",
    "        # \"geometry\" column which must contain shapely objects        \n",
    "        aoi_shapes.append(co[\"geometry\"][0])\n",
    "        # compute area\n",
    "        aoi_area.append(co[\"geometry\"][0].area)\n",
    "        \n",
    "    # insert series into dataframe    \n",
    "    df_aoi[\"geometry\"] = aoi_shapes\n",
    "    df_aoi[\"area\"] = aoi_area\n",
    "    \n",
    "    #... and convert panda dataframe to geopanda dataframe\n",
    "    df_aoi = geopandas.GeoDataFrame(df_aoi)\n",
    "    if geodf_aoi is not None:\n",
    "        return geodf_aoi.append(df_aoi, verify_integrity=True)\n",
    "    else:\n",
    "        return df_aoi\n",
    "    \n",
    "# initialize geodf_aoi\n",
    "geodf_aoi = None"
   ]
  },
  {
   "cell_type": "markdown",
   "metadata": {},
   "source": [
    "## Define all potential areas of interest (AOI)\n",
    "Notes on some parameters:\n",
    "* fraction_img_inAOI_min: each image must be contained in the AOI by this fraction or more; values must range from zero to unity. Choose a large value if your AOI is much larger than the typical satellite image and you want the images to be mostly inside the AOI. In case of doubt, set to zero.\n",
    "* fraction_AOI_covered_min: minimal fraction of AOI covered by image; values must range from zero to unity. Set to high values (even unity) if your AOI is decidedly smaller than the typical satellite image and you want your AOI to be mostly or completely covered by any image. Set to zero in case of doubt.\n"
   ]
  },
  {
   "cell_type": "code",
   "execution_count": null,
   "metadata": {},
   "outputs": [],
   "source": [
    "dict_aoi = {\n",
    "    \"name\": \"3093\",     # keys correspond to numeric code of Laurance lab (e.g. 3093)\n",
    "    \"descript\": \"Borneo, labels by Laurance group\",\n",
    "    \"filename_geometry\": (basic_dir + \"/road_data_Laurance/3093/boundingBox_3093.geojson\"),\n",
    "    \"date_label_min\" : \"2005-11-08T00:00:00.000Z\", # earliest date of labeled road\n",
    "    \"date_label_max\" : \"2017-12-31T00:00:00.000Z\", # latest date of labeled road\n",
    "    \"date_retrieve_min\" : \"2017-08-01T00:00:00.000Z\", # earliest date of imagery to be retrieved\n",
    "    \"date_retrieve_max\" : \"2018-08-14T00:00:00.000Z\", # latest date of imagery to be retrieved\n",
    "    \"fraction_img_inAOI_min\": [0.75], # minimal fraction of image contained in the AOI [0 1] \n",
    "    \"fraction_AOI_covered_min\": [0.0], # minimal fraction of AOI covered by image [0 1]\n",
    "}\n",
    "\n",
    "# convert/append to geopanda dataframe\n",
    "geodf_aoi = dict_to_df(dict_aoi, geodf_aoi)"
   ]
  },
  {
   "cell_type": "code",
   "execution_count": null,
   "metadata": {},
   "outputs": [],
   "source": [
    "dict_aoi = {\n",
    "    \"name\": \"3347\",     # keys correspond to numeric code of Laurance lab (e.g. 3093)\n",
    "    \"descript\": \"Borneo, labels by Laurance group\",\n",
    "    \"filename_geometry\": (basic_dir + \"/road_data_Laurance/3347/boundingBox_3347_a_withPaved.geojson\"),\n",
    "    \"date_label_min\" : \"n.d.\", # earliest date of labeled road\n",
    "    \"date_label_max\" : \"n.d.\", # latest date of labeled road\n",
    "    \"date_retrieve_min\" : \"2017-08-01T00:00:00.000Z\", # earliest date of imagery to be retrieved\n",
    "    \"date_retrieve_max\" : \"2018-08-14T00:00:00.000Z\", # latest date of imagery to be retrieved    \"fraction_img_inAOI_min\": [0.75], # minimal fraction of image contained in the AOI [0 1] \n",
    "    \"fraction_img_inAOI_min\": [0.5], # minimal fraction of image contained in the AOI [0 1] \n",
    "    \"fraction_AOI_covered_min\": [0.25], # minimal fraction of AOI covered by image [0 1]\n",
    "}\n",
    "\n",
    "# convert/append to geopanda dataframe\n",
    "geodf_aoi = dict_to_df(dict_aoi, geodf_aoi)"
   ]
  },
  {
   "cell_type": "code",
   "execution_count": null,
   "metadata": {},
   "outputs": [],
   "source": [
    "dict_aoi = {\n",
    "    \"name\": \"3601\",     # keys correspond to numeric code of Laurance lab (e.g. 3093)\n",
    "    \"descript\": \"Borneo, labels by Laurance group\",\n",
    "    \"filename_geometry\": (basic_dir + \"/road_data_Laurance/3601/boundingBox_3601.geojson\"),\n",
    "    \"date_label_min\" : \"n.d.\", # earliest date of labeled road\n",
    "    \"date_label_max\" : \"n.d.\", # latest date of labeled road\n",
    "    \"date_retrieve_min\" : \"2017-08-01T00:00:00.000Z\", # earliest date of imagery to be retrieved\n",
    "    \"date_retrieve_max\" : \"2018-08-14T00:00:00.000Z\", # latest date of imagery to be retrieved    \"fraction_img_inAOI_min\": [0.75], # minimal fraction of image contained in the AOI [0 1] \n",
    "    \"fraction_img_inAOI_min\": [0.5], # minimal fraction of image contained in the AOI [0 1] \n",
    "    \"fraction_AOI_covered_min\": [0.0], # minimal fraction of AOI covered by image [0 1]\n",
    "}\n",
    "\n",
    "# convert/append to geopanda dataframe\n",
    "geodf_aoi = dict_to_df(dict_aoi, geodf_aoi)"
   ]
  },
  {
   "cell_type": "code",
   "execution_count": null,
   "metadata": {},
   "outputs": [],
   "source": [
    "dict_aoi = {\n",
    "    \"name\": \"Harz2\",     #\n",
    "    \"descript\": \"Harz AOI2, with more paved roads\",\n",
    "    \"filename_geometry\": (basic_dir + \"/road_data_Harz/boundingBox_Harz2.geojson\"),\n",
    "    \"date_label_min\" : \"n.d.\", # earliest date of labeled road\n",
    "    \"date_label_max\" : \"n.d.\", # latest date of labeled road\n",
    "    \"date_retrieve_min\" : \"2018-01-01T00:00:00.000Z\", # earliest date of imagery to be retrieved\n",
    "    \"date_retrieve_max\" : \"2018-08-15T00:00:00.000Z\", # latest date of imagery to be retrieved\n",
    "    \"fraction_img_inAOI_min\": [0.5], # minimal fraction of image contained in the AOI [0 1] \n",
    "    \"fraction_AOI_covered_min\": [0.0], # minimal fraction of AOI covered by image [0 1]\n",
    "}\n",
    "\n",
    "# convert/append to geopanda dataframe\n",
    "geodf_aoi = dict_to_df(dict_aoi, geodf_aoi)"
   ]
  },
  {
   "cell_type": "code",
   "execution_count": null,
   "metadata": {
    "scrolled": true
   },
   "outputs": [],
   "source": [
    "# peek\n",
    "geodf_aoi.head()"
   ]
  },
  {
   "cell_type": "markdown",
   "metadata": {},
   "source": [
    "## Other setup"
   ]
  },
  {
   "cell_type": "code",
   "execution_count": null,
   "metadata": {},
   "outputs": [],
   "source": [
    "# Functions\n",
    "\n",
    "# Helper function to print formatted JSON using the json module\n",
    "def p(data):\n",
    "    print(json.dumps(data, indent=2))\n",
    "\n",
    "# Function to download asset files\n",
    "def download_ass(url, data_dir=\"~/Downloads/\", filename=None):\n",
    "    \"\"\"Downloads asset files from given site; input variables:\n",
    "       - url (the location url)\n",
    "       - data_dir - directory (default: ~/Downloads/)\n",
    "       - filename (the filename to save it as. defaults to whatever the file is called originally)\n",
    "    \"\"\"\n",
    "    # Send a GET request to the provided location url, using API Key for authentication\n",
    "    res = requests.get(url, stream=True, auth=(PLANET_API_KEY, \"\"))\n",
    "    # If no filename argument is given\n",
    "    if not filename:\n",
    "        # Construct a filename from the API response\n",
    "        if \"content-disposition\" in res.headers:\n",
    "            filename = res.headers[\"content-disposition\"].split(\"filename=\")[-1].strip(\"'\\\"\")\n",
    "        # Construct a filename from the location url\n",
    "        else:\n",
    "            filename = url.split(\"=\")[1][:10]\n",
    "    # Save the file\n",
    "    with open(data_dir + filename, \"wb\") as f:\n",
    "        for chunk in res.iter_content(chunk_size=1024):\n",
    "            if chunk: # filter out keep-alive new chunks\n",
    "                f.write(chunk)\n",
    "                f.flush()\n",
    "\n",
    "    return filename\n",
    "\n",
    "# overview plot showing contours of AOI and candidate satellite images\n",
    "def plot_overview_AOI(df_aoi, aoi_name, df_img):\n",
    "    fig = plt.figure()\n",
    "    ax = df_aoi.loc[[aoi_name],:].plot(alpha=0.2, figsize=(10,10))\n",
    "    df_img.plot(ax=ax, color='red', alpha=0.1)"
   ]
  },
  {
   "cell_type": "markdown",
   "metadata": {},
   "source": [
    "## Filters"
   ]
  },
  {
   "cell_type": "code",
   "execution_count": null,
   "metadata": {},
   "outputs": [],
   "source": [
    "# geometry filter\n",
    "\n",
    "# the Planet API expects exactly two numbers for each coordinate point,\n",
    "# so we have to eliminate any additional value that resulted from reading \n",
    "# the AOI's geojson file via geopandas/fiona (elevation?). Also, it expects \n",
    "# a surreal degree of wrapping (list of list of list of lists). So,\n",
    "# - convert shapely geometry to dict\n",
    "geometry_config = geodf_aoi.loc[aoi_name,\"geometry\"].__geo_interface__\n",
    "# - pick coordinates\n",
    "co = geometry_config[\"coordinates\"]\n",
    "# - for each entry keep first two values, and wrap the hell\n",
    "co = [[list(pt[:2]) for pt in co[0]]]\n",
    "# - reinsert\n",
    "geometry_config[\"coordinates\"] = co\n",
    "\n",
    "geometry_filter = {\n",
    "  \"type\": \"GeometryFilter\",\n",
    "  \"field_name\": \"geometry\",\n",
    "  \"config\": geometry_config\n",
    "}\n",
    "\n",
    "# - date range\n",
    "date_range_filter = {\n",
    "  \"type\": \"DateRangeFilter\",\n",
    "  \"field_name\": \"acquired\",\n",
    "  \"config\": {\n",
    "    \"gte\": geodf_aoi.loc[aoi_name,\"date_retrieve_min\"], # greater than or equal to\n",
    "    \"lte\": geodf_aoi.loc[aoi_name,\"date_retrieve_max\"]  # less than or equal to\n",
    "  }\n",
    "}\n",
    "\n",
    "# - cloud coverage\n",
    "cloud_cover_filter = {\n",
    "  \"type\": \"RangeFilter\",\n",
    "  \"field_name\": \"cloud_cover\",\n",
    "  \"config\": {\n",
    "    \"lte\": cloud_cover_max\n",
    "  }\n",
    "}\n",
    "\n",
    "# - sun elevation\n",
    "sun_elevation_filter = {\n",
    "  \"type\": \"RangeFilter\",\n",
    "  \"field_name\": \"sun_elevation\",\n",
    "  \"config\": {\n",
    "    \"gte\": sun_elevation_min\n",
    "  }\n",
    "}\n",
    "\n",
    "# combine filters\n",
    "combined_filter = {\n",
    "  \"type\": \"AndFilter\",\n",
    "  \"config\": [geometry_filter, date_range_filter, cloud_cover_filter, sun_elevation_filter]\n",
    "}"
   ]
  },
  {
   "cell_type": "markdown",
   "metadata": {},
   "source": [
    "## Searching Items and Assets"
   ]
  },
  {
   "cell_type": "code",
   "execution_count": null,
   "metadata": {},
   "outputs": [],
   "source": [
    "# API request object\n",
    "search_request = {\n",
    "  \"interval\": \"day\",\n",
    "  \"item_types\": [item_type], \n",
    "  \"filter\": combined_filter\n",
    "}\n",
    "\n",
    "# Send the POST request to the API quick search endpoint\n",
    "search_result = session.post(quick_url, json=search_request)\n",
    "\n",
    "# srj is a nested dict with the following keys at the top level:\n",
    "# \"_links\" \n",
    "# \"features\" - a list of the retrieved items\n",
    "# \"type\"\n",
    "srj = search_result.json()\n",
    "print(\"found \" + str(len(srj[\"features\"])) + \" items\")"
   ]
  },
  {
   "cell_type": "code",
   "execution_count": null,
   "metadata": {},
   "outputs": [],
   "source": [
    "# convert search results to geopanda dataframe and compute overlap with AOI\n",
    "imagery_list = []\n",
    "for item in srj[\"features\"]:\n",
    "    feature_prop = item[\"properties\"]\n",
    "    feature_prop[\"id\"] = item[\"id\"]\n",
    "    # this is the important step - each geopanda dataframe requires one \"geometry\" column\n",
    "    # which must contain shapely objects\n",
    "    feature_prop[\"geometry\"] = shapely.geometry.shape(item[\"geometry\"])\n",
    "    # helpfully, we can now also compute \n",
    "    # i. the area of the intersection of satellite image and AOI\n",
    "    area_intersect = geodf_aoi.loc[aoi_name, \"geometry\"].intersection(feature_prop[\"geometry\"]).area\n",
    "    # ii. the fraction of the imagery contained in the AOI\n",
    "    feature_prop[\"fraction_img_inAOI\"] = area_intersect / feature_prop[\"geometry\"].area\n",
    "    # iii. the fraction of our AOI covered by the imagery\n",
    "    feature_prop[\"fraction_AOI_covered\"] = area_intersect / geodf_aoi.loc[aoi_name, \"area\"]\n",
    "    feature_prop[\"link_thumbnail\"] = item[\"_links\"][\"thumbnail\"]\n",
    "    feature_prop[\"link_assets\"] = item[\"_links\"][\"assets\"]\n",
    "    \n",
    "    imagery_list.append(feature_prop)\n",
    "    \n",
    "imagery_list = geopandas.GeoDataFrame(imagery_list, geometry=\"geometry\")\n",
    "imagery_list.head(10)    "
   ]
  },
  {
   "cell_type": "markdown",
   "metadata": {},
   "source": [
    "## Second round of filtering according to image properties"
   ]
  },
  {
   "cell_type": "code",
   "execution_count": null,
   "metadata": {
    "scrolled": false
   },
   "outputs": [],
   "source": [
    "good_ix = imagery_list.loc[:,\"fraction_AOI_covered\"] >= geodf_aoi.loc[aoi_name, \"fraction_AOI_covered_min\"]\n",
    "good_ix = good_ix & (imagery_list.loc[:,\"fraction_img_inAOI\"] >= geodf_aoi.loc[aoi_name, \"fraction_img_inAOI_min\"])\n",
    "imagery_list = imagery_list.loc[good_ix,:].reset_index(drop=True)\n",
    "print(str(len(imagery_list)) + \" items remain after filtering\")\n",
    "imagery_list.head()"
   ]
  },
  {
   "cell_type": "markdown",
   "metadata": {},
   "source": [
    "## Visualization & 'manual' selection"
   ]
  },
  {
   "cell_type": "code",
   "execution_count": null,
   "metadata": {
    "scrolled": true
   },
   "outputs": [],
   "source": [
    "plot_overview_AOI(geodf_aoi, aoi_name, imagery_list)"
   ]
  },
  {
   "cell_type": "code",
   "execution_count": null,
   "metadata": {},
   "outputs": [],
   "source": [
    "# show image location and thumbnail side by side: \n",
    "# - get thumbnail images\n",
    "thumbnails=[]\n",
    "for url in imagery_list[\"link_thumbnail\"]:\n",
    "    res = requests.get(url, stream=True, auth=(PLANET_API_KEY, \"\"))\n",
    "    thumbnails.append(Image.open(BytesIO(res.content)))\n",
    "imagery_list[\"thumbnails\"] = thumbnails"
   ]
  },
  {
   "cell_type": "code",
   "execution_count": null,
   "metadata": {},
   "outputs": [],
   "source": [
    "# - plot\n",
    "for ix in imagery_list.index.values:\n",
    "    figH, axH = plt.subplots(1, 2, figsize=(10,10))\n",
    "    plt.title(str(ix) + \": \" + imagery_list.loc[ix,\"id\"])\n",
    "    geodf_aoi.loc[[aoi_name],:].plot(alpha=0.2, ax=axH[0])\n",
    "    imagery_list.loc[[ix],\"geometry\"].plot(ax=axH[0], color='red', alpha=0.1)\n",
    "    plt.imshow(imagery_list.loc[ix,\"thumbnails\"])\n",
    "    "
   ]
  },
  {
   "cell_type": "markdown",
   "metadata": {},
   "source": [
    "## Manually select/remove images\n",
    "If desired, manipulate list of files to be downloaded below by changing the value of good_ix"
   ]
  },
  {
   "cell_type": "code",
   "execution_count": null,
   "metadata": {},
   "outputs": [],
   "source": [
    "good_ix = imagery_list.index.values\n",
    "\n",
    "good_ix = [4, 5, 11, 12, 20, 22]   # , 13, 14\n",
    "\n",
    "\n",
    "imagery_list_selected  = imagery_list.iloc[good_ix,:].reset_index()\n",
    "imagery_list_selected"
   ]
  },
  {
   "cell_type": "code",
   "execution_count": null,
   "metadata": {},
   "outputs": [],
   "source": [
    "# overview again\n",
    "plot_overview_AOI(geodf_aoi, aoi_name, imagery_list_selected)\n",
    "plt.title(\"Selected images to be downloaded\",{\"fontsize\": 24})"
   ]
  },
  {
   "cell_type": "code",
   "execution_count": null,
   "metadata": {},
   "outputs": [],
   "source": [
    "dry_run = False"
   ]
  },
  {
   "cell_type": "markdown",
   "metadata": {},
   "source": [
    "## Activation"
   ]
  },
  {
   "cell_type": "code",
   "execution_count": null,
   "metadata": {},
   "outputs": [],
   "source": [
    "# loop over features and their assets to activate\n",
    "status_count = {202 : 0, # The request has been accepted and the activation will begin shortly. \n",
    "                204: 0, # The asset is already active and no further action is needed. \n",
    "                401: 0 # The user does not have permissions to download this file.\n",
    "                }\n",
    "\n",
    "assets_get_list = []\n",
    "for assets_url in imagery_list_selected[\"link_assets\"]:\n",
    "    res = session.get(assets_url)\n",
    "    # Assign a variable to the item's assets url response\n",
    "    assets = res.json()\n",
    "    if be_verbose:\n",
    "        print(\"available assets: \" + str(assets.keys()))\n",
    "    # set of assets which are available and desired \n",
    "    assets_available = set(assets.keys()).intersection(set(asset_type))\n",
    "    if be_verbose:\n",
    "        print(\"available and requested assets: \" + str(assets_available))    \n",
    "    # list of assets for which we have permission to download\n",
    "    assets_permitted = [key for key in assets.keys() if (assets[key][\"_permissions\"][0] == \"download\")]\n",
    "    # intersection of both\n",
    "    assets_get = assets_available.intersection(set(assets_permitted))\n",
    "    if be_verbose:\n",
    "        print(\"available, requested and permitted assets: \" + str(assets_get))\n",
    "    # put in list\n",
    "    assets_get_list.append(assets_get)\n",
    "    # if list is not empty:\n",
    "    if (assets_available and not dry_run):\n",
    "        for ass in assets_get:\n",
    "            activation_url = assets[ass][\"_links\"][\"activate\"]\n",
    "            # Send a request to the activation url to activate the item\n",
    "            res_activation = session.get(activation_url)\n",
    "            # update status count\n",
    "            status_count[res_activation.status_code] += 1\n",
    "            # update of list of items to get - unfisnished, not working\n",
    "            #if (res_activation.status_code in [202, 204]):\n",
    "            #    assets_get_list[fCount].append(ass)\n",
    "            \n",
    "p(status_count)           "
   ]
  },
  {
   "cell_type": "markdown",
   "metadata": {},
   "source": [
    "## Download"
   ]
  },
  {
   "cell_type": "code",
   "execution_count": null,
   "metadata": {},
   "outputs": [],
   "source": [
    "# now check status and download once available\n",
    "# note: as the downloading function is serial in nature, so is this loop\n",
    "    \n",
    "if ((status_count[202] + status_count[204]) > 0) and not dry_run:\n",
    "    fIx = 0\n",
    "    for assets_url in imagery_list_selected[\"link_assets\"]:\n",
    "        asset_activated = False\n",
    "        while asset_activated == False:           \n",
    "            res = session.get(assets_url)\n",
    "            # Assign a variable to the item's assets url response\n",
    "            assets = res.json()\n",
    "            for ass in assets_get_list[fIx]:\n",
    "                ass_status = assets[ass][\"status\"]\n",
    "                if ass_status == 'active':\n",
    "                    location_url = assets[ass][\"location\"]\n",
    "                    print(imagery_list_selected.loc[fIx,\"id\"] + \": downloading \" + ass + \"...\")\n",
    "                    download_ass(location_url, data_dir=data_dir)\n",
    "                    # don't forget\n",
    "                    asset_activated = True\n",
    "            # wait a bit before next try\n",
    "            time.sleep(2)\n",
    "        # increment index\n",
    "        fIx += 1    \n",
    "    print(\"done\")\n",
    "else:\n",
    "    if not dry_run:\n",
    "        print(\"no single item could be activated or was already activated\")"
   ]
  },
  {
   "cell_type": "code",
   "execution_count": null,
   "metadata": {},
   "outputs": [],
   "source": [
    "# when done, close session\n",
    "session.close()"
   ]
  }
 ],
 "metadata": {
  "kernelspec": {
   "display_name": "Python 3",
   "language": "python",
   "name": "python3"
  },
  "language_info": {
   "codemirror_mode": {
    "name": "ipython",
    "version": 3
   },
   "file_extension": ".py",
   "mimetype": "text/x-python",
   "name": "python",
   "nbconvert_exporter": "python",
   "pygments_lexer": "ipython3",
   "version": "3.6.6"
  }
 },
 "nbformat": 4,
 "nbformat_minor": 1
}
