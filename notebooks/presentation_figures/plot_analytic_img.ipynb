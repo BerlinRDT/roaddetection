{
 "cells": [
  {
   "cell_type": "markdown",
   "metadata": {},
   "source": [
    "# Convert analytic satellite image, plot and save figure\n",
    "Exemplary code showing usage of function convert_sat_img"
   ]
  },
  {
   "cell_type": "code",
   "execution_count": null,
   "metadata": {},
   "outputs": [],
   "source": [
    "import sys\n",
    "sys.path.append(\"/mnt/hd_internal/hh/projects_DS/road_detection/roaddetection\")\n",
    "import numpy as np\n",
    "import pandas as pd\n",
    "import rasterio \n",
    "from src.data.satimg import convert_sat_img, define_band_colors, get_band_properties\n",
    "from matplotlib import pyplot as plt\n",
    "import os\n",
    "%load_ext autoreload\n",
    "%autoreload 2\n",
    "%matplotlib inline"
   ]
  },
  {
   "cell_type": "markdown",
   "metadata": {},
   "source": [
    "## User settings"
   ]
  },
  {
   "cell_type": "code",
   "execution_count": null,
   "metadata": {},
   "outputs": [],
   "source": [
    "# source path\n",
    "img_source_dir = \"/mnt/hd_internal/_data_DS/roaddetection/_reservoir/satelliteImages/Borneo/3093/\"\n",
    "# source file name\n",
    "img_source_fn = \"20180427_020348_103a_3B_AnalyticMS.tif\"\n",
    "# type of file (ordering of bands)\n",
    "src_type = \"BGRN\"\n",
    "# row and column indexes of excerpt\n",
    "r1, r2, c1, c2 = 1000, 1700, 4000, 4800\n",
    "#r1, r2, c1, c2 = 500, 2700, 3000, 4800\n",
    "\n",
    "# output format of graphics file (set to None to suppress)\n",
    "img_out_format = \"png\"\n",
    "img_out_format = None\n",
    "\n",
    "img_out_dir = \"/mnt/hd_internal/hh/projects_DS/road_detection/presentations/images/\"\n",
    "img_out_fn = \"exemplary_scene_Borneo_01\"\n",
    "\n",
    "# input args for convert_sat_img:\n",
    "# - set to True if PCA-based false color images are to be computed and displayed\n",
    "pca = True\n",
    "# list all types of scaling that are supposed to take place\n",
    "scaling_type = [\"percentile\", \"equalize_adapthist\"]\n",
    "#scaling_type = [\"percentile\"]\n",
    "#scaling_type = [\"equalize_adapthist\"]\n",
    "\n",
    "do_scale_bands_separate = True\n",
    "# percentile; values above it will be clipped if method \"percentile\" is in scaling_type\n",
    "percentile=99.9\n",
    "# clip limit for equalize_adapthist - default 0.03; the higher the value, the brighter the image\n",
    "clip_limit=0.01\n",
    "\n",
    "# graphics defaults\n",
    "figsize = (10,10)\n",
    "plt.rcParams[\"figure.figsize\"] = figsize"
   ]
  },
  {
   "cell_type": "code",
   "execution_count": null,
   "metadata": {},
   "outputs": [],
   "source": [
    "# open dataset\n",
    "src = rasterio.open(os.path.join(img_source_dir, img_source_fn))\n",
    "# read all data into numpy array; notes:\n",
    "# - the bands are in the first dimension\n",
    "# - we might also read using a window\n",
    "# - reading the image as a masked array does not make sense because function convert_sat_img\n",
    "#   uses sklearn for image manipulation, which ignores masked arrays, hence we need the\n",
    "#   an explicit mask array\n",
    "img_full = src.read(masked=False)\n",
    "mask_full = src.read_masks()"
   ]
  },
  {
   "cell_type": "code",
   "execution_count": null,
   "metadata": {
    "scrolled": true
   },
   "outputs": [],
   "source": [
    "# cut down to desired excerpt\n",
    "img_arr = img_full[:, r1:r2, c1:c2]\n",
    "if mask_full is not None:\n",
    "    mask_arr = mask_full[:, r1:r2, c1:c2]\n",
    "else:\n",
    "    mask_arr = None"
   ]
  },
  {
   "cell_type": "code",
   "execution_count": null,
   "metadata": {
    "scrolled": true
   },
   "outputs": [],
   "source": [
    "# inspect properties of bands in image\n",
    "band_info = get_band_properties(src, src_type, define_band_colors())\n",
    "band_info"
   ]
  },
  {
   "cell_type": "code",
   "execution_count": null,
   "metadata": {
    "scrolled": false
   },
   "outputs": [],
   "source": [
    "# call conversion function with histogram plotting functionality on\n",
    "if pca:\n",
    "    img_rgb, img_n, img_nrg, img_npc, pca = convert_sat_img(img_arr, src,\n",
    "                                                            src_type=src_type,\n",
    "                                                            mask_arr=mask_arr,\n",
    "                                                            pca=pca,\n",
    "                                                            scaling_type=scaling_type, \n",
    "                                                            do_scale_bands_separate=do_scale_bands_separate,\n",
    "                                                            percentile=percentile,\n",
    "                                                            clip_limit=clip_limit,\n",
    "                                                            do_histogram=True)\n",
    "else:\n",
    "    img_rgb, img_n, img_nrg = convert_sat_img(img_arr, src,\n",
    "                                            src_type=src_type,\n",
    "                                            mask_arr=mask_arr,\n",
    "                                            pca=pca,\n",
    "                                            scaling_type=scaling_type, \n",
    "                                            do_scale_bands_separate=do_scale_bands_separate,\n",
    "                                            percentile=percentile,\n",
    "                                            clip_limit=clip_limit,\n",
    "                                            do_histogram=True)"
   ]
  },
  {
   "cell_type": "code",
   "execution_count": null,
   "metadata": {
    "scrolled": false
   },
   "outputs": [],
   "source": [
    "# plot rgb image\n",
    "figH = plt.figure(figsize=figsize)\n",
    "axH = plt.axes()\n",
    "plt.imshow(img_rgb)\n",
    "axH.axis(\"off\");\n",
    "if img_out_format:\n",
    "    plt.savefig(os.path.join(img_out_dir, img_out_fn + \".\" + img_out_format), orientation='portrait')"
   ]
  },
  {
   "cell_type": "code",
   "execution_count": null,
   "metadata": {
    "scrolled": false
   },
   "outputs": [],
   "source": [
    "# plot infrared band only\n",
    "fig = plt.figure(figsize=figsize)\n",
    "axH = plt.axes()\n",
    "plt.imshow(img_n, cmap=\"gray\")\n",
    "axH.axis(\"off\");\n",
    "    "
   ]
  },
  {
   "cell_type": "code",
   "execution_count": null,
   "metadata": {
    "scrolled": false
   },
   "outputs": [],
   "source": [
    "# plot NRG image (infrared appears red, red as green, and green as blue)\n",
    "fig = plt.figure(figsize=figsize)\n",
    "axH = plt.axes()\n",
    "plt.imshow(img_nrg)\n",
    "axH.axis(\"off\");\n",
    "if img_out_format:\n",
    "    plt.savefig(os.path.join(img_out_dir, img_out_fn + \"_falsecolor.\" + img_out_format), orientation='portrait')"
   ]
  },
  {
   "cell_type": "code",
   "execution_count": null,
   "metadata": {},
   "outputs": [],
   "source": [
    "# plot grayscale image of first principal component\n",
    "if pca:\n",
    "    figH = plt.figure(figsize=figsize)\n",
    "    axH = plt.axes()\n",
    "    plt.imshow(img_npc[:,:,0], cmap=\"gray\")\n",
    "    axH.axis(\"off\");\n",
    "    if img_out_format:\n",
    "        plt.savefig(os.path.join(img_out_dir, img_out_fn + \"_pca1\" + \".\" + img_out_format), orientation='portrait')"
   ]
  },
  {
   "cell_type": "code",
   "execution_count": null,
   "metadata": {},
   "outputs": [],
   "source": [
    "# plot PCA-based false-color image\n",
    "if pca:\n",
    "    figH = plt.figure(figsize=figsize)\n",
    "    axH = plt.axes()\n",
    "    plt.imshow(img_npc)\n",
    "    axH.axis(\"off\");\n",
    "    if img_out_format:\n",
    "        plt.savefig(os.path.join(img_out_dir, img_out_fn + \"_pca\" + \".\" + img_out_format), orientation='portrait')"
   ]
  },
  {
   "cell_type": "code",
   "execution_count": null,
   "metadata": {},
   "outputs": [],
   "source": [
    "# produce PCA-based false-color image of another excerpt, but using the same PC\n",
    "# as computed above\n",
    "if pca:\n",
    "    _, _, _, img_npc_other, _ = convert_sat_img(img_full[:, r2:r2+800, c1+400:c2+400], src,\n",
    "                                                src_type=src_type,\n",
    "                                                mask_arr=mask_full[:, r2:r2+800, c1+400:c2+400],\n",
    "                                                pca=pca,\n",
    "                                                scaling_type=scaling_type, \n",
    "                                                do_scale_bands_separate=do_scale_bands_separate,\n",
    "                                                percentile=percentile,\n",
    "                                                clip_limit=clip_limit)\n",
    "\n",
    "    figH = plt.figure(figsize=figsize)\n",
    "    axH = plt.axes()\n",
    "    plt.imshow(img_npc_other)\n",
    "    axH.axis(\"off\");\n",
    "    if img_out_format:\n",
    "        plt.savefig(os.path.join(img_out_dir, img_out_fn + \"_pca_other\" + \".\" + img_out_format), orientation='portrait')"
   ]
  }
 ],
 "metadata": {
  "kernelspec": {
   "display_name": "Python 3",
   "language": "python",
   "name": "python3"
  },
  "language_info": {
   "codemirror_mode": {
    "name": "ipython",
    "version": 3
   },
   "file_extension": ".py",
   "mimetype": "text/x-python",
   "name": "python",
   "nbconvert_exporter": "python",
   "pygments_lexer": "ipython3",
   "version": "3.7.3"
  }
 },
 "nbformat": 4,
 "nbformat_minor": 2
}
