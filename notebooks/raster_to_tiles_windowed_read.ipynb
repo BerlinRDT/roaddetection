{
 "cells": [
  {
   "cell_type": "code",
   "execution_count": 166,
   "metadata": {},
   "outputs": [],
   "source": [
    "from pathlib import Path\n",
    "import os\n",
    "\n",
    "import rasterio as rio\n",
    "from rasterio import windows\n",
    "import rasterio.plot as rioplot\n",
    "from itertools import product\n",
    "%matplotlib inline "
   ]
  },
  {
   "cell_type": "code",
   "execution_count": 167,
   "metadata": {},
   "outputs": [],
   "source": [
    "DST_CRS = 'EPSG:4326'\n",
    "TRAINING_DIR = '../data/train'\n",
    "input_filepath = '../data/raw/images'\n",
    "window_size = 1500\n",
    "output_filename = '{}/tile_{}-{}.tif'"
   ]
  },
  {
   "cell_type": "code",
   "execution_count": 168,
   "metadata": {},
   "outputs": [],
   "source": [
    "def make_tiles(file):\n",
    "    with rasterio.open(file, crs=DST_CRS) as inds:\n",
    "          tile_width, tile_height = window_size, window_size\n",
    "          meta = inds.meta.copy()\n",
    "          for window, transform in get_tiles(inds):\n",
    "            print(window)\n",
    "            meta['transform'] = transform\n",
    "            meta['width'], meta['height'] = window.width, window.height\n",
    "            outpath = output_filename.format(TRAINING_DIR,int(window.col_off),int(window.row_off))\n",
    "            with rio.open(outpath, 'w', **meta) as outds:\n",
    "                outds.write(inds.read(window=window))"
   ]
  },
  {
   "cell_type": "code",
   "execution_count": 169,
   "metadata": {},
   "outputs": [],
   "source": [
    "def get_tiles(ds, width=window_size, height=window_size):\n",
    "    nols, nrows = ds.meta['width'], ds.meta['height']\n",
    "    offsets = product(range(0, nols, width), range(0, nrows, height))\n",
    "    big_window = windows.Window(col_off=0, row_off=0, width=nols, height=nrows)\n",
    "    for col_off, row_off in  offsets:\n",
    "        window =windows.Window(col_off=col_off, row_off=row_off, width=width, height=height).intersection(big_window)\n",
    "        transform = windows.transform(window, ds.transform)\n",
    "        yield window, transform"
   ]
  },
  {
   "cell_type": "code",
   "execution_count": null,
   "metadata": {},
   "outputs": [],
   "source": []
  },
  {
   "cell_type": "code",
   "execution_count": 170,
   "metadata": {},
   "outputs": [
    {
     "name": "stdout",
     "output_type": "stream",
     "text": [
      "Window(col_off=0, row_off=0, width=1500, height=1500)\n",
      "Window(col_off=0, row_off=1500, width=1500, height=1500)\n",
      "Window(col_off=0, row_off=3000, width=1500, height=1405)\n",
      "Window(col_off=1500, row_off=0, width=1500, height=1500)\n",
      "Window(col_off=1500, row_off=1500, width=1500, height=1500)\n",
      "Window(col_off=1500, row_off=3000, width=1500, height=1405)\n",
      "Window(col_off=3000, row_off=0, width=1500, height=1500)\n",
      "Window(col_off=3000, row_off=1500, width=1500, height=1500)\n",
      "Window(col_off=3000, row_off=3000, width=1500, height=1405)\n",
      "Window(col_off=4500, row_off=0, width=1500, height=1500)\n",
      "Window(col_off=4500, row_off=1500, width=1500, height=1500)\n",
      "Window(col_off=4500, row_off=3000, width=1500, height=1405)\n",
      "Window(col_off=6000, row_off=0, width=1500, height=1500)\n",
      "Window(col_off=6000, row_off=1500, width=1500, height=1500)\n",
      "Window(col_off=6000, row_off=3000, width=1500, height=1405)\n",
      "Window(col_off=7500, row_off=0, width=1500, height=1500)\n",
      "Window(col_off=7500, row_off=1500, width=1500, height=1500)\n",
      "Window(col_off=7500, row_off=3000, width=1500, height=1405)\n",
      "Window(col_off=9000, row_off=0, width=27, height=1500)\n",
      "Window(col_off=9000, row_off=1500, width=27, height=1500)\n",
      "Window(col_off=9000, row_off=3000, width=27, height=1405)\n"
     ]
    }
   ],
   "source": [
    "n = 0\n",
    "for file in Path(input_filepath).iterdir():\n",
    "    make_tiles(file)\n",
    "    n=n+1\n",
    "    if n >= 1:\n",
    "        break"
   ]
  }
 ],
 "metadata": {
  "kernelspec": {
   "display_name": "Python 3",
   "language": "python",
   "name": "python3"
  },
  "language_info": {
   "codemirror_mode": {
    "name": "ipython",
    "version": 3
   },
   "file_extension": ".py",
   "mimetype": "text/x-python",
   "name": "python",
   "nbconvert_exporter": "python",
   "pygments_lexer": "ipython3",
   "version": "3.6.5"
  }
 },
 "nbformat": 4,
 "nbformat_minor": 2
}
